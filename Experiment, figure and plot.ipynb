{
 "cells": [
  {
   "cell_type": "markdown",
   "id": "9b17cdcb",
   "metadata": {},
   "source": [
    "## Setting Environment"
   ]
  },
  {
   "cell_type": "code",
   "execution_count": 17,
   "id": "9bfe4e7e",
   "metadata": {},
   "outputs": [],
   "source": [
    "import csv, math, random, statistics\n",
    "from sklearn.preprocessing import StandardScaler, MinMaxScaler\n",
    "from sklearn.linear_model import LassoCV, LogisticRegression, Lasso\n",
    "from sklearn.metrics import classification_report, roc_auc_score, roc_curve, confusion_matrix, precision_recall_fscore_support, fbeta_score\n",
    "import matplotlib.pyplot as plt\n",
    "import seaborn as sns\n",
    "import pandas as pd\n",
    "import numpy as np\n",
    "import pygad\n",
    "from tqdm.notebook import tqdm\n",
    "import time\n",
    "\n",
    "from sklearn.metrics import precision_recall_curve\n",
    "import warnings\n",
    "warnings.filterwarnings('ignore')\n",
    "\n",
    "######################\n",
    "### Experiment paramter\n",
    "######################\n",
    "\n",
    "M = 10                  # Marco-Replications\n",
    "N = 10                  # Undersamples\n",
    "K = 10                  # post-replication\n",
    "R = 2                   # Ratio of defects:non-defects (1:p)\n",
    "BETA_LIST = [1,2,3,4]   # Beta values for F-scores\n",
    "R_0 = 54                # Imbalance ratio\n",
    "\n",
    "np.random.seed(123)\n",
    "SEED_M = np.random.choice(range(1000), M)\n",
    "\n",
    "######################\n",
    "### LASSO paramter\n",
    "######################\n",
    "alphaGrid = [0.01, 0.1, 1]\n",
    "tol = 1e-2\n",
    "\n",
    "######################\n",
    "### GA paramter\n",
    "######################\n",
    "POP_SIZE = 10           # GA Parameter: Population Size\n",
    "P_CROSSOVER = 0.8       # GA Parameter: Probability of a Crossover\n",
    "P_MUTATION = 0.2        # GA Parameter: Probability of a Mutation\n",
    "MAX_ITER = 30           # GA Parameter: Maximum Iterations\n",
    "\n",
    "######################\n",
    "### cut off value for feature selection\n",
    "######################\n",
    "q = 0.33\n",
    "\n",
    "EN_threshold = q\n",
    "SOEN_threshold = q\n",
    "\n",
    "def optimalThreshold_Gmeans(yTest, yPredProba):\n",
    "    \n",
    "    fpr, tpr, thresholds = roc_curve(yTest, yPredProba)\n",
    "    gmeans = np.sqrt(tpr * (1-fpr))\n",
    "    optThreshIndex = gmeans.argmax()\n",
    "    optThresh = thresholds[optThreshIndex]\n",
    "    return optThresh"
   ]
  },
  {
   "cell_type": "markdown",
   "id": "e58b1735",
   "metadata": {},
   "source": [
    "## Load Dataset"
   ]
  },
  {
   "cell_type": "code",
   "execution_count": 18,
   "id": "bc483c46",
   "metadata": {},
   "outputs": [
    {
     "data": {
      "text/html": [
       "<div>\n",
       "<style scoped>\n",
       "    .dataframe tbody tr th:only-of-type {\n",
       "        vertical-align: middle;\n",
       "    }\n",
       "\n",
       "    .dataframe tbody tr th {\n",
       "        vertical-align: top;\n",
       "    }\n",
       "\n",
       "    .dataframe thead th {\n",
       "        text-align: right;\n",
       "    }\n",
       "</style>\n",
       "<table border=\"1\" class=\"dataframe\">\n",
       "  <thead>\n",
       "    <tr style=\"text-align: right;\">\n",
       "      <th></th>\n",
       "      <th>y</th>\n",
       "      <th>PreHeat_SDC_gt40_Count_Last</th>\n",
       "      <th>PreHeat_SDC_gt40_Count_Last2</th>\n",
       "      <th>PreHeat_SDC_gt40_Count_Last5</th>\n",
       "      <th>PreHeat_SDC_gt40_Binary_Last</th>\n",
       "      <th>PreHeat_SDC_gt40_Binary_Last2</th>\n",
       "      <th>PreHeat_SDC_gt40_Binary_Last5</th>\n",
       "      <th>Melt_SDC_gt40_Count_Last</th>\n",
       "      <th>Melt_SDC_gt40_Count_Last2</th>\n",
       "      <th>Melt_SDC_gt40_Count_Last5</th>\n",
       "      <th>...</th>\n",
       "      <th>BVG_max_Last</th>\n",
       "      <th>BVG_max_Last2</th>\n",
       "      <th>BVG_max_Last5</th>\n",
       "      <th>BVG_min_Last</th>\n",
       "      <th>BVG_min_Last2</th>\n",
       "      <th>BVG_min_Last5</th>\n",
       "      <th>BVG_Mean_Last</th>\n",
       "      <th>BVG_Mean_Last2</th>\n",
       "      <th>BVG_Mean_Last5</th>\n",
       "      <th>BVG_Var_Last</th>\n",
       "    </tr>\n",
       "  </thead>\n",
       "  <tbody>\n",
       "    <tr>\n",
       "      <th>0</th>\n",
       "      <td>0</td>\n",
       "      <td>0.2</td>\n",
       "      <td>0.285714</td>\n",
       "      <td>0.454545</td>\n",
       "      <td>1.0</td>\n",
       "      <td>1.0</td>\n",
       "      <td>1.0</td>\n",
       "      <td>0.125</td>\n",
       "      <td>0.250000</td>\n",
       "      <td>0.434783</td>\n",
       "      <td>...</td>\n",
       "      <td>0.333333</td>\n",
       "      <td>0.333333</td>\n",
       "      <td>0.333333</td>\n",
       "      <td>0.763127</td>\n",
       "      <td>0.763127</td>\n",
       "      <td>0.763127</td>\n",
       "      <td>0.541317</td>\n",
       "      <td>0.849509</td>\n",
       "      <td>0.629270</td>\n",
       "      <td>0.012871</td>\n",
       "    </tr>\n",
       "    <tr>\n",
       "      <th>1</th>\n",
       "      <td>0</td>\n",
       "      <td>0.0</td>\n",
       "      <td>0.142857</td>\n",
       "      <td>0.363636</td>\n",
       "      <td>0.0</td>\n",
       "      <td>1.0</td>\n",
       "      <td>1.0</td>\n",
       "      <td>0.125</td>\n",
       "      <td>0.166667</td>\n",
       "      <td>0.391304</td>\n",
       "      <td>...</td>\n",
       "      <td>0.333333</td>\n",
       "      <td>0.333333</td>\n",
       "      <td>0.333333</td>\n",
       "      <td>0.763127</td>\n",
       "      <td>0.763127</td>\n",
       "      <td>0.763127</td>\n",
       "      <td>0.540021</td>\n",
       "      <td>0.849432</td>\n",
       "      <td>0.650682</td>\n",
       "      <td>0.013476</td>\n",
       "    </tr>\n",
       "    <tr>\n",
       "      <th>2</th>\n",
       "      <td>0</td>\n",
       "      <td>0.0</td>\n",
       "      <td>0.000000</td>\n",
       "      <td>0.272727</td>\n",
       "      <td>0.0</td>\n",
       "      <td>0.0</td>\n",
       "      <td>1.0</td>\n",
       "      <td>0.375</td>\n",
       "      <td>0.333333</td>\n",
       "      <td>0.478261</td>\n",
       "      <td>...</td>\n",
       "      <td>0.333333</td>\n",
       "      <td>0.333333</td>\n",
       "      <td>0.333333</td>\n",
       "      <td>0.763127</td>\n",
       "      <td>0.763127</td>\n",
       "      <td>0.763127</td>\n",
       "      <td>0.525964</td>\n",
       "      <td>0.846793</td>\n",
       "      <td>0.648757</td>\n",
       "      <td>0.016032</td>\n",
       "    </tr>\n",
       "    <tr>\n",
       "      <th>3</th>\n",
       "      <td>0</td>\n",
       "      <td>0.0</td>\n",
       "      <td>0.000000</td>\n",
       "      <td>0.181818</td>\n",
       "      <td>0.0</td>\n",
       "      <td>0.0</td>\n",
       "      <td>1.0</td>\n",
       "      <td>0.125</td>\n",
       "      <td>0.333333</td>\n",
       "      <td>0.304348</td>\n",
       "      <td>...</td>\n",
       "      <td>0.333333</td>\n",
       "      <td>0.333333</td>\n",
       "      <td>0.333333</td>\n",
       "      <td>0.763127</td>\n",
       "      <td>0.763127</td>\n",
       "      <td>0.763127</td>\n",
       "      <td>0.528180</td>\n",
       "      <td>0.844873</td>\n",
       "      <td>0.646049</td>\n",
       "      <td>0.015741</td>\n",
       "    </tr>\n",
       "    <tr>\n",
       "      <th>4</th>\n",
       "      <td>0</td>\n",
       "      <td>0.0</td>\n",
       "      <td>0.000000</td>\n",
       "      <td>0.090909</td>\n",
       "      <td>0.0</td>\n",
       "      <td>0.0</td>\n",
       "      <td>1.0</td>\n",
       "      <td>0.125</td>\n",
       "      <td>0.166667</td>\n",
       "      <td>0.260870</td>\n",
       "      <td>...</td>\n",
       "      <td>0.333333</td>\n",
       "      <td>0.333333</td>\n",
       "      <td>0.333333</td>\n",
       "      <td>0.763127</td>\n",
       "      <td>0.763127</td>\n",
       "      <td>0.763127</td>\n",
       "      <td>0.520723</td>\n",
       "      <td>0.844016</td>\n",
       "      <td>0.642860</td>\n",
       "      <td>0.016963</td>\n",
       "    </tr>\n",
       "  </tbody>\n",
       "</table>\n",
       "<p>5 rows × 285 columns</p>\n",
       "</div>"
      ],
      "text/plain": [
       "   y  PreHeat_SDC_gt40_Count_Last  PreHeat_SDC_gt40_Count_Last2  \\\n",
       "0  0                          0.2                      0.285714   \n",
       "1  0                          0.0                      0.142857   \n",
       "2  0                          0.0                      0.000000   \n",
       "3  0                          0.0                      0.000000   \n",
       "4  0                          0.0                      0.000000   \n",
       "\n",
       "   PreHeat_SDC_gt40_Count_Last5  PreHeat_SDC_gt40_Binary_Last  \\\n",
       "0                      0.454545                           1.0   \n",
       "1                      0.363636                           0.0   \n",
       "2                      0.272727                           0.0   \n",
       "3                      0.181818                           0.0   \n",
       "4                      0.090909                           0.0   \n",
       "\n",
       "   PreHeat_SDC_gt40_Binary_Last2  PreHeat_SDC_gt40_Binary_Last5  \\\n",
       "0                            1.0                            1.0   \n",
       "1                            1.0                            1.0   \n",
       "2                            0.0                            1.0   \n",
       "3                            0.0                            1.0   \n",
       "4                            0.0                            1.0   \n",
       "\n",
       "   Melt_SDC_gt40_Count_Last  Melt_SDC_gt40_Count_Last2  \\\n",
       "0                     0.125                   0.250000   \n",
       "1                     0.125                   0.166667   \n",
       "2                     0.375                   0.333333   \n",
       "3                     0.125                   0.333333   \n",
       "4                     0.125                   0.166667   \n",
       "\n",
       "   Melt_SDC_gt40_Count_Last5  ...  BVG_max_Last  BVG_max_Last2  BVG_max_Last5  \\\n",
       "0                   0.434783  ...      0.333333       0.333333       0.333333   \n",
       "1                   0.391304  ...      0.333333       0.333333       0.333333   \n",
       "2                   0.478261  ...      0.333333       0.333333       0.333333   \n",
       "3                   0.304348  ...      0.333333       0.333333       0.333333   \n",
       "4                   0.260870  ...      0.333333       0.333333       0.333333   \n",
       "\n",
       "   BVG_min_Last  BVG_min_Last2  BVG_min_Last5  BVG_Mean_Last  BVG_Mean_Last2  \\\n",
       "0      0.763127       0.763127       0.763127       0.541317        0.849509   \n",
       "1      0.763127       0.763127       0.763127       0.540021        0.849432   \n",
       "2      0.763127       0.763127       0.763127       0.525964        0.846793   \n",
       "3      0.763127       0.763127       0.763127       0.528180        0.844873   \n",
       "4      0.763127       0.763127       0.763127       0.520723        0.844016   \n",
       "\n",
       "   BVG_Mean_Last5  BVG_Var_Last  \n",
       "0        0.629270      0.012871  \n",
       "1        0.650682      0.013476  \n",
       "2        0.648757      0.016032  \n",
       "3        0.646049      0.015741  \n",
       "4        0.642860      0.016963  \n",
       "\n",
       "[5 rows x 285 columns]"
      ]
     },
     "execution_count": 18,
     "metadata": {},
     "output_type": "execute_result"
    }
   ],
   "source": [
    "temp_data = pd.read_csv(\"Modeling_Dataset_2.csv\", sep = \",\")\n",
    "layerDF = pd.DataFrame(data = temp_data.values, columns = temp_data.columns)\n",
    "layerDF.rename(columns = {\"Response\": \"y\"}, inplace = True)\n",
    "layerDF = layerDF.iloc[:,1:] # drop ID\n",
    "sc = MinMaxScaler()\n",
    "layerDF.iloc[:,1:] = sc.fit_transform(layerDF.iloc[:,1:])\n",
    "layerDF = layerDF[layerDF.columns[(layerDF.var() != 0).values]]\n",
    "var_list = layerDF.columns[1:]\n",
    "layerDF[var_list] = layerDF[var_list].astype(\"float\")\n",
    "layerDF.head()"
   ]
  },
  {
   "cell_type": "markdown",
   "id": "c6b02fe0",
   "metadata": {},
   "source": [
    "## Table-1 (~ 30 sec)"
   ]
  },
  {
   "cell_type": "code",
   "execution_count": 19,
   "id": "e0043002",
   "metadata": {},
   "outputs": [
    {
     "data": {
      "text/html": [
       "<div>\n",
       "<style scoped>\n",
       "    .dataframe tbody tr th:only-of-type {\n",
       "        vertical-align: middle;\n",
       "    }\n",
       "\n",
       "    .dataframe tbody tr th {\n",
       "        vertical-align: top;\n",
       "    }\n",
       "\n",
       "    .dataframe thead th {\n",
       "        text-align: right;\n",
       "    }\n",
       "</style>\n",
       "<table border=\"1\" class=\"dataframe\">\n",
       "  <thead>\n",
       "    <tr style=\"text-align: right;\">\n",
       "      <th></th>\n",
       "      <th>Recall</th>\n",
       "      <th>Precision</th>\n",
       "      <th>F-score (beta = 1)</th>\n",
       "      <th>F-score (beta = 2)</th>\n",
       "      <th>F-score (beta = 3)</th>\n",
       "      <th>F-score (beta = 4)</th>\n",
       "    </tr>\n",
       "  </thead>\n",
       "  <tbody>\n",
       "    <tr>\n",
       "      <th>Linear SVM</th>\n",
       "      <td>0.0667</td>\n",
       "      <td>0.0400</td>\n",
       "      <td>0.0500</td>\n",
       "      <td>0.0588</td>\n",
       "      <td>0.0625</td>\n",
       "      <td>0.0642</td>\n",
       "    </tr>\n",
       "    <tr>\n",
       "      <th>RBF SVM</th>\n",
       "      <td>0.1333</td>\n",
       "      <td>0.2182</td>\n",
       "      <td>0.1286</td>\n",
       "      <td>0.1204</td>\n",
       "      <td>0.1241</td>\n",
       "      <td>0.1270</td>\n",
       "    </tr>\n",
       "    <tr>\n",
       "      <th>KNN</th>\n",
       "      <td>0.4000</td>\n",
       "      <td>0.2242</td>\n",
       "      <td>0.2040</td>\n",
       "      <td>0.2294</td>\n",
       "      <td>0.2664</td>\n",
       "      <td>0.2974</td>\n",
       "    </tr>\n",
       "    <tr>\n",
       "      <th>Decision Tree</th>\n",
       "      <td>0.0667</td>\n",
       "      <td>0.0083</td>\n",
       "      <td>0.0148</td>\n",
       "      <td>0.0278</td>\n",
       "      <td>0.0392</td>\n",
       "      <td>0.0472</td>\n",
       "    </tr>\n",
       "    <tr>\n",
       "      <th>AdaBoost</th>\n",
       "      <td>0.0667</td>\n",
       "      <td>0.0036</td>\n",
       "      <td>0.0069</td>\n",
       "      <td>0.0149</td>\n",
       "      <td>0.0244</td>\n",
       "      <td>0.0330</td>\n",
       "    </tr>\n",
       "    <tr>\n",
       "      <th>Random Forest</th>\n",
       "      <td>0.0000</td>\n",
       "      <td>0.0000</td>\n",
       "      <td>0.0000</td>\n",
       "      <td>0.0000</td>\n",
       "      <td>0.0000</td>\n",
       "      <td>0.0000</td>\n",
       "    </tr>\n",
       "    <tr>\n",
       "      <th>ExtraTrees</th>\n",
       "      <td>0.0000</td>\n",
       "      <td>0.0000</td>\n",
       "      <td>0.0000</td>\n",
       "      <td>0.0000</td>\n",
       "      <td>0.0000</td>\n",
       "      <td>0.0000</td>\n",
       "    </tr>\n",
       "    <tr>\n",
       "      <th>Gaussian Process</th>\n",
       "      <td>0.2667</td>\n",
       "      <td>0.2322</td>\n",
       "      <td>0.1555</td>\n",
       "      <td>0.1748</td>\n",
       "      <td>0.2029</td>\n",
       "      <td>0.2224</td>\n",
       "    </tr>\n",
       "    <tr>\n",
       "      <th>Naive Bayes</th>\n",
       "      <td>0.4000</td>\n",
       "      <td>0.2445</td>\n",
       "      <td>0.1724</td>\n",
       "      <td>0.2009</td>\n",
       "      <td>0.2432</td>\n",
       "      <td>0.2791</td>\n",
       "    </tr>\n",
       "    <tr>\n",
       "      <th>QDA</th>\n",
       "      <td>0.0000</td>\n",
       "      <td>0.0000</td>\n",
       "      <td>0.0000</td>\n",
       "      <td>0.0000</td>\n",
       "      <td>0.0000</td>\n",
       "      <td>0.0000</td>\n",
       "    </tr>\n",
       "    <tr>\n",
       "      <th>Neural Net</th>\n",
       "      <td>0.0667</td>\n",
       "      <td>0.0400</td>\n",
       "      <td>0.0500</td>\n",
       "      <td>0.0588</td>\n",
       "      <td>0.0625</td>\n",
       "      <td>0.0642</td>\n",
       "    </tr>\n",
       "    <tr>\n",
       "      <th>LightGBM</th>\n",
       "      <td>0.0667</td>\n",
       "      <td>0.0029</td>\n",
       "      <td>0.0056</td>\n",
       "      <td>0.0123</td>\n",
       "      <td>0.0208</td>\n",
       "      <td>0.0291</td>\n",
       "    </tr>\n",
       "    <tr>\n",
       "      <th>Logistic Regression</th>\n",
       "      <td>0.1333</td>\n",
       "      <td>0.0917</td>\n",
       "      <td>0.1030</td>\n",
       "      <td>0.1167</td>\n",
       "      <td>0.1238</td>\n",
       "      <td>0.1274</td>\n",
       "    </tr>\n",
       "    <tr>\n",
       "      <th>LASSO</th>\n",
       "      <td>0.4667</td>\n",
       "      <td>0.2764</td>\n",
       "      <td>0.2193</td>\n",
       "      <td>0.2682</td>\n",
       "      <td>0.3208</td>\n",
       "      <td>0.3593</td>\n",
       "    </tr>\n",
       "    <tr>\n",
       "      <th>RIDGE</th>\n",
       "      <td>0.0000</td>\n",
       "      <td>0.0000</td>\n",
       "      <td>0.0000</td>\n",
       "      <td>0.0000</td>\n",
       "      <td>0.0000</td>\n",
       "      <td>0.0000</td>\n",
       "    </tr>\n",
       "  </tbody>\n",
       "</table>\n",
       "</div>"
      ],
      "text/plain": [
       "                     Recall  Precision  F-score (beta = 1)  \\\n",
       "Linear SVM           0.0667     0.0400              0.0500   \n",
       "RBF SVM              0.1333     0.2182              0.1286   \n",
       "KNN                  0.4000     0.2242              0.2040   \n",
       "Decision Tree        0.0667     0.0083              0.0148   \n",
       "AdaBoost             0.0667     0.0036              0.0069   \n",
       "Random Forest        0.0000     0.0000              0.0000   \n",
       "ExtraTrees           0.0000     0.0000              0.0000   \n",
       "Gaussian Process     0.2667     0.2322              0.1555   \n",
       "Naive Bayes          0.4000     0.2445              0.1724   \n",
       "QDA                  0.0000     0.0000              0.0000   \n",
       "Neural Net           0.0667     0.0400              0.0500   \n",
       "LightGBM             0.0667     0.0029              0.0056   \n",
       "Logistic Regression  0.1333     0.0917              0.1030   \n",
       "LASSO                0.4667     0.2764              0.2193   \n",
       "RIDGE                0.0000     0.0000              0.0000   \n",
       "\n",
       "                     F-score (beta = 2)  F-score (beta = 3)  \\\n",
       "Linear SVM                       0.0588              0.0625   \n",
       "RBF SVM                          0.1204              0.1241   \n",
       "KNN                              0.2294              0.2664   \n",
       "Decision Tree                    0.0278              0.0392   \n",
       "AdaBoost                         0.0149              0.0244   \n",
       "Random Forest                    0.0000              0.0000   \n",
       "ExtraTrees                       0.0000              0.0000   \n",
       "Gaussian Process                 0.1748              0.2029   \n",
       "Naive Bayes                      0.2009              0.2432   \n",
       "QDA                              0.0000              0.0000   \n",
       "Neural Net                       0.0588              0.0625   \n",
       "LightGBM                         0.0123              0.0208   \n",
       "Logistic Regression              0.1167              0.1238   \n",
       "LASSO                            0.2682              0.3208   \n",
       "RIDGE                            0.0000              0.0000   \n",
       "\n",
       "                     F-score (beta = 4)  \n",
       "Linear SVM                       0.0642  \n",
       "RBF SVM                          0.1270  \n",
       "KNN                              0.2974  \n",
       "Decision Tree                    0.0472  \n",
       "AdaBoost                         0.0330  \n",
       "Random Forest                    0.0000  \n",
       "ExtraTrees                       0.0000  \n",
       "Gaussian Process                 0.2224  \n",
       "Naive Bayes                      0.2791  \n",
       "QDA                              0.0000  \n",
       "Neural Net                       0.0642  \n",
       "LightGBM                         0.0291  \n",
       "Logistic Regression              0.1274  \n",
       "LASSO                            0.3593  \n",
       "RIDGE                            0.0000  "
      ]
     },
     "execution_count": 19,
     "metadata": {},
     "output_type": "execute_result"
    }
   ],
   "source": [
    "from sklearn.neural_network import MLPClassifier\n",
    "from sklearn.neighbors import KNeighborsClassifier\n",
    "from sklearn.svm import SVC\n",
    "from sklearn.gaussian_process import GaussianProcessClassifier\n",
    "from sklearn.gaussian_process.kernels import RBF\n",
    "from sklearn.tree import DecisionTreeClassifier\n",
    "from sklearn.ensemble import RandomForestClassifier, AdaBoostClassifier, ExtraTreesClassifier\n",
    "from sklearn.naive_bayes import GaussianNB\n",
    "from sklearn.discriminant_analysis import QuadraticDiscriminantAnalysis\n",
    "from lightgbm import LGBMClassifier\n",
    "from sklearn.linear_model import LogisticRegression, Lasso, Ridge\n",
    "from sklearn.datasets import make_moons, make_circles, make_classification\n",
    "from sklearn.model_selection import StratifiedKFold\n",
    "\n",
    "import imblearn\n",
    "\n",
    "names = [\n",
    "    \"Linear SVM\",\n",
    "    \"RBF SVM\",\n",
    "    \"KNN\",\n",
    "    \"Decision Tree\",\n",
    "    \"AdaBoost\",\n",
    "    \"Random Forest\",\n",
    "    \"ExtraTrees\",\n",
    "    \"Gaussian Process\",\n",
    "    \"Naive Bayes\",\n",
    "    \"QDA\",\n",
    "    \"Neural Net\",\n",
    "    \"LightGBM\",\n",
    "    \"Logistic Regression\",\n",
    "    \"LASSO\",\n",
    "    \"RIDGE\",   \n",
    "]\n",
    "\n",
    "classifiers = [\n",
    "    SVC(kernel = \"linear\", random_state = 0),\n",
    "    SVC(random_state = 0),\n",
    "    KNeighborsClassifier(),\n",
    "    DecisionTreeClassifier(random_state = 0),\n",
    "    AdaBoostClassifier(random_state = 0),\n",
    "    \n",
    "    RandomForestClassifier(random_state = 0), \n",
    "    ExtraTreesClassifier(random_state = 0),\n",
    "    GaussianProcessClassifier(random_state = 0),\n",
    "    GaussianNB(),\n",
    "    QuadraticDiscriminantAnalysis(),\n",
    "    \n",
    "    MLPClassifier(random_state = 0),\n",
    "    LGBMClassifier(random_state = 0),\n",
    "    LogisticRegression(random_state= 0),\n",
    "    Lasso(random_state = 0, alpha = 0.01),\n",
    "    Ridge(random_state = 0)\n",
    "]\n",
    "\n",
    "result_f1 = []\n",
    "result_f2 = []\n",
    "result_f3 = []\n",
    "result_f4 = []\n",
    "result_prec = []\n",
    "result_rec = []\n",
    "\n",
    "var_list = layerDF.columns[1:]\n",
    "\n",
    "n_fold = 5\n",
    "\n",
    "for name, clf in zip(names, classifiers):\n",
    "    skf = StratifiedKFold(n_splits = n_fold)\n",
    "    X, y = layerDF[var_list], layerDF[\"y\"].astype(\"int\")\n",
    "    skf.get_n_splits(X, y)\n",
    "    \n",
    "    for train_index, test_index in skf.split(X, y):\n",
    "        X_train, X_test = X.loc[train_index], X.loc[test_index]\n",
    "        y_train, y_test = list(y[train_index]), list(y[test_index])\n",
    "        \n",
    "        res = imblearn.over_sampling.SMOTE(random_state = 0)\n",
    "        X_train_over, y_train_over = res.fit_resample(X_train, y_train)\n",
    "    \n",
    "        clf.fit(X_train_over, y_train_over)\n",
    "        \n",
    "        if name in [\"Logistic Regression\", \"LASSO\", \"RIDGE\"]:\n",
    "            temp_pred = clf.predict(X_train_over)\n",
    "            opt_threshold = optimalThreshold_Gmeans(y_train_over, temp_pred)\n",
    "            \n",
    "            pred = clf.predict(X_test)\n",
    "            pred = list(map(bool, pred >= opt_threshold))\n",
    "        \n",
    "        else:\n",
    "            pred = clf.predict(X_test)\n",
    "        \n",
    "        result_f1.append(fbeta_score(y_test, pred, beta = 1))\n",
    "        result_f2.append(fbeta_score(y_test, pred, beta = 2))\n",
    "        result_f3.append(fbeta_score(y_test, pred, beta = 3))\n",
    "        result_f4.append(fbeta_score(y_test, pred, beta = 4))\n",
    "        \n",
    "        result_prec.append(precision_score(y_test, pred))\n",
    "        result_rec.append(recall_score(y_test, pred))\n",
    "        \n",
    "df = [list(np.array(result_rec).reshape(15,n_fold).mean(axis = 1)),\n",
    "      list(np.array(result_prec).reshape(15,n_fold).mean(axis = 1)),\n",
    "      list(np.array(result_f1).reshape(15,n_fold).mean(axis = 1)),\n",
    "      list(np.array(result_f2).reshape(15,n_fold).mean(axis = 1)),\n",
    "      list(np.array(result_f3).reshape(15,n_fold).mean(axis = 1)),\n",
    "      list(np.array(result_f4).reshape(15,n_fold).mean(axis = 1))]\n",
    "\n",
    "df = np.around(df, 4).T\n",
    "\n",
    "df = pd.DataFrame(np.array(df),\n",
    "                 columns = [\"Recall\",\n",
    "                          \"Precision\",\n",
    "                          \"F-score (beta = 1)\", \n",
    "                          \"F-score (beta = 2)\", \n",
    "                          \"F-score (beta = 3)\", \n",
    "                          \"F-score (beta = 4)\"],\n",
    "             index = names)\n",
    "df"
   ]
  },
  {
   "cell_type": "markdown",
   "id": "b21d6312",
   "metadata": {},
   "source": [
    "## Phase-1 (~ 25 min)"
   ]
  },
  {
   "cell_type": "code",
   "execution_count": 126,
   "id": "30af5110",
   "metadata": {},
   "outputs": [
    {
     "data": {
      "application/vnd.jupyter.widget-view+json": {
       "model_id": "",
       "version_major": 2,
       "version_minor": 0
      },
      "text/plain": [
       "Beta:   0%|          | 0/4 [00:00<?, ?it/s]"
      ]
     },
     "metadata": {},
     "output_type": "display_data"
    },
    {
     "data": {
      "application/vnd.jupyter.widget-view+json": {
       "model_id": "",
       "version_major": 2,
       "version_minor": 0
      },
      "text/plain": [
       "Macro:   0%|          | 0/10 [00:00<?, ?it/s]"
      ]
     },
     "metadata": {},
     "output_type": "display_data"
    },
    {
     "data": {
      "application/vnd.jupyter.widget-view+json": {
       "model_id": "",
       "version_major": 2,
       "version_minor": 0
      },
      "text/plain": [
       "Micro:   0%|          | 0/10 [00:00<?, ?it/s]"
      ]
     },
     "metadata": {},
     "output_type": "display_data"
    },
    {
     "data": {
      "application/vnd.jupyter.widget-view+json": {
       "model_id": "",
       "version_major": 2,
       "version_minor": 0
      },
      "text/plain": [
       "Micro:   0%|          | 0/10 [00:00<?, ?it/s]"
      ]
     },
     "metadata": {},
     "output_type": "display_data"
    },
    {
     "data": {
      "application/vnd.jupyter.widget-view+json": {
       "model_id": "",
       "version_major": 2,
       "version_minor": 0
      },
      "text/plain": [
       "Micro:   0%|          | 0/10 [00:00<?, ?it/s]"
      ]
     },
     "metadata": {},
     "output_type": "display_data"
    },
    {
     "data": {
      "application/vnd.jupyter.widget-view+json": {
       "model_id": "",
       "version_major": 2,
       "version_minor": 0
      },
      "text/plain": [
       "Micro:   0%|          | 0/10 [00:00<?, ?it/s]"
      ]
     },
     "metadata": {},
     "output_type": "display_data"
    },
    {
     "data": {
      "application/vnd.jupyter.widget-view+json": {
       "model_id": "",
       "version_major": 2,
       "version_minor": 0
      },
      "text/plain": [
       "Micro:   0%|          | 0/10 [00:00<?, ?it/s]"
      ]
     },
     "metadata": {},
     "output_type": "display_data"
    },
    {
     "data": {
      "application/vnd.jupyter.widget-view+json": {
       "model_id": "",
       "version_major": 2,
       "version_minor": 0
      },
      "text/plain": [
       "Micro:   0%|          | 0/10 [00:00<?, ?it/s]"
      ]
     },
     "metadata": {},
     "output_type": "display_data"
    },
    {
     "data": {
      "application/vnd.jupyter.widget-view+json": {
       "model_id": "",
       "version_major": 2,
       "version_minor": 0
      },
      "text/plain": [
       "Micro:   0%|          | 0/10 [00:00<?, ?it/s]"
      ]
     },
     "metadata": {},
     "output_type": "display_data"
    },
    {
     "data": {
      "application/vnd.jupyter.widget-view+json": {
       "model_id": "",
       "version_major": 2,
       "version_minor": 0
      },
      "text/plain": [
       "Micro:   0%|          | 0/10 [00:00<?, ?it/s]"
      ]
     },
     "metadata": {},
     "output_type": "display_data"
    },
    {
     "data": {
      "application/vnd.jupyter.widget-view+json": {
       "model_id": "",
       "version_major": 2,
       "version_minor": 0
      },
      "text/plain": [
       "Micro:   0%|          | 0/10 [00:00<?, ?it/s]"
      ]
     },
     "metadata": {},
     "output_type": "display_data"
    },
    {
     "data": {
      "application/vnd.jupyter.widget-view+json": {
       "model_id": "",
       "version_major": 2,
       "version_minor": 0
      },
      "text/plain": [
       "Micro:   0%|          | 0/10 [00:00<?, ?it/s]"
      ]
     },
     "metadata": {},
     "output_type": "display_data"
    },
    {
     "data": {
      "application/vnd.jupyter.widget-view+json": {
       "model_id": "",
       "version_major": 2,
       "version_minor": 0
      },
      "text/plain": [
       "Macro:   0%|          | 0/10 [00:00<?, ?it/s]"
      ]
     },
     "metadata": {},
     "output_type": "display_data"
    },
    {
     "data": {
      "application/vnd.jupyter.widget-view+json": {
       "model_id": "",
       "version_major": 2,
       "version_minor": 0
      },
      "text/plain": [
       "Micro:   0%|          | 0/10 [00:00<?, ?it/s]"
      ]
     },
     "metadata": {},
     "output_type": "display_data"
    },
    {
     "data": {
      "application/vnd.jupyter.widget-view+json": {
       "model_id": "",
       "version_major": 2,
       "version_minor": 0
      },
      "text/plain": [
       "Micro:   0%|          | 0/10 [00:00<?, ?it/s]"
      ]
     },
     "metadata": {},
     "output_type": "display_data"
    },
    {
     "data": {
      "application/vnd.jupyter.widget-view+json": {
       "model_id": "",
       "version_major": 2,
       "version_minor": 0
      },
      "text/plain": [
       "Micro:   0%|          | 0/10 [00:00<?, ?it/s]"
      ]
     },
     "metadata": {},
     "output_type": "display_data"
    },
    {
     "data": {
      "application/vnd.jupyter.widget-view+json": {
       "model_id": "",
       "version_major": 2,
       "version_minor": 0
      },
      "text/plain": [
       "Micro:   0%|          | 0/10 [00:00<?, ?it/s]"
      ]
     },
     "metadata": {},
     "output_type": "display_data"
    },
    {
     "data": {
      "application/vnd.jupyter.widget-view+json": {
       "model_id": "",
       "version_major": 2,
       "version_minor": 0
      },
      "text/plain": [
       "Micro:   0%|          | 0/10 [00:00<?, ?it/s]"
      ]
     },
     "metadata": {},
     "output_type": "display_data"
    },
    {
     "data": {
      "application/vnd.jupyter.widget-view+json": {
       "model_id": "",
       "version_major": 2,
       "version_minor": 0
      },
      "text/plain": [
       "Micro:   0%|          | 0/10 [00:00<?, ?it/s]"
      ]
     },
     "metadata": {},
     "output_type": "display_data"
    },
    {
     "data": {
      "application/vnd.jupyter.widget-view+json": {
       "model_id": "",
       "version_major": 2,
       "version_minor": 0
      },
      "text/plain": [
       "Micro:   0%|          | 0/10 [00:00<?, ?it/s]"
      ]
     },
     "metadata": {},
     "output_type": "display_data"
    },
    {
     "data": {
      "application/vnd.jupyter.widget-view+json": {
       "model_id": "",
       "version_major": 2,
       "version_minor": 0
      },
      "text/plain": [
       "Micro:   0%|          | 0/10 [00:00<?, ?it/s]"
      ]
     },
     "metadata": {},
     "output_type": "display_data"
    },
    {
     "data": {
      "application/vnd.jupyter.widget-view+json": {
       "model_id": "",
       "version_major": 2,
       "version_minor": 0
      },
      "text/plain": [
       "Micro:   0%|          | 0/10 [00:00<?, ?it/s]"
      ]
     },
     "metadata": {},
     "output_type": "display_data"
    },
    {
     "data": {
      "application/vnd.jupyter.widget-view+json": {
       "model_id": "",
       "version_major": 2,
       "version_minor": 0
      },
      "text/plain": [
       "Micro:   0%|          | 0/10 [00:00<?, ?it/s]"
      ]
     },
     "metadata": {},
     "output_type": "display_data"
    },
    {
     "data": {
      "application/vnd.jupyter.widget-view+json": {
       "model_id": "",
       "version_major": 2,
       "version_minor": 0
      },
      "text/plain": [
       "Macro:   0%|          | 0/10 [00:00<?, ?it/s]"
      ]
     },
     "metadata": {},
     "output_type": "display_data"
    },
    {
     "data": {
      "application/vnd.jupyter.widget-view+json": {
       "model_id": "",
       "version_major": 2,
       "version_minor": 0
      },
      "text/plain": [
       "Micro:   0%|          | 0/10 [00:00<?, ?it/s]"
      ]
     },
     "metadata": {},
     "output_type": "display_data"
    },
    {
     "data": {
      "application/vnd.jupyter.widget-view+json": {
       "model_id": "",
       "version_major": 2,
       "version_minor": 0
      },
      "text/plain": [
       "Micro:   0%|          | 0/10 [00:00<?, ?it/s]"
      ]
     },
     "metadata": {},
     "output_type": "display_data"
    },
    {
     "data": {
      "application/vnd.jupyter.widget-view+json": {
       "model_id": "",
       "version_major": 2,
       "version_minor": 0
      },
      "text/plain": [
       "Micro:   0%|          | 0/10 [00:00<?, ?it/s]"
      ]
     },
     "metadata": {},
     "output_type": "display_data"
    },
    {
     "data": {
      "application/vnd.jupyter.widget-view+json": {
       "model_id": "",
       "version_major": 2,
       "version_minor": 0
      },
      "text/plain": [
       "Micro:   0%|          | 0/10 [00:00<?, ?it/s]"
      ]
     },
     "metadata": {},
     "output_type": "display_data"
    },
    {
     "data": {
      "application/vnd.jupyter.widget-view+json": {
       "model_id": "",
       "version_major": 2,
       "version_minor": 0
      },
      "text/plain": [
       "Micro:   0%|          | 0/10 [00:00<?, ?it/s]"
      ]
     },
     "metadata": {},
     "output_type": "display_data"
    },
    {
     "data": {
      "application/vnd.jupyter.widget-view+json": {
       "model_id": "",
       "version_major": 2,
       "version_minor": 0
      },
      "text/plain": [
       "Micro:   0%|          | 0/10 [00:00<?, ?it/s]"
      ]
     },
     "metadata": {},
     "output_type": "display_data"
    },
    {
     "data": {
      "application/vnd.jupyter.widget-view+json": {
       "model_id": "",
       "version_major": 2,
       "version_minor": 0
      },
      "text/plain": [
       "Micro:   0%|          | 0/10 [00:00<?, ?it/s]"
      ]
     },
     "metadata": {},
     "output_type": "display_data"
    },
    {
     "data": {
      "application/vnd.jupyter.widget-view+json": {
       "model_id": "",
       "version_major": 2,
       "version_minor": 0
      },
      "text/plain": [
       "Micro:   0%|          | 0/10 [00:00<?, ?it/s]"
      ]
     },
     "metadata": {},
     "output_type": "display_data"
    },
    {
     "data": {
      "application/vnd.jupyter.widget-view+json": {
       "model_id": "",
       "version_major": 2,
       "version_minor": 0
      },
      "text/plain": [
       "Micro:   0%|          | 0/10 [00:00<?, ?it/s]"
      ]
     },
     "metadata": {},
     "output_type": "display_data"
    },
    {
     "data": {
      "application/vnd.jupyter.widget-view+json": {
       "model_id": "",
       "version_major": 2,
       "version_minor": 0
      },
      "text/plain": [
       "Micro:   0%|          | 0/10 [00:00<?, ?it/s]"
      ]
     },
     "metadata": {},
     "output_type": "display_data"
    },
    {
     "data": {
      "application/vnd.jupyter.widget-view+json": {
       "model_id": "",
       "version_major": 2,
       "version_minor": 0
      },
      "text/plain": [
       "Macro:   0%|          | 0/10 [00:00<?, ?it/s]"
      ]
     },
     "metadata": {},
     "output_type": "display_data"
    },
    {
     "data": {
      "application/vnd.jupyter.widget-view+json": {
       "model_id": "",
       "version_major": 2,
       "version_minor": 0
      },
      "text/plain": [
       "Micro:   0%|          | 0/10 [00:00<?, ?it/s]"
      ]
     },
     "metadata": {},
     "output_type": "display_data"
    },
    {
     "data": {
      "application/vnd.jupyter.widget-view+json": {
       "model_id": "",
       "version_major": 2,
       "version_minor": 0
      },
      "text/plain": [
       "Micro:   0%|          | 0/10 [00:00<?, ?it/s]"
      ]
     },
     "metadata": {},
     "output_type": "display_data"
    },
    {
     "data": {
      "application/vnd.jupyter.widget-view+json": {
       "model_id": "",
       "version_major": 2,
       "version_minor": 0
      },
      "text/plain": [
       "Micro:   0%|          | 0/10 [00:00<?, ?it/s]"
      ]
     },
     "metadata": {},
     "output_type": "display_data"
    },
    {
     "data": {
      "application/vnd.jupyter.widget-view+json": {
       "model_id": "",
       "version_major": 2,
       "version_minor": 0
      },
      "text/plain": [
       "Micro:   0%|          | 0/10 [00:00<?, ?it/s]"
      ]
     },
     "metadata": {},
     "output_type": "display_data"
    },
    {
     "data": {
      "application/vnd.jupyter.widget-view+json": {
       "model_id": "",
       "version_major": 2,
       "version_minor": 0
      },
      "text/plain": [
       "Micro:   0%|          | 0/10 [00:00<?, ?it/s]"
      ]
     },
     "metadata": {},
     "output_type": "display_data"
    },
    {
     "data": {
      "application/vnd.jupyter.widget-view+json": {
       "model_id": "",
       "version_major": 2,
       "version_minor": 0
      },
      "text/plain": [
       "Micro:   0%|          | 0/10 [00:00<?, ?it/s]"
      ]
     },
     "metadata": {},
     "output_type": "display_data"
    },
    {
     "data": {
      "application/vnd.jupyter.widget-view+json": {
       "model_id": "",
       "version_major": 2,
       "version_minor": 0
      },
      "text/plain": [
       "Micro:   0%|          | 0/10 [00:00<?, ?it/s]"
      ]
     },
     "metadata": {},
     "output_type": "display_data"
    },
    {
     "data": {
      "application/vnd.jupyter.widget-view+json": {
       "model_id": "",
       "version_major": 2,
       "version_minor": 0
      },
      "text/plain": [
       "Micro:   0%|          | 0/10 [00:00<?, ?it/s]"
      ]
     },
     "metadata": {},
     "output_type": "display_data"
    },
    {
     "data": {
      "application/vnd.jupyter.widget-view+json": {
       "model_id": "",
       "version_major": 2,
       "version_minor": 0
      },
      "text/plain": [
       "Micro:   0%|          | 0/10 [00:00<?, ?it/s]"
      ]
     },
     "metadata": {},
     "output_type": "display_data"
    },
    {
     "data": {
      "application/vnd.jupyter.widget-view+json": {
       "model_id": "",
       "version_major": 2,
       "version_minor": 0
      },
      "text/plain": [
       "Micro:   0%|          | 0/10 [00:00<?, ?it/s]"
      ]
     },
     "metadata": {},
     "output_type": "display_data"
    }
   ],
   "source": [
    "neg_where = list(np.where(layerDF[\"y\"] == 0)[0])\n",
    "pos_where = list(np.where(layerDF[\"y\"] == 1)[0])\n",
    "\n",
    "All_feat_EN = []\n",
    "All_feat_SOEN_OOB = []\n",
    "All_feat_SOEN_NOOB = []\n",
    "All_feat_CRUDE = []\n",
    "\n",
    "##################\n",
    "### Beta-iter  ###\n",
    "##################\n",
    "for i0 in tqdm(range(len(BETA_LIST)), position = 0, desc = \"Beta\", leave = False, colour = 'red'):\n",
    "    beta = BETA_LIST[i0]\n",
    "    \n",
    "    ##################\n",
    "    ### Macro-iter ###\n",
    "    ##################\n",
    "    for i1 in tqdm(range(M), position = 1, desc = \"Macro\", leave = False, colour = 'blue'):\n",
    "        temp_neg_where = neg_where.copy()\n",
    "        temp_pos_where = pos_where.copy()\n",
    "        \n",
    "        np.random.seed(SEED_M[i1])\n",
    "        np.random.shuffle(temp_neg_where)\n",
    "        np.random.shuffle(temp_pos_where)\n",
    "        \n",
    "        train_pos_where, test_pos_where = np.array_split(temp_pos_where, 2)\n",
    "        train_neg_where = np.random.choice(temp_neg_where, len(train_pos_where) * R, replace = True)\n",
    "        \n",
    "        X_train = layerDF.loc[list(train_pos_where) + list(train_neg_where)]\n",
    "        X_train = X_train[var_list]\n",
    "        y_train = list(layerDF[\"y\"][list(train_pos_where) + list(train_neg_where)])\n",
    "        \n",
    "        if i0 == 0:\n",
    "            #############\n",
    "            ### CRUDE LASSO\n",
    "            #############\n",
    "            reg = LassoCV(alphas = alphaGrid, tol = tol).fit(X_train,y_train)\n",
    "            coef = pd.Series(reg.coef_, index = var_list, name = \"Sel\")\n",
    "            pred_train = reg.predict(X_train)\n",
    "            opt_threshold = optimalThreshold_Gmeans(y_train, pred_train)\n",
    "            All_feat_CRUDE.append(list(coef[coef!=0].index.values))\n",
    "        \n",
    "        ##################\n",
    "        ### Micro-iter ###\n",
    "        ##################\n",
    "        all_temp_neg_where_train = []\n",
    "        all_temp_pos_where_train = []\n",
    "\n",
    "        all_temp_neg_where_test = []\n",
    "        all_temp_pos_where_test = []\n",
    "        \n",
    "        for i2 in tqdm(range(N), position = 2, desc = 'Micro', leave = False, colour = 'green'):\n",
    "            temp_neg_where = neg_where.copy()\n",
    "            temp_pos_where = pos_where.copy()\n",
    "            \n",
    "            np.random.seed(SEED_M[i1])\n",
    "            SEED_K = np.random.choice(range(1000), N)\n",
    "            np.random.seed(SEED_K[i2])\n",
    "            np.random.shuffle(temp_neg_where)\n",
    "            np.random.shuffle(temp_pos_where)\n",
    "            \n",
    "            #############\n",
    "            ### EN\n",
    "            #############\n",
    "            \n",
    "            train_pos_where, test_pos_where = np.array_split(temp_pos_where, 2)\n",
    "            train_neg_where = np.random.choice(temp_neg_where, len(train_pos_where) * R, replace = True)\n",
    "            \n",
    "            X_train = layerDF.loc[list(train_pos_where) + list(train_neg_where)]\n",
    "            X_train = X_train[var_list]\n",
    "            y_train = list(layerDF[\"y\"][list(train_pos_where) + list(train_neg_where)])\n",
    "            \n",
    "            if i0 == 0:\n",
    "                reg = LassoCV(alphas = alphaGrid, tol = tol).fit(X_train, y_train)\n",
    "                coef = pd.Series(reg.coef_, index = var_list, name = \"Sel\")\n",
    "                pred_train = reg.predict(X_train)\n",
    "                opt_threshold = optimalThreshold_Gmeans(y_train, pred_train)\n",
    "                All_feat_EN.append(list(coef[coef!=0].index.values))\n",
    "        \n",
    "            #############\n",
    "            ### SOEN sampling\n",
    "            #############\n",
    "\n",
    "            all_temp_neg_where_train.append(list(train_neg_where))\n",
    "            all_temp_pos_where_train.append(list(train_pos_where))\n",
    "\n",
    "            all_temp_neg_where_test.append(np.random.choice(list(set(neg_where) - set(train_neg_where)),\n",
    "                                                            len(test_pos_where) * R_0, replace = True))\n",
    "            \n",
    "            all_temp_pos_where_test.append(list(set(pos_where) - set(train_pos_where)))\n",
    "        \n",
    "        #############\n",
    "        ### SOEN with OOB\n",
    "        #############\n",
    "        \n",
    "        def fitness_func(solution, solution_idx):\n",
    "\n",
    "            temp_var = var_list[solution == 1]\n",
    "            temp_scores = []\n",
    "            \n",
    "            for i0 in range(N):\n",
    "                temp_X_train = layerDF.loc[list(all_temp_neg_where_train[i0]) + list(all_temp_pos_where_train[i0])]\n",
    "                temp_y_train = list(layerDF[\"y\"][list(all_temp_neg_where_train[i0]) + list(all_temp_pos_where_train[i0])])\n",
    "                temp_model = LassoCV(alphas = alphaGrid, tol = tol).fit(temp_X_train[temp_var], temp_y_train)\n",
    "                \n",
    "                coef = pd.Series(temp_model.coef_, index = temp_var, name = \"Sel\")\n",
    "                \n",
    "                if np.max(np.abs(coef)) == 0:\n",
    "                    temp_scores.append(0)\n",
    "                else:\n",
    "                    \n",
    "                    pred_train = temp_model.predict(temp_X_train[temp_var])\n",
    "                    \n",
    "                    opt_threshold = optimalThreshold_Gmeans(temp_y_train, pred_train)\n",
    "                    \n",
    "                    temp_X_test = layerDF.loc[list(all_temp_neg_where_test[i0]) + list(all_temp_pos_where_test[i0])]\n",
    "                    temp_y_test = list(layerDF[\"y\"][list(all_temp_neg_where_test[i0]) + list(all_temp_pos_where_test[i0])])\n",
    "                    \n",
    "                    temp_pred = temp_model.predict(temp_X_test[temp_var])\n",
    "                    temp_pred = list(map(bool, temp_pred >= opt_threshold))\n",
    "\n",
    "                    # beta score 0 - 1, higher the better\n",
    "                    temp_score = fbeta_score(temp_y_test, temp_pred, beta = beta)\n",
    "                    temp_scores.append(temp_score)\n",
    "            \n",
    "            return np.mean(temp_scores)\n",
    "\n",
    "        ga_instance = pygad.GA(num_generations = MAX_ITER,\n",
    "                               sol_per_pop = POP_SIZE,\n",
    "                               crossover_probability = P_CROSSOVER,\n",
    "                               mutation_probability = P_MUTATION,\n",
    "                               num_parents_mating = 2,\n",
    "                               num_genes=len(var_list),\n",
    "                               fitness_func=fitness_func,\n",
    "                               mutation_type=\"swap\",\n",
    "                               init_range_low=0,\n",
    "                               init_range_high=2,\n",
    "                               gene_type=int,\n",
    "                               random_seed = i0)\n",
    "\n",
    "        ga_instance.run()\n",
    "        \n",
    "        SOEN_var = list(var_list[ga_instance.best_solution()[0] == 1])\n",
    "        \n",
    "        for i2 in range(N):\n",
    "            temp_X_train = layerDF.loc[list(all_temp_neg_where_train[i2]) + list(all_temp_pos_where_train[i2])]\n",
    "            temp_y_train = list(layerDF[\"y\"][list(all_temp_neg_where_train[i2]) + list(all_temp_pos_where_train[i2])])\n",
    "            temp_model = LassoCV(alphas = alphaGrid, tol = tol).fit(temp_X_train[SOEN_var], temp_y_train)\n",
    "                \n",
    "            coef = pd.Series(temp_model.coef_, index = SOEN_var, name = \"Sel\")\n",
    "        \n",
    "            All_feat_SOEN_OOB.append(list(coef[coef!=0].index.values))\n",
    "        \n",
    "        #############\n",
    "        ### SOEN with NOOB\n",
    "        #############\n",
    "            \n",
    "        def fitness_func2(solution, solution_idx):\n",
    "\n",
    "            temp_var = var_list[solution == 1]\n",
    "            temp_scores = []\n",
    "            \n",
    "            for i0 in range(N):\n",
    "                temp_X_train = layerDF.loc[list(all_temp_neg_where_train[i0]) + list(all_temp_pos_where_train[i0])]\n",
    "                temp_y_train = list(layerDF[\"y\"][list(all_temp_neg_where_train[i0]) + list(all_temp_pos_where_train[i0])])\n",
    "                temp_model = LassoCV(alphas = alphaGrid, tol = tol).fit(temp_X_train[temp_var], temp_y_train)\n",
    "                \n",
    "                coef = pd.Series(temp_model.coef_, index = temp_var, name = \"Sel\")\n",
    "                \n",
    "                if np.max(np.abs(coef)) == 0:\n",
    "                    temp_scores.append(0)\n",
    "                else:\n",
    "                    \n",
    "                    pred_train = temp_model.predict(temp_X_train[temp_var])\n",
    "                    \n",
    "                    opt_threshold = optimalThreshold_Gmeans(temp_y_train, pred_train)\n",
    "                    \n",
    "                    temp_pred = temp_model.predict(temp_X_train[temp_var])\n",
    "                    temp_pred = list(map(bool, temp_pred >= opt_threshold))\n",
    "\n",
    "                    # beta score 0 - 1, higher the better\n",
    "                    temp_score = fbeta_score(temp_y_train, temp_pred, beta = beta)\n",
    "                    temp_scores.append(temp_score)\n",
    "            \n",
    "            return np.mean(temp_scores)\n",
    "        \n",
    "        ga_instance = pygad.GA(num_generations = MAX_ITER,\n",
    "                               sol_per_pop = POP_SIZE,\n",
    "                               crossover_probability = P_CROSSOVER,\n",
    "                               mutation_probability = P_MUTATION,\n",
    "                               num_parents_mating = 2,\n",
    "                               num_genes=len(var_list),\n",
    "                               fitness_func=fitness_func2,\n",
    "                               mutation_type=\"swap\",\n",
    "                               init_range_low=0,\n",
    "                               init_range_high=2,\n",
    "                               gene_type=int,\n",
    "                               random_seed = i0)\n",
    "        \n",
    "        ga_instance.run()\n",
    "        \n",
    "        SOEN_var = list(var_list[ga_instance.best_solution()[0] == 1])\n",
    "        \n",
    "        for i2 in range(N):\n",
    "            temp_X_train = layerDF.loc[list(all_temp_neg_where_train[i2]) + list(all_temp_pos_where_train[i2])]\n",
    "            temp_y_train = list(layerDF[\"y\"][list(all_temp_neg_where_train[i2]) + list(all_temp_pos_where_train[i2])])\n",
    "            temp_model = LassoCV(alphas = alphaGrid, tol = tol).fit(temp_X_train[SOEN_var], temp_y_train)\n",
    "                \n",
    "            coef = pd.Series(temp_model.coef_, index = SOEN_var, name = \"Sel\")\n",
    "        \n",
    "            All_feat_SOEN_NOOB.append(list(coef[coef!=0].index.values))"
   ]
  },
  {
   "cell_type": "markdown",
   "id": "3c72987e",
   "metadata": {},
   "source": [
    "## Phase-2 (~ 1 min)"
   ]
  },
  {
   "cell_type": "code",
   "execution_count": 128,
   "id": "6786c59f",
   "metadata": {},
   "outputs": [
    {
     "data": {
      "application/vnd.jupyter.widget-view+json": {
       "model_id": "",
       "version_major": 2,
       "version_minor": 0
      },
      "text/plain": [
       "Beta:   0%|          | 0/4 [00:00<?, ?it/s]"
      ]
     },
     "metadata": {},
     "output_type": "display_data"
    },
    {
     "data": {
      "application/vnd.jupyter.widget-view+json": {
       "model_id": "",
       "version_major": 2,
       "version_minor": 0
      },
      "text/plain": [
       "Macro:   0%|          | 0/10 [00:00<?, ?it/s]"
      ]
     },
     "metadata": {},
     "output_type": "display_data"
    },
    {
     "data": {
      "application/vnd.jupyter.widget-view+json": {
       "model_id": "",
       "version_major": 2,
       "version_minor": 0
      },
      "text/plain": [
       "Repli:   0%|          | 0/10 [00:00<?, ?it/s]"
      ]
     },
     "metadata": {},
     "output_type": "display_data"
    },
    {
     "data": {
      "application/vnd.jupyter.widget-view+json": {
       "model_id": "",
       "version_major": 2,
       "version_minor": 0
      },
      "text/plain": [
       "method:   0%|          | 0/10 [00:00<?, ?it/s]"
      ]
     },
     "metadata": {},
     "output_type": "display_data"
    },
    {
     "data": {
      "application/vnd.jupyter.widget-view+json": {
       "model_id": "",
       "version_major": 2,
       "version_minor": 0
      },
      "text/plain": [
       "method:   0%|          | 0/10 [00:00<?, ?it/s]"
      ]
     },
     "metadata": {},
     "output_type": "display_data"
    },
    {
     "data": {
      "application/vnd.jupyter.widget-view+json": {
       "model_id": "",
       "version_major": 2,
       "version_minor": 0
      },
      "text/plain": [
       "method:   0%|          | 0/10 [00:00<?, ?it/s]"
      ]
     },
     "metadata": {},
     "output_type": "display_data"
    },
    {
     "data": {
      "application/vnd.jupyter.widget-view+json": {
       "model_id": "",
       "version_major": 2,
       "version_minor": 0
      },
      "text/plain": [
       "method:   0%|          | 0/10 [00:00<?, ?it/s]"
      ]
     },
     "metadata": {},
     "output_type": "display_data"
    },
    {
     "data": {
      "application/vnd.jupyter.widget-view+json": {
       "model_id": "",
       "version_major": 2,
       "version_minor": 0
      },
      "text/plain": [
       "method:   0%|          | 0/10 [00:00<?, ?it/s]"
      ]
     },
     "metadata": {},
     "output_type": "display_data"
    },
    {
     "data": {
      "application/vnd.jupyter.widget-view+json": {
       "model_id": "",
       "version_major": 2,
       "version_minor": 0
      },
      "text/plain": [
       "method:   0%|          | 0/10 [00:00<?, ?it/s]"
      ]
     },
     "metadata": {},
     "output_type": "display_data"
    },
    {
     "data": {
      "application/vnd.jupyter.widget-view+json": {
       "model_id": "",
       "version_major": 2,
       "version_minor": 0
      },
      "text/plain": [
       "method:   0%|          | 0/10 [00:00<?, ?it/s]"
      ]
     },
     "metadata": {},
     "output_type": "display_data"
    },
    {
     "data": {
      "application/vnd.jupyter.widget-view+json": {
       "model_id": "",
       "version_major": 2,
       "version_minor": 0
      },
      "text/plain": [
       "method:   0%|          | 0/10 [00:00<?, ?it/s]"
      ]
     },
     "metadata": {},
     "output_type": "display_data"
    },
    {
     "data": {
      "application/vnd.jupyter.widget-view+json": {
       "model_id": "",
       "version_major": 2,
       "version_minor": 0
      },
      "text/plain": [
       "method:   0%|          | 0/10 [00:00<?, ?it/s]"
      ]
     },
     "metadata": {},
     "output_type": "display_data"
    },
    {
     "data": {
      "application/vnd.jupyter.widget-view+json": {
       "model_id": "",
       "version_major": 2,
       "version_minor": 0
      },
      "text/plain": [
       "method:   0%|          | 0/10 [00:00<?, ?it/s]"
      ]
     },
     "metadata": {},
     "output_type": "display_data"
    },
    {
     "data": {
      "application/vnd.jupyter.widget-view+json": {
       "model_id": "",
       "version_major": 2,
       "version_minor": 0
      },
      "text/plain": [
       "Repli:   0%|          | 0/10 [00:00<?, ?it/s]"
      ]
     },
     "metadata": {},
     "output_type": "display_data"
    },
    {
     "data": {
      "application/vnd.jupyter.widget-view+json": {
       "model_id": "",
       "version_major": 2,
       "version_minor": 0
      },
      "text/plain": [
       "method:   0%|          | 0/10 [00:00<?, ?it/s]"
      ]
     },
     "metadata": {},
     "output_type": "display_data"
    },
    {
     "data": {
      "application/vnd.jupyter.widget-view+json": {
       "model_id": "",
       "version_major": 2,
       "version_minor": 0
      },
      "text/plain": [
       "method:   0%|          | 0/10 [00:00<?, ?it/s]"
      ]
     },
     "metadata": {},
     "output_type": "display_data"
    },
    {
     "data": {
      "application/vnd.jupyter.widget-view+json": {
       "model_id": "",
       "version_major": 2,
       "version_minor": 0
      },
      "text/plain": [
       "method:   0%|          | 0/10 [00:00<?, ?it/s]"
      ]
     },
     "metadata": {},
     "output_type": "display_data"
    },
    {
     "data": {
      "application/vnd.jupyter.widget-view+json": {
       "model_id": "",
       "version_major": 2,
       "version_minor": 0
      },
      "text/plain": [
       "method:   0%|          | 0/10 [00:00<?, ?it/s]"
      ]
     },
     "metadata": {},
     "output_type": "display_data"
    },
    {
     "data": {
      "application/vnd.jupyter.widget-view+json": {
       "model_id": "",
       "version_major": 2,
       "version_minor": 0
      },
      "text/plain": [
       "method:   0%|          | 0/10 [00:00<?, ?it/s]"
      ]
     },
     "metadata": {},
     "output_type": "display_data"
    },
    {
     "data": {
      "application/vnd.jupyter.widget-view+json": {
       "model_id": "",
       "version_major": 2,
       "version_minor": 0
      },
      "text/plain": [
       "method:   0%|          | 0/10 [00:00<?, ?it/s]"
      ]
     },
     "metadata": {},
     "output_type": "display_data"
    },
    {
     "data": {
      "application/vnd.jupyter.widget-view+json": {
       "model_id": "",
       "version_major": 2,
       "version_minor": 0
      },
      "text/plain": [
       "method:   0%|          | 0/10 [00:00<?, ?it/s]"
      ]
     },
     "metadata": {},
     "output_type": "display_data"
    },
    {
     "data": {
      "application/vnd.jupyter.widget-view+json": {
       "model_id": "",
       "version_major": 2,
       "version_minor": 0
      },
      "text/plain": [
       "method:   0%|          | 0/10 [00:00<?, ?it/s]"
      ]
     },
     "metadata": {},
     "output_type": "display_data"
    },
    {
     "data": {
      "application/vnd.jupyter.widget-view+json": {
       "model_id": "",
       "version_major": 2,
       "version_minor": 0
      },
      "text/plain": [
       "method:   0%|          | 0/10 [00:00<?, ?it/s]"
      ]
     },
     "metadata": {},
     "output_type": "display_data"
    },
    {
     "data": {
      "application/vnd.jupyter.widget-view+json": {
       "model_id": "",
       "version_major": 2,
       "version_minor": 0
      },
      "text/plain": [
       "method:   0%|          | 0/10 [00:00<?, ?it/s]"
      ]
     },
     "metadata": {},
     "output_type": "display_data"
    },
    {
     "data": {
      "application/vnd.jupyter.widget-view+json": {
       "model_id": "",
       "version_major": 2,
       "version_minor": 0
      },
      "text/plain": [
       "Repli:   0%|          | 0/10 [00:00<?, ?it/s]"
      ]
     },
     "metadata": {},
     "output_type": "display_data"
    },
    {
     "data": {
      "application/vnd.jupyter.widget-view+json": {
       "model_id": "",
       "version_major": 2,
       "version_minor": 0
      },
      "text/plain": [
       "method:   0%|          | 0/10 [00:00<?, ?it/s]"
      ]
     },
     "metadata": {},
     "output_type": "display_data"
    },
    {
     "data": {
      "application/vnd.jupyter.widget-view+json": {
       "model_id": "",
       "version_major": 2,
       "version_minor": 0
      },
      "text/plain": [
       "method:   0%|          | 0/10 [00:00<?, ?it/s]"
      ]
     },
     "metadata": {},
     "output_type": "display_data"
    },
    {
     "data": {
      "application/vnd.jupyter.widget-view+json": {
       "model_id": "",
       "version_major": 2,
       "version_minor": 0
      },
      "text/plain": [
       "method:   0%|          | 0/10 [00:00<?, ?it/s]"
      ]
     },
     "metadata": {},
     "output_type": "display_data"
    },
    {
     "data": {
      "application/vnd.jupyter.widget-view+json": {
       "model_id": "",
       "version_major": 2,
       "version_minor": 0
      },
      "text/plain": [
       "method:   0%|          | 0/10 [00:00<?, ?it/s]"
      ]
     },
     "metadata": {},
     "output_type": "display_data"
    },
    {
     "data": {
      "application/vnd.jupyter.widget-view+json": {
       "model_id": "",
       "version_major": 2,
       "version_minor": 0
      },
      "text/plain": [
       "method:   0%|          | 0/10 [00:00<?, ?it/s]"
      ]
     },
     "metadata": {},
     "output_type": "display_data"
    },
    {
     "data": {
      "application/vnd.jupyter.widget-view+json": {
       "model_id": "",
       "version_major": 2,
       "version_minor": 0
      },
      "text/plain": [
       "method:   0%|          | 0/10 [00:00<?, ?it/s]"
      ]
     },
     "metadata": {},
     "output_type": "display_data"
    },
    {
     "data": {
      "application/vnd.jupyter.widget-view+json": {
       "model_id": "",
       "version_major": 2,
       "version_minor": 0
      },
      "text/plain": [
       "method:   0%|          | 0/10 [00:00<?, ?it/s]"
      ]
     },
     "metadata": {},
     "output_type": "display_data"
    },
    {
     "data": {
      "application/vnd.jupyter.widget-view+json": {
       "model_id": "",
       "version_major": 2,
       "version_minor": 0
      },
      "text/plain": [
       "method:   0%|          | 0/10 [00:00<?, ?it/s]"
      ]
     },
     "metadata": {},
     "output_type": "display_data"
    },
    {
     "data": {
      "application/vnd.jupyter.widget-view+json": {
       "model_id": "",
       "version_major": 2,
       "version_minor": 0
      },
      "text/plain": [
       "method:   0%|          | 0/10 [00:00<?, ?it/s]"
      ]
     },
     "metadata": {},
     "output_type": "display_data"
    },
    {
     "data": {
      "application/vnd.jupyter.widget-view+json": {
       "model_id": "",
       "version_major": 2,
       "version_minor": 0
      },
      "text/plain": [
       "method:   0%|          | 0/10 [00:00<?, ?it/s]"
      ]
     },
     "metadata": {},
     "output_type": "display_data"
    },
    {
     "data": {
      "application/vnd.jupyter.widget-view+json": {
       "model_id": "",
       "version_major": 2,
       "version_minor": 0
      },
      "text/plain": [
       "Repli:   0%|          | 0/10 [00:00<?, ?it/s]"
      ]
     },
     "metadata": {},
     "output_type": "display_data"
    },
    {
     "data": {
      "application/vnd.jupyter.widget-view+json": {
       "model_id": "",
       "version_major": 2,
       "version_minor": 0
      },
      "text/plain": [
       "method:   0%|          | 0/10 [00:00<?, ?it/s]"
      ]
     },
     "metadata": {},
     "output_type": "display_data"
    },
    {
     "data": {
      "application/vnd.jupyter.widget-view+json": {
       "model_id": "",
       "version_major": 2,
       "version_minor": 0
      },
      "text/plain": [
       "method:   0%|          | 0/10 [00:00<?, ?it/s]"
      ]
     },
     "metadata": {},
     "output_type": "display_data"
    },
    {
     "data": {
      "application/vnd.jupyter.widget-view+json": {
       "model_id": "",
       "version_major": 2,
       "version_minor": 0
      },
      "text/plain": [
       "method:   0%|          | 0/10 [00:00<?, ?it/s]"
      ]
     },
     "metadata": {},
     "output_type": "display_data"
    },
    {
     "data": {
      "application/vnd.jupyter.widget-view+json": {
       "model_id": "",
       "version_major": 2,
       "version_minor": 0
      },
      "text/plain": [
       "method:   0%|          | 0/10 [00:00<?, ?it/s]"
      ]
     },
     "metadata": {},
     "output_type": "display_data"
    },
    {
     "data": {
      "application/vnd.jupyter.widget-view+json": {
       "model_id": "",
       "version_major": 2,
       "version_minor": 0
      },
      "text/plain": [
       "method:   0%|          | 0/10 [00:00<?, ?it/s]"
      ]
     },
     "metadata": {},
     "output_type": "display_data"
    },
    {
     "data": {
      "application/vnd.jupyter.widget-view+json": {
       "model_id": "",
       "version_major": 2,
       "version_minor": 0
      },
      "text/plain": [
       "method:   0%|          | 0/10 [00:00<?, ?it/s]"
      ]
     },
     "metadata": {},
     "output_type": "display_data"
    },
    {
     "data": {
      "application/vnd.jupyter.widget-view+json": {
       "model_id": "",
       "version_major": 2,
       "version_minor": 0
      },
      "text/plain": [
       "method:   0%|          | 0/10 [00:00<?, ?it/s]"
      ]
     },
     "metadata": {},
     "output_type": "display_data"
    },
    {
     "data": {
      "application/vnd.jupyter.widget-view+json": {
       "model_id": "",
       "version_major": 2,
       "version_minor": 0
      },
      "text/plain": [
       "method:   0%|          | 0/10 [00:00<?, ?it/s]"
      ]
     },
     "metadata": {},
     "output_type": "display_data"
    },
    {
     "data": {
      "application/vnd.jupyter.widget-view+json": {
       "model_id": "",
       "version_major": 2,
       "version_minor": 0
      },
      "text/plain": [
       "method:   0%|          | 0/10 [00:00<?, ?it/s]"
      ]
     },
     "metadata": {},
     "output_type": "display_data"
    },
    {
     "data": {
      "application/vnd.jupyter.widget-view+json": {
       "model_id": "",
       "version_major": 2,
       "version_minor": 0
      },
      "text/plain": [
       "method:   0%|          | 0/10 [00:00<?, ?it/s]"
      ]
     },
     "metadata": {},
     "output_type": "display_data"
    },
    {
     "data": {
      "application/vnd.jupyter.widget-view+json": {
       "model_id": "",
       "version_major": 2,
       "version_minor": 0
      },
      "text/plain": [
       "Repli:   0%|          | 0/10 [00:00<?, ?it/s]"
      ]
     },
     "metadata": {},
     "output_type": "display_data"
    },
    {
     "data": {
      "application/vnd.jupyter.widget-view+json": {
       "model_id": "",
       "version_major": 2,
       "version_minor": 0
      },
      "text/plain": [
       "method:   0%|          | 0/10 [00:00<?, ?it/s]"
      ]
     },
     "metadata": {},
     "output_type": "display_data"
    },
    {
     "data": {
      "application/vnd.jupyter.widget-view+json": {
       "model_id": "",
       "version_major": 2,
       "version_minor": 0
      },
      "text/plain": [
       "method:   0%|          | 0/10 [00:00<?, ?it/s]"
      ]
     },
     "metadata": {},
     "output_type": "display_data"
    },
    {
     "data": {
      "application/vnd.jupyter.widget-view+json": {
       "model_id": "",
       "version_major": 2,
       "version_minor": 0
      },
      "text/plain": [
       "method:   0%|          | 0/10 [00:00<?, ?it/s]"
      ]
     },
     "metadata": {},
     "output_type": "display_data"
    },
    {
     "data": {
      "application/vnd.jupyter.widget-view+json": {
       "model_id": "",
       "version_major": 2,
       "version_minor": 0
      },
      "text/plain": [
       "method:   0%|          | 0/10 [00:00<?, ?it/s]"
      ]
     },
     "metadata": {},
     "output_type": "display_data"
    },
    {
     "data": {
      "application/vnd.jupyter.widget-view+json": {
       "model_id": "",
       "version_major": 2,
       "version_minor": 0
      },
      "text/plain": [
       "method:   0%|          | 0/10 [00:00<?, ?it/s]"
      ]
     },
     "metadata": {},
     "output_type": "display_data"
    },
    {
     "data": {
      "application/vnd.jupyter.widget-view+json": {
       "model_id": "",
       "version_major": 2,
       "version_minor": 0
      },
      "text/plain": [
       "method:   0%|          | 0/10 [00:00<?, ?it/s]"
      ]
     },
     "metadata": {},
     "output_type": "display_data"
    },
    {
     "data": {
      "application/vnd.jupyter.widget-view+json": {
       "model_id": "",
       "version_major": 2,
       "version_minor": 0
      },
      "text/plain": [
       "method:   0%|          | 0/10 [00:00<?, ?it/s]"
      ]
     },
     "metadata": {},
     "output_type": "display_data"
    },
    {
     "data": {
      "application/vnd.jupyter.widget-view+json": {
       "model_id": "",
       "version_major": 2,
       "version_minor": 0
      },
      "text/plain": [
       "method:   0%|          | 0/10 [00:00<?, ?it/s]"
      ]
     },
     "metadata": {},
     "output_type": "display_data"
    },
    {
     "data": {
      "application/vnd.jupyter.widget-view+json": {
       "model_id": "",
       "version_major": 2,
       "version_minor": 0
      },
      "text/plain": [
       "method:   0%|          | 0/10 [00:00<?, ?it/s]"
      ]
     },
     "metadata": {},
     "output_type": "display_data"
    },
    {
     "data": {
      "application/vnd.jupyter.widget-view+json": {
       "model_id": "",
       "version_major": 2,
       "version_minor": 0
      },
      "text/plain": [
       "method:   0%|          | 0/10 [00:00<?, ?it/s]"
      ]
     },
     "metadata": {},
     "output_type": "display_data"
    },
    {
     "data": {
      "application/vnd.jupyter.widget-view+json": {
       "model_id": "",
       "version_major": 2,
       "version_minor": 0
      },
      "text/plain": [
       "Repli:   0%|          | 0/10 [00:00<?, ?it/s]"
      ]
     },
     "metadata": {},
     "output_type": "display_data"
    },
    {
     "data": {
      "application/vnd.jupyter.widget-view+json": {
       "model_id": "",
       "version_major": 2,
       "version_minor": 0
      },
      "text/plain": [
       "method:   0%|          | 0/10 [00:00<?, ?it/s]"
      ]
     },
     "metadata": {},
     "output_type": "display_data"
    },
    {
     "data": {
      "application/vnd.jupyter.widget-view+json": {
       "model_id": "",
       "version_major": 2,
       "version_minor": 0
      },
      "text/plain": [
       "method:   0%|          | 0/10 [00:00<?, ?it/s]"
      ]
     },
     "metadata": {},
     "output_type": "display_data"
    },
    {
     "data": {
      "application/vnd.jupyter.widget-view+json": {
       "model_id": "",
       "version_major": 2,
       "version_minor": 0
      },
      "text/plain": [
       "method:   0%|          | 0/10 [00:00<?, ?it/s]"
      ]
     },
     "metadata": {},
     "output_type": "display_data"
    },
    {
     "data": {
      "application/vnd.jupyter.widget-view+json": {
       "model_id": "",
       "version_major": 2,
       "version_minor": 0
      },
      "text/plain": [
       "method:   0%|          | 0/10 [00:00<?, ?it/s]"
      ]
     },
     "metadata": {},
     "output_type": "display_data"
    },
    {
     "data": {
      "application/vnd.jupyter.widget-view+json": {
       "model_id": "",
       "version_major": 2,
       "version_minor": 0
      },
      "text/plain": [
       "method:   0%|          | 0/10 [00:00<?, ?it/s]"
      ]
     },
     "metadata": {},
     "output_type": "display_data"
    },
    {
     "data": {
      "application/vnd.jupyter.widget-view+json": {
       "model_id": "",
       "version_major": 2,
       "version_minor": 0
      },
      "text/plain": [
       "method:   0%|          | 0/10 [00:00<?, ?it/s]"
      ]
     },
     "metadata": {},
     "output_type": "display_data"
    },
    {
     "data": {
      "application/vnd.jupyter.widget-view+json": {
       "model_id": "",
       "version_major": 2,
       "version_minor": 0
      },
      "text/plain": [
       "method:   0%|          | 0/10 [00:00<?, ?it/s]"
      ]
     },
     "metadata": {},
     "output_type": "display_data"
    },
    {
     "data": {
      "application/vnd.jupyter.widget-view+json": {
       "model_id": "",
       "version_major": 2,
       "version_minor": 0
      },
      "text/plain": [
       "method:   0%|          | 0/10 [00:00<?, ?it/s]"
      ]
     },
     "metadata": {},
     "output_type": "display_data"
    },
    {
     "data": {
      "application/vnd.jupyter.widget-view+json": {
       "model_id": "",
       "version_major": 2,
       "version_minor": 0
      },
      "text/plain": [
       "method:   0%|          | 0/10 [00:00<?, ?it/s]"
      ]
     },
     "metadata": {},
     "output_type": "display_data"
    },
    {
     "data": {
      "application/vnd.jupyter.widget-view+json": {
       "model_id": "",
       "version_major": 2,
       "version_minor": 0
      },
      "text/plain": [
       "method:   0%|          | 0/10 [00:00<?, ?it/s]"
      ]
     },
     "metadata": {},
     "output_type": "display_data"
    },
    {
     "data": {
      "application/vnd.jupyter.widget-view+json": {
       "model_id": "",
       "version_major": 2,
       "version_minor": 0
      },
      "text/plain": [
       "Repli:   0%|          | 0/10 [00:00<?, ?it/s]"
      ]
     },
     "metadata": {},
     "output_type": "display_data"
    },
    {
     "data": {
      "application/vnd.jupyter.widget-view+json": {
       "model_id": "",
       "version_major": 2,
       "version_minor": 0
      },
      "text/plain": [
       "method:   0%|          | 0/10 [00:00<?, ?it/s]"
      ]
     },
     "metadata": {},
     "output_type": "display_data"
    },
    {
     "data": {
      "application/vnd.jupyter.widget-view+json": {
       "model_id": "",
       "version_major": 2,
       "version_minor": 0
      },
      "text/plain": [
       "method:   0%|          | 0/10 [00:00<?, ?it/s]"
      ]
     },
     "metadata": {},
     "output_type": "display_data"
    },
    {
     "data": {
      "application/vnd.jupyter.widget-view+json": {
       "model_id": "",
       "version_major": 2,
       "version_minor": 0
      },
      "text/plain": [
       "method:   0%|          | 0/10 [00:00<?, ?it/s]"
      ]
     },
     "metadata": {},
     "output_type": "display_data"
    },
    {
     "data": {
      "application/vnd.jupyter.widget-view+json": {
       "model_id": "",
       "version_major": 2,
       "version_minor": 0
      },
      "text/plain": [
       "method:   0%|          | 0/10 [00:00<?, ?it/s]"
      ]
     },
     "metadata": {},
     "output_type": "display_data"
    },
    {
     "data": {
      "application/vnd.jupyter.widget-view+json": {
       "model_id": "",
       "version_major": 2,
       "version_minor": 0
      },
      "text/plain": [
       "method:   0%|          | 0/10 [00:00<?, ?it/s]"
      ]
     },
     "metadata": {},
     "output_type": "display_data"
    },
    {
     "data": {
      "application/vnd.jupyter.widget-view+json": {
       "model_id": "",
       "version_major": 2,
       "version_minor": 0
      },
      "text/plain": [
       "method:   0%|          | 0/10 [00:00<?, ?it/s]"
      ]
     },
     "metadata": {},
     "output_type": "display_data"
    },
    {
     "data": {
      "application/vnd.jupyter.widget-view+json": {
       "model_id": "",
       "version_major": 2,
       "version_minor": 0
      },
      "text/plain": [
       "method:   0%|          | 0/10 [00:00<?, ?it/s]"
      ]
     },
     "metadata": {},
     "output_type": "display_data"
    },
    {
     "data": {
      "application/vnd.jupyter.widget-view+json": {
       "model_id": "",
       "version_major": 2,
       "version_minor": 0
      },
      "text/plain": [
       "method:   0%|          | 0/10 [00:00<?, ?it/s]"
      ]
     },
     "metadata": {},
     "output_type": "display_data"
    },
    {
     "data": {
      "application/vnd.jupyter.widget-view+json": {
       "model_id": "",
       "version_major": 2,
       "version_minor": 0
      },
      "text/plain": [
       "method:   0%|          | 0/10 [00:00<?, ?it/s]"
      ]
     },
     "metadata": {},
     "output_type": "display_data"
    },
    {
     "data": {
      "application/vnd.jupyter.widget-view+json": {
       "model_id": "",
       "version_major": 2,
       "version_minor": 0
      },
      "text/plain": [
       "method:   0%|          | 0/10 [00:00<?, ?it/s]"
      ]
     },
     "metadata": {},
     "output_type": "display_data"
    },
    {
     "data": {
      "application/vnd.jupyter.widget-view+json": {
       "model_id": "",
       "version_major": 2,
       "version_minor": 0
      },
      "text/plain": [
       "Repli:   0%|          | 0/10 [00:00<?, ?it/s]"
      ]
     },
     "metadata": {},
     "output_type": "display_data"
    },
    {
     "data": {
      "application/vnd.jupyter.widget-view+json": {
       "model_id": "",
       "version_major": 2,
       "version_minor": 0
      },
      "text/plain": [
       "method:   0%|          | 0/10 [00:00<?, ?it/s]"
      ]
     },
     "metadata": {},
     "output_type": "display_data"
    },
    {
     "data": {
      "application/vnd.jupyter.widget-view+json": {
       "model_id": "",
       "version_major": 2,
       "version_minor": 0
      },
      "text/plain": [
       "method:   0%|          | 0/10 [00:00<?, ?it/s]"
      ]
     },
     "metadata": {},
     "output_type": "display_data"
    },
    {
     "data": {
      "application/vnd.jupyter.widget-view+json": {
       "model_id": "",
       "version_major": 2,
       "version_minor": 0
      },
      "text/plain": [
       "method:   0%|          | 0/10 [00:00<?, ?it/s]"
      ]
     },
     "metadata": {},
     "output_type": "display_data"
    },
    {
     "data": {
      "application/vnd.jupyter.widget-view+json": {
       "model_id": "",
       "version_major": 2,
       "version_minor": 0
      },
      "text/plain": [
       "method:   0%|          | 0/10 [00:00<?, ?it/s]"
      ]
     },
     "metadata": {},
     "output_type": "display_data"
    },
    {
     "data": {
      "application/vnd.jupyter.widget-view+json": {
       "model_id": "",
       "version_major": 2,
       "version_minor": 0
      },
      "text/plain": [
       "method:   0%|          | 0/10 [00:00<?, ?it/s]"
      ]
     },
     "metadata": {},
     "output_type": "display_data"
    },
    {
     "data": {
      "application/vnd.jupyter.widget-view+json": {
       "model_id": "",
       "version_major": 2,
       "version_minor": 0
      },
      "text/plain": [
       "method:   0%|          | 0/10 [00:00<?, ?it/s]"
      ]
     },
     "metadata": {},
     "output_type": "display_data"
    },
    {
     "data": {
      "application/vnd.jupyter.widget-view+json": {
       "model_id": "",
       "version_major": 2,
       "version_minor": 0
      },
      "text/plain": [
       "method:   0%|          | 0/10 [00:00<?, ?it/s]"
      ]
     },
     "metadata": {},
     "output_type": "display_data"
    },
    {
     "data": {
      "application/vnd.jupyter.widget-view+json": {
       "model_id": "",
       "version_major": 2,
       "version_minor": 0
      },
      "text/plain": [
       "method:   0%|          | 0/10 [00:00<?, ?it/s]"
      ]
     },
     "metadata": {},
     "output_type": "display_data"
    },
    {
     "data": {
      "application/vnd.jupyter.widget-view+json": {
       "model_id": "",
       "version_major": 2,
       "version_minor": 0
      },
      "text/plain": [
       "method:   0%|          | 0/10 [00:00<?, ?it/s]"
      ]
     },
     "metadata": {},
     "output_type": "display_data"
    },
    {
     "data": {
      "application/vnd.jupyter.widget-view+json": {
       "model_id": "",
       "version_major": 2,
       "version_minor": 0
      },
      "text/plain": [
       "method:   0%|          | 0/10 [00:00<?, ?it/s]"
      ]
     },
     "metadata": {},
     "output_type": "display_data"
    },
    {
     "data": {
      "application/vnd.jupyter.widget-view+json": {
       "model_id": "",
       "version_major": 2,
       "version_minor": 0
      },
      "text/plain": [
       "Repli:   0%|          | 0/10 [00:00<?, ?it/s]"
      ]
     },
     "metadata": {},
     "output_type": "display_data"
    },
    {
     "data": {
      "application/vnd.jupyter.widget-view+json": {
       "model_id": "",
       "version_major": 2,
       "version_minor": 0
      },
      "text/plain": [
       "method:   0%|          | 0/10 [00:00<?, ?it/s]"
      ]
     },
     "metadata": {},
     "output_type": "display_data"
    },
    {
     "data": {
      "application/vnd.jupyter.widget-view+json": {
       "model_id": "",
       "version_major": 2,
       "version_minor": 0
      },
      "text/plain": [
       "method:   0%|          | 0/10 [00:00<?, ?it/s]"
      ]
     },
     "metadata": {},
     "output_type": "display_data"
    },
    {
     "data": {
      "application/vnd.jupyter.widget-view+json": {
       "model_id": "",
       "version_major": 2,
       "version_minor": 0
      },
      "text/plain": [
       "method:   0%|          | 0/10 [00:00<?, ?it/s]"
      ]
     },
     "metadata": {},
     "output_type": "display_data"
    },
    {
     "data": {
      "application/vnd.jupyter.widget-view+json": {
       "model_id": "",
       "version_major": 2,
       "version_minor": 0
      },
      "text/plain": [
       "method:   0%|          | 0/10 [00:00<?, ?it/s]"
      ]
     },
     "metadata": {},
     "output_type": "display_data"
    },
    {
     "data": {
      "application/vnd.jupyter.widget-view+json": {
       "model_id": "",
       "version_major": 2,
       "version_minor": 0
      },
      "text/plain": [
       "method:   0%|          | 0/10 [00:00<?, ?it/s]"
      ]
     },
     "metadata": {},
     "output_type": "display_data"
    },
    {
     "data": {
      "application/vnd.jupyter.widget-view+json": {
       "model_id": "",
       "version_major": 2,
       "version_minor": 0
      },
      "text/plain": [
       "method:   0%|          | 0/10 [00:00<?, ?it/s]"
      ]
     },
     "metadata": {},
     "output_type": "display_data"
    },
    {
     "data": {
      "application/vnd.jupyter.widget-view+json": {
       "model_id": "",
       "version_major": 2,
       "version_minor": 0
      },
      "text/plain": [
       "method:   0%|          | 0/10 [00:00<?, ?it/s]"
      ]
     },
     "metadata": {},
     "output_type": "display_data"
    },
    {
     "data": {
      "application/vnd.jupyter.widget-view+json": {
       "model_id": "",
       "version_major": 2,
       "version_minor": 0
      },
      "text/plain": [
       "method:   0%|          | 0/10 [00:00<?, ?it/s]"
      ]
     },
     "metadata": {},
     "output_type": "display_data"
    },
    {
     "data": {
      "application/vnd.jupyter.widget-view+json": {
       "model_id": "",
       "version_major": 2,
       "version_minor": 0
      },
      "text/plain": [
       "method:   0%|          | 0/10 [00:00<?, ?it/s]"
      ]
     },
     "metadata": {},
     "output_type": "display_data"
    },
    {
     "data": {
      "application/vnd.jupyter.widget-view+json": {
       "model_id": "",
       "version_major": 2,
       "version_minor": 0
      },
      "text/plain": [
       "method:   0%|          | 0/10 [00:00<?, ?it/s]"
      ]
     },
     "metadata": {},
     "output_type": "display_data"
    },
    {
     "data": {
      "application/vnd.jupyter.widget-view+json": {
       "model_id": "",
       "version_major": 2,
       "version_minor": 0
      },
      "text/plain": [
       "Repli:   0%|          | 0/10 [00:00<?, ?it/s]"
      ]
     },
     "metadata": {},
     "output_type": "display_data"
    },
    {
     "data": {
      "application/vnd.jupyter.widget-view+json": {
       "model_id": "",
       "version_major": 2,
       "version_minor": 0
      },
      "text/plain": [
       "method:   0%|          | 0/10 [00:00<?, ?it/s]"
      ]
     },
     "metadata": {},
     "output_type": "display_data"
    },
    {
     "data": {
      "application/vnd.jupyter.widget-view+json": {
       "model_id": "",
       "version_major": 2,
       "version_minor": 0
      },
      "text/plain": [
       "method:   0%|          | 0/10 [00:00<?, ?it/s]"
      ]
     },
     "metadata": {},
     "output_type": "display_data"
    },
    {
     "data": {
      "application/vnd.jupyter.widget-view+json": {
       "model_id": "",
       "version_major": 2,
       "version_minor": 0
      },
      "text/plain": [
       "method:   0%|          | 0/10 [00:00<?, ?it/s]"
      ]
     },
     "metadata": {},
     "output_type": "display_data"
    },
    {
     "data": {
      "application/vnd.jupyter.widget-view+json": {
       "model_id": "",
       "version_major": 2,
       "version_minor": 0
      },
      "text/plain": [
       "method:   0%|          | 0/10 [00:00<?, ?it/s]"
      ]
     },
     "metadata": {},
     "output_type": "display_data"
    },
    {
     "data": {
      "application/vnd.jupyter.widget-view+json": {
       "model_id": "",
       "version_major": 2,
       "version_minor": 0
      },
      "text/plain": [
       "method:   0%|          | 0/10 [00:00<?, ?it/s]"
      ]
     },
     "metadata": {},
     "output_type": "display_data"
    },
    {
     "data": {
      "application/vnd.jupyter.widget-view+json": {
       "model_id": "",
       "version_major": 2,
       "version_minor": 0
      },
      "text/plain": [
       "method:   0%|          | 0/10 [00:00<?, ?it/s]"
      ]
     },
     "metadata": {},
     "output_type": "display_data"
    },
    {
     "data": {
      "application/vnd.jupyter.widget-view+json": {
       "model_id": "",
       "version_major": 2,
       "version_minor": 0
      },
      "text/plain": [
       "method:   0%|          | 0/10 [00:00<?, ?it/s]"
      ]
     },
     "metadata": {},
     "output_type": "display_data"
    },
    {
     "data": {
      "application/vnd.jupyter.widget-view+json": {
       "model_id": "",
       "version_major": 2,
       "version_minor": 0
      },
      "text/plain": [
       "method:   0%|          | 0/10 [00:00<?, ?it/s]"
      ]
     },
     "metadata": {},
     "output_type": "display_data"
    },
    {
     "data": {
      "application/vnd.jupyter.widget-view+json": {
       "model_id": "",
       "version_major": 2,
       "version_minor": 0
      },
      "text/plain": [
       "method:   0%|          | 0/10 [00:00<?, ?it/s]"
      ]
     },
     "metadata": {},
     "output_type": "display_data"
    },
    {
     "data": {
      "application/vnd.jupyter.widget-view+json": {
       "model_id": "",
       "version_major": 2,
       "version_minor": 0
      },
      "text/plain": [
       "method:   0%|          | 0/10 [00:00<?, ?it/s]"
      ]
     },
     "metadata": {},
     "output_type": "display_data"
    },
    {
     "data": {
      "application/vnd.jupyter.widget-view+json": {
       "model_id": "",
       "version_major": 2,
       "version_minor": 0
      },
      "text/plain": [
       "Macro:   0%|          | 0/10 [00:00<?, ?it/s]"
      ]
     },
     "metadata": {},
     "output_type": "display_data"
    },
    {
     "data": {
      "application/vnd.jupyter.widget-view+json": {
       "model_id": "",
       "version_major": 2,
       "version_minor": 0
      },
      "text/plain": [
       "Repli:   0%|          | 0/10 [00:00<?, ?it/s]"
      ]
     },
     "metadata": {},
     "output_type": "display_data"
    },
    {
     "data": {
      "application/vnd.jupyter.widget-view+json": {
       "model_id": "",
       "version_major": 2,
       "version_minor": 0
      },
      "text/plain": [
       "method:   0%|          | 0/10 [00:00<?, ?it/s]"
      ]
     },
     "metadata": {},
     "output_type": "display_data"
    },
    {
     "data": {
      "application/vnd.jupyter.widget-view+json": {
       "model_id": "",
       "version_major": 2,
       "version_minor": 0
      },
      "text/plain": [
       "method:   0%|          | 0/10 [00:00<?, ?it/s]"
      ]
     },
     "metadata": {},
     "output_type": "display_data"
    },
    {
     "data": {
      "application/vnd.jupyter.widget-view+json": {
       "model_id": "",
       "version_major": 2,
       "version_minor": 0
      },
      "text/plain": [
       "method:   0%|          | 0/10 [00:00<?, ?it/s]"
      ]
     },
     "metadata": {},
     "output_type": "display_data"
    },
    {
     "data": {
      "application/vnd.jupyter.widget-view+json": {
       "model_id": "",
       "version_major": 2,
       "version_minor": 0
      },
      "text/plain": [
       "method:   0%|          | 0/10 [00:00<?, ?it/s]"
      ]
     },
     "metadata": {},
     "output_type": "display_data"
    },
    {
     "data": {
      "application/vnd.jupyter.widget-view+json": {
       "model_id": "",
       "version_major": 2,
       "version_minor": 0
      },
      "text/plain": [
       "method:   0%|          | 0/10 [00:00<?, ?it/s]"
      ]
     },
     "metadata": {},
     "output_type": "display_data"
    },
    {
     "data": {
      "application/vnd.jupyter.widget-view+json": {
       "model_id": "",
       "version_major": 2,
       "version_minor": 0
      },
      "text/plain": [
       "method:   0%|          | 0/10 [00:00<?, ?it/s]"
      ]
     },
     "metadata": {},
     "output_type": "display_data"
    },
    {
     "data": {
      "application/vnd.jupyter.widget-view+json": {
       "model_id": "",
       "version_major": 2,
       "version_minor": 0
      },
      "text/plain": [
       "method:   0%|          | 0/10 [00:00<?, ?it/s]"
      ]
     },
     "metadata": {},
     "output_type": "display_data"
    },
    {
     "data": {
      "application/vnd.jupyter.widget-view+json": {
       "model_id": "",
       "version_major": 2,
       "version_minor": 0
      },
      "text/plain": [
       "method:   0%|          | 0/10 [00:00<?, ?it/s]"
      ]
     },
     "metadata": {},
     "output_type": "display_data"
    },
    {
     "data": {
      "application/vnd.jupyter.widget-view+json": {
       "model_id": "",
       "version_major": 2,
       "version_minor": 0
      },
      "text/plain": [
       "method:   0%|          | 0/10 [00:00<?, ?it/s]"
      ]
     },
     "metadata": {},
     "output_type": "display_data"
    },
    {
     "data": {
      "application/vnd.jupyter.widget-view+json": {
       "model_id": "",
       "version_major": 2,
       "version_minor": 0
      },
      "text/plain": [
       "method:   0%|          | 0/10 [00:00<?, ?it/s]"
      ]
     },
     "metadata": {},
     "output_type": "display_data"
    },
    {
     "data": {
      "application/vnd.jupyter.widget-view+json": {
       "model_id": "",
       "version_major": 2,
       "version_minor": 0
      },
      "text/plain": [
       "Repli:   0%|          | 0/10 [00:00<?, ?it/s]"
      ]
     },
     "metadata": {},
     "output_type": "display_data"
    },
    {
     "data": {
      "application/vnd.jupyter.widget-view+json": {
       "model_id": "",
       "version_major": 2,
       "version_minor": 0
      },
      "text/plain": [
       "method:   0%|          | 0/10 [00:00<?, ?it/s]"
      ]
     },
     "metadata": {},
     "output_type": "display_data"
    },
    {
     "data": {
      "application/vnd.jupyter.widget-view+json": {
       "model_id": "",
       "version_major": 2,
       "version_minor": 0
      },
      "text/plain": [
       "method:   0%|          | 0/10 [00:00<?, ?it/s]"
      ]
     },
     "metadata": {},
     "output_type": "display_data"
    },
    {
     "data": {
      "application/vnd.jupyter.widget-view+json": {
       "model_id": "",
       "version_major": 2,
       "version_minor": 0
      },
      "text/plain": [
       "method:   0%|          | 0/10 [00:00<?, ?it/s]"
      ]
     },
     "metadata": {},
     "output_type": "display_data"
    },
    {
     "data": {
      "application/vnd.jupyter.widget-view+json": {
       "model_id": "",
       "version_major": 2,
       "version_minor": 0
      },
      "text/plain": [
       "method:   0%|          | 0/10 [00:00<?, ?it/s]"
      ]
     },
     "metadata": {},
     "output_type": "display_data"
    },
    {
     "data": {
      "application/vnd.jupyter.widget-view+json": {
       "model_id": "",
       "version_major": 2,
       "version_minor": 0
      },
      "text/plain": [
       "method:   0%|          | 0/10 [00:00<?, ?it/s]"
      ]
     },
     "metadata": {},
     "output_type": "display_data"
    },
    {
     "data": {
      "application/vnd.jupyter.widget-view+json": {
       "model_id": "",
       "version_major": 2,
       "version_minor": 0
      },
      "text/plain": [
       "method:   0%|          | 0/10 [00:00<?, ?it/s]"
      ]
     },
     "metadata": {},
     "output_type": "display_data"
    },
    {
     "data": {
      "application/vnd.jupyter.widget-view+json": {
       "model_id": "",
       "version_major": 2,
       "version_minor": 0
      },
      "text/plain": [
       "method:   0%|          | 0/10 [00:00<?, ?it/s]"
      ]
     },
     "metadata": {},
     "output_type": "display_data"
    },
    {
     "data": {
      "application/vnd.jupyter.widget-view+json": {
       "model_id": "",
       "version_major": 2,
       "version_minor": 0
      },
      "text/plain": [
       "method:   0%|          | 0/10 [00:00<?, ?it/s]"
      ]
     },
     "metadata": {},
     "output_type": "display_data"
    },
    {
     "data": {
      "application/vnd.jupyter.widget-view+json": {
       "model_id": "",
       "version_major": 2,
       "version_minor": 0
      },
      "text/plain": [
       "method:   0%|          | 0/10 [00:00<?, ?it/s]"
      ]
     },
     "metadata": {},
     "output_type": "display_data"
    },
    {
     "data": {
      "application/vnd.jupyter.widget-view+json": {
       "model_id": "",
       "version_major": 2,
       "version_minor": 0
      },
      "text/plain": [
       "method:   0%|          | 0/10 [00:00<?, ?it/s]"
      ]
     },
     "metadata": {},
     "output_type": "display_data"
    },
    {
     "data": {
      "application/vnd.jupyter.widget-view+json": {
       "model_id": "",
       "version_major": 2,
       "version_minor": 0
      },
      "text/plain": [
       "Repli:   0%|          | 0/10 [00:00<?, ?it/s]"
      ]
     },
     "metadata": {},
     "output_type": "display_data"
    },
    {
     "data": {
      "application/vnd.jupyter.widget-view+json": {
       "model_id": "",
       "version_major": 2,
       "version_minor": 0
      },
      "text/plain": [
       "method:   0%|          | 0/10 [00:00<?, ?it/s]"
      ]
     },
     "metadata": {},
     "output_type": "display_data"
    },
    {
     "data": {
      "application/vnd.jupyter.widget-view+json": {
       "model_id": "",
       "version_major": 2,
       "version_minor": 0
      },
      "text/plain": [
       "method:   0%|          | 0/10 [00:00<?, ?it/s]"
      ]
     },
     "metadata": {},
     "output_type": "display_data"
    },
    {
     "data": {
      "application/vnd.jupyter.widget-view+json": {
       "model_id": "",
       "version_major": 2,
       "version_minor": 0
      },
      "text/plain": [
       "method:   0%|          | 0/10 [00:00<?, ?it/s]"
      ]
     },
     "metadata": {},
     "output_type": "display_data"
    },
    {
     "data": {
      "application/vnd.jupyter.widget-view+json": {
       "model_id": "",
       "version_major": 2,
       "version_minor": 0
      },
      "text/plain": [
       "method:   0%|          | 0/10 [00:00<?, ?it/s]"
      ]
     },
     "metadata": {},
     "output_type": "display_data"
    },
    {
     "data": {
      "application/vnd.jupyter.widget-view+json": {
       "model_id": "",
       "version_major": 2,
       "version_minor": 0
      },
      "text/plain": [
       "method:   0%|          | 0/10 [00:00<?, ?it/s]"
      ]
     },
     "metadata": {},
     "output_type": "display_data"
    },
    {
     "data": {
      "application/vnd.jupyter.widget-view+json": {
       "model_id": "",
       "version_major": 2,
       "version_minor": 0
      },
      "text/plain": [
       "method:   0%|          | 0/10 [00:00<?, ?it/s]"
      ]
     },
     "metadata": {},
     "output_type": "display_data"
    },
    {
     "data": {
      "application/vnd.jupyter.widget-view+json": {
       "model_id": "",
       "version_major": 2,
       "version_minor": 0
      },
      "text/plain": [
       "method:   0%|          | 0/10 [00:00<?, ?it/s]"
      ]
     },
     "metadata": {},
     "output_type": "display_data"
    },
    {
     "data": {
      "application/vnd.jupyter.widget-view+json": {
       "model_id": "",
       "version_major": 2,
       "version_minor": 0
      },
      "text/plain": [
       "method:   0%|          | 0/10 [00:00<?, ?it/s]"
      ]
     },
     "metadata": {},
     "output_type": "display_data"
    },
    {
     "data": {
      "application/vnd.jupyter.widget-view+json": {
       "model_id": "",
       "version_major": 2,
       "version_minor": 0
      },
      "text/plain": [
       "method:   0%|          | 0/10 [00:00<?, ?it/s]"
      ]
     },
     "metadata": {},
     "output_type": "display_data"
    },
    {
     "data": {
      "application/vnd.jupyter.widget-view+json": {
       "model_id": "",
       "version_major": 2,
       "version_minor": 0
      },
      "text/plain": [
       "method:   0%|          | 0/10 [00:00<?, ?it/s]"
      ]
     },
     "metadata": {},
     "output_type": "display_data"
    },
    {
     "data": {
      "application/vnd.jupyter.widget-view+json": {
       "model_id": "",
       "version_major": 2,
       "version_minor": 0
      },
      "text/plain": [
       "Repli:   0%|          | 0/10 [00:00<?, ?it/s]"
      ]
     },
     "metadata": {},
     "output_type": "display_data"
    },
    {
     "data": {
      "application/vnd.jupyter.widget-view+json": {
       "model_id": "",
       "version_major": 2,
       "version_minor": 0
      },
      "text/plain": [
       "method:   0%|          | 0/10 [00:00<?, ?it/s]"
      ]
     },
     "metadata": {},
     "output_type": "display_data"
    },
    {
     "data": {
      "application/vnd.jupyter.widget-view+json": {
       "model_id": "",
       "version_major": 2,
       "version_minor": 0
      },
      "text/plain": [
       "method:   0%|          | 0/10 [00:00<?, ?it/s]"
      ]
     },
     "metadata": {},
     "output_type": "display_data"
    },
    {
     "data": {
      "application/vnd.jupyter.widget-view+json": {
       "model_id": "",
       "version_major": 2,
       "version_minor": 0
      },
      "text/plain": [
       "method:   0%|          | 0/10 [00:00<?, ?it/s]"
      ]
     },
     "metadata": {},
     "output_type": "display_data"
    },
    {
     "data": {
      "application/vnd.jupyter.widget-view+json": {
       "model_id": "",
       "version_major": 2,
       "version_minor": 0
      },
      "text/plain": [
       "method:   0%|          | 0/10 [00:00<?, ?it/s]"
      ]
     },
     "metadata": {},
     "output_type": "display_data"
    },
    {
     "data": {
      "application/vnd.jupyter.widget-view+json": {
       "model_id": "",
       "version_major": 2,
       "version_minor": 0
      },
      "text/plain": [
       "method:   0%|          | 0/10 [00:00<?, ?it/s]"
      ]
     },
     "metadata": {},
     "output_type": "display_data"
    },
    {
     "data": {
      "application/vnd.jupyter.widget-view+json": {
       "model_id": "",
       "version_major": 2,
       "version_minor": 0
      },
      "text/plain": [
       "method:   0%|          | 0/10 [00:00<?, ?it/s]"
      ]
     },
     "metadata": {},
     "output_type": "display_data"
    },
    {
     "data": {
      "application/vnd.jupyter.widget-view+json": {
       "model_id": "",
       "version_major": 2,
       "version_minor": 0
      },
      "text/plain": [
       "method:   0%|          | 0/10 [00:00<?, ?it/s]"
      ]
     },
     "metadata": {},
     "output_type": "display_data"
    },
    {
     "data": {
      "application/vnd.jupyter.widget-view+json": {
       "model_id": "",
       "version_major": 2,
       "version_minor": 0
      },
      "text/plain": [
       "method:   0%|          | 0/10 [00:00<?, ?it/s]"
      ]
     },
     "metadata": {},
     "output_type": "display_data"
    },
    {
     "data": {
      "application/vnd.jupyter.widget-view+json": {
       "model_id": "",
       "version_major": 2,
       "version_minor": 0
      },
      "text/plain": [
       "method:   0%|          | 0/10 [00:00<?, ?it/s]"
      ]
     },
     "metadata": {},
     "output_type": "display_data"
    },
    {
     "data": {
      "application/vnd.jupyter.widget-view+json": {
       "model_id": "",
       "version_major": 2,
       "version_minor": 0
      },
      "text/plain": [
       "method:   0%|          | 0/10 [00:00<?, ?it/s]"
      ]
     },
     "metadata": {},
     "output_type": "display_data"
    },
    {
     "data": {
      "application/vnd.jupyter.widget-view+json": {
       "model_id": "",
       "version_major": 2,
       "version_minor": 0
      },
      "text/plain": [
       "Repli:   0%|          | 0/10 [00:00<?, ?it/s]"
      ]
     },
     "metadata": {},
     "output_type": "display_data"
    },
    {
     "data": {
      "application/vnd.jupyter.widget-view+json": {
       "model_id": "",
       "version_major": 2,
       "version_minor": 0
      },
      "text/plain": [
       "method:   0%|          | 0/10 [00:00<?, ?it/s]"
      ]
     },
     "metadata": {},
     "output_type": "display_data"
    },
    {
     "data": {
      "application/vnd.jupyter.widget-view+json": {
       "model_id": "",
       "version_major": 2,
       "version_minor": 0
      },
      "text/plain": [
       "method:   0%|          | 0/10 [00:00<?, ?it/s]"
      ]
     },
     "metadata": {},
     "output_type": "display_data"
    },
    {
     "data": {
      "application/vnd.jupyter.widget-view+json": {
       "model_id": "",
       "version_major": 2,
       "version_minor": 0
      },
      "text/plain": [
       "method:   0%|          | 0/10 [00:00<?, ?it/s]"
      ]
     },
     "metadata": {},
     "output_type": "display_data"
    },
    {
     "data": {
      "application/vnd.jupyter.widget-view+json": {
       "model_id": "",
       "version_major": 2,
       "version_minor": 0
      },
      "text/plain": [
       "method:   0%|          | 0/10 [00:00<?, ?it/s]"
      ]
     },
     "metadata": {},
     "output_type": "display_data"
    },
    {
     "data": {
      "application/vnd.jupyter.widget-view+json": {
       "model_id": "",
       "version_major": 2,
       "version_minor": 0
      },
      "text/plain": [
       "method:   0%|          | 0/10 [00:00<?, ?it/s]"
      ]
     },
     "metadata": {},
     "output_type": "display_data"
    },
    {
     "data": {
      "application/vnd.jupyter.widget-view+json": {
       "model_id": "",
       "version_major": 2,
       "version_minor": 0
      },
      "text/plain": [
       "method:   0%|          | 0/10 [00:00<?, ?it/s]"
      ]
     },
     "metadata": {},
     "output_type": "display_data"
    },
    {
     "data": {
      "application/vnd.jupyter.widget-view+json": {
       "model_id": "",
       "version_major": 2,
       "version_minor": 0
      },
      "text/plain": [
       "method:   0%|          | 0/10 [00:00<?, ?it/s]"
      ]
     },
     "metadata": {},
     "output_type": "display_data"
    },
    {
     "data": {
      "application/vnd.jupyter.widget-view+json": {
       "model_id": "",
       "version_major": 2,
       "version_minor": 0
      },
      "text/plain": [
       "method:   0%|          | 0/10 [00:00<?, ?it/s]"
      ]
     },
     "metadata": {},
     "output_type": "display_data"
    },
    {
     "data": {
      "application/vnd.jupyter.widget-view+json": {
       "model_id": "",
       "version_major": 2,
       "version_minor": 0
      },
      "text/plain": [
       "method:   0%|          | 0/10 [00:00<?, ?it/s]"
      ]
     },
     "metadata": {},
     "output_type": "display_data"
    },
    {
     "data": {
      "application/vnd.jupyter.widget-view+json": {
       "model_id": "",
       "version_major": 2,
       "version_minor": 0
      },
      "text/plain": [
       "method:   0%|          | 0/10 [00:00<?, ?it/s]"
      ]
     },
     "metadata": {},
     "output_type": "display_data"
    },
    {
     "data": {
      "application/vnd.jupyter.widget-view+json": {
       "model_id": "",
       "version_major": 2,
       "version_minor": 0
      },
      "text/plain": [
       "Repli:   0%|          | 0/10 [00:00<?, ?it/s]"
      ]
     },
     "metadata": {},
     "output_type": "display_data"
    },
    {
     "data": {
      "application/vnd.jupyter.widget-view+json": {
       "model_id": "",
       "version_major": 2,
       "version_minor": 0
      },
      "text/plain": [
       "method:   0%|          | 0/10 [00:00<?, ?it/s]"
      ]
     },
     "metadata": {},
     "output_type": "display_data"
    },
    {
     "data": {
      "application/vnd.jupyter.widget-view+json": {
       "model_id": "",
       "version_major": 2,
       "version_minor": 0
      },
      "text/plain": [
       "method:   0%|          | 0/10 [00:00<?, ?it/s]"
      ]
     },
     "metadata": {},
     "output_type": "display_data"
    },
    {
     "data": {
      "application/vnd.jupyter.widget-view+json": {
       "model_id": "",
       "version_major": 2,
       "version_minor": 0
      },
      "text/plain": [
       "method:   0%|          | 0/10 [00:00<?, ?it/s]"
      ]
     },
     "metadata": {},
     "output_type": "display_data"
    },
    {
     "data": {
      "application/vnd.jupyter.widget-view+json": {
       "model_id": "",
       "version_major": 2,
       "version_minor": 0
      },
      "text/plain": [
       "method:   0%|          | 0/10 [00:00<?, ?it/s]"
      ]
     },
     "metadata": {},
     "output_type": "display_data"
    },
    {
     "data": {
      "application/vnd.jupyter.widget-view+json": {
       "model_id": "",
       "version_major": 2,
       "version_minor": 0
      },
      "text/plain": [
       "method:   0%|          | 0/10 [00:00<?, ?it/s]"
      ]
     },
     "metadata": {},
     "output_type": "display_data"
    },
    {
     "data": {
      "application/vnd.jupyter.widget-view+json": {
       "model_id": "",
       "version_major": 2,
       "version_minor": 0
      },
      "text/plain": [
       "method:   0%|          | 0/10 [00:00<?, ?it/s]"
      ]
     },
     "metadata": {},
     "output_type": "display_data"
    },
    {
     "data": {
      "application/vnd.jupyter.widget-view+json": {
       "model_id": "",
       "version_major": 2,
       "version_minor": 0
      },
      "text/plain": [
       "method:   0%|          | 0/10 [00:00<?, ?it/s]"
      ]
     },
     "metadata": {},
     "output_type": "display_data"
    },
    {
     "data": {
      "application/vnd.jupyter.widget-view+json": {
       "model_id": "",
       "version_major": 2,
       "version_minor": 0
      },
      "text/plain": [
       "method:   0%|          | 0/10 [00:00<?, ?it/s]"
      ]
     },
     "metadata": {},
     "output_type": "display_data"
    },
    {
     "data": {
      "application/vnd.jupyter.widget-view+json": {
       "model_id": "",
       "version_major": 2,
       "version_minor": 0
      },
      "text/plain": [
       "method:   0%|          | 0/10 [00:00<?, ?it/s]"
      ]
     },
     "metadata": {},
     "output_type": "display_data"
    },
    {
     "data": {
      "application/vnd.jupyter.widget-view+json": {
       "model_id": "",
       "version_major": 2,
       "version_minor": 0
      },
      "text/plain": [
       "method:   0%|          | 0/10 [00:00<?, ?it/s]"
      ]
     },
     "metadata": {},
     "output_type": "display_data"
    },
    {
     "data": {
      "application/vnd.jupyter.widget-view+json": {
       "model_id": "",
       "version_major": 2,
       "version_minor": 0
      },
      "text/plain": [
       "Repli:   0%|          | 0/10 [00:00<?, ?it/s]"
      ]
     },
     "metadata": {},
     "output_type": "display_data"
    },
    {
     "data": {
      "application/vnd.jupyter.widget-view+json": {
       "model_id": "",
       "version_major": 2,
       "version_minor": 0
      },
      "text/plain": [
       "method:   0%|          | 0/10 [00:00<?, ?it/s]"
      ]
     },
     "metadata": {},
     "output_type": "display_data"
    },
    {
     "data": {
      "application/vnd.jupyter.widget-view+json": {
       "model_id": "",
       "version_major": 2,
       "version_minor": 0
      },
      "text/plain": [
       "method:   0%|          | 0/10 [00:00<?, ?it/s]"
      ]
     },
     "metadata": {},
     "output_type": "display_data"
    },
    {
     "data": {
      "application/vnd.jupyter.widget-view+json": {
       "model_id": "",
       "version_major": 2,
       "version_minor": 0
      },
      "text/plain": [
       "method:   0%|          | 0/10 [00:00<?, ?it/s]"
      ]
     },
     "metadata": {},
     "output_type": "display_data"
    },
    {
     "data": {
      "application/vnd.jupyter.widget-view+json": {
       "model_id": "",
       "version_major": 2,
       "version_minor": 0
      },
      "text/plain": [
       "method:   0%|          | 0/10 [00:00<?, ?it/s]"
      ]
     },
     "metadata": {},
     "output_type": "display_data"
    },
    {
     "data": {
      "application/vnd.jupyter.widget-view+json": {
       "model_id": "",
       "version_major": 2,
       "version_minor": 0
      },
      "text/plain": [
       "method:   0%|          | 0/10 [00:00<?, ?it/s]"
      ]
     },
     "metadata": {},
     "output_type": "display_data"
    },
    {
     "data": {
      "application/vnd.jupyter.widget-view+json": {
       "model_id": "",
       "version_major": 2,
       "version_minor": 0
      },
      "text/plain": [
       "method:   0%|          | 0/10 [00:00<?, ?it/s]"
      ]
     },
     "metadata": {},
     "output_type": "display_data"
    },
    {
     "data": {
      "application/vnd.jupyter.widget-view+json": {
       "model_id": "",
       "version_major": 2,
       "version_minor": 0
      },
      "text/plain": [
       "method:   0%|          | 0/10 [00:00<?, ?it/s]"
      ]
     },
     "metadata": {},
     "output_type": "display_data"
    },
    {
     "data": {
      "application/vnd.jupyter.widget-view+json": {
       "model_id": "",
       "version_major": 2,
       "version_minor": 0
      },
      "text/plain": [
       "method:   0%|          | 0/10 [00:00<?, ?it/s]"
      ]
     },
     "metadata": {},
     "output_type": "display_data"
    },
    {
     "data": {
      "application/vnd.jupyter.widget-view+json": {
       "model_id": "",
       "version_major": 2,
       "version_minor": 0
      },
      "text/plain": [
       "method:   0%|          | 0/10 [00:00<?, ?it/s]"
      ]
     },
     "metadata": {},
     "output_type": "display_data"
    },
    {
     "data": {
      "application/vnd.jupyter.widget-view+json": {
       "model_id": "",
       "version_major": 2,
       "version_minor": 0
      },
      "text/plain": [
       "method:   0%|          | 0/10 [00:00<?, ?it/s]"
      ]
     },
     "metadata": {},
     "output_type": "display_data"
    },
    {
     "data": {
      "application/vnd.jupyter.widget-view+json": {
       "model_id": "",
       "version_major": 2,
       "version_minor": 0
      },
      "text/plain": [
       "Repli:   0%|          | 0/10 [00:00<?, ?it/s]"
      ]
     },
     "metadata": {},
     "output_type": "display_data"
    },
    {
     "data": {
      "application/vnd.jupyter.widget-view+json": {
       "model_id": "",
       "version_major": 2,
       "version_minor": 0
      },
      "text/plain": [
       "method:   0%|          | 0/10 [00:00<?, ?it/s]"
      ]
     },
     "metadata": {},
     "output_type": "display_data"
    },
    {
     "data": {
      "application/vnd.jupyter.widget-view+json": {
       "model_id": "",
       "version_major": 2,
       "version_minor": 0
      },
      "text/plain": [
       "method:   0%|          | 0/10 [00:00<?, ?it/s]"
      ]
     },
     "metadata": {},
     "output_type": "display_data"
    },
    {
     "data": {
      "application/vnd.jupyter.widget-view+json": {
       "model_id": "",
       "version_major": 2,
       "version_minor": 0
      },
      "text/plain": [
       "method:   0%|          | 0/10 [00:00<?, ?it/s]"
      ]
     },
     "metadata": {},
     "output_type": "display_data"
    },
    {
     "data": {
      "application/vnd.jupyter.widget-view+json": {
       "model_id": "",
       "version_major": 2,
       "version_minor": 0
      },
      "text/plain": [
       "method:   0%|          | 0/10 [00:00<?, ?it/s]"
      ]
     },
     "metadata": {},
     "output_type": "display_data"
    },
    {
     "data": {
      "application/vnd.jupyter.widget-view+json": {
       "model_id": "",
       "version_major": 2,
       "version_minor": 0
      },
      "text/plain": [
       "method:   0%|          | 0/10 [00:00<?, ?it/s]"
      ]
     },
     "metadata": {},
     "output_type": "display_data"
    },
    {
     "data": {
      "application/vnd.jupyter.widget-view+json": {
       "model_id": "",
       "version_major": 2,
       "version_minor": 0
      },
      "text/plain": [
       "method:   0%|          | 0/10 [00:00<?, ?it/s]"
      ]
     },
     "metadata": {},
     "output_type": "display_data"
    },
    {
     "data": {
      "application/vnd.jupyter.widget-view+json": {
       "model_id": "",
       "version_major": 2,
       "version_minor": 0
      },
      "text/plain": [
       "method:   0%|          | 0/10 [00:00<?, ?it/s]"
      ]
     },
     "metadata": {},
     "output_type": "display_data"
    },
    {
     "data": {
      "application/vnd.jupyter.widget-view+json": {
       "model_id": "",
       "version_major": 2,
       "version_minor": 0
      },
      "text/plain": [
       "method:   0%|          | 0/10 [00:00<?, ?it/s]"
      ]
     },
     "metadata": {},
     "output_type": "display_data"
    },
    {
     "data": {
      "application/vnd.jupyter.widget-view+json": {
       "model_id": "",
       "version_major": 2,
       "version_minor": 0
      },
      "text/plain": [
       "method:   0%|          | 0/10 [00:00<?, ?it/s]"
      ]
     },
     "metadata": {},
     "output_type": "display_data"
    },
    {
     "data": {
      "application/vnd.jupyter.widget-view+json": {
       "model_id": "",
       "version_major": 2,
       "version_minor": 0
      },
      "text/plain": [
       "method:   0%|          | 0/10 [00:00<?, ?it/s]"
      ]
     },
     "metadata": {},
     "output_type": "display_data"
    },
    {
     "data": {
      "application/vnd.jupyter.widget-view+json": {
       "model_id": "",
       "version_major": 2,
       "version_minor": 0
      },
      "text/plain": [
       "Repli:   0%|          | 0/10 [00:00<?, ?it/s]"
      ]
     },
     "metadata": {},
     "output_type": "display_data"
    },
    {
     "data": {
      "application/vnd.jupyter.widget-view+json": {
       "model_id": "",
       "version_major": 2,
       "version_minor": 0
      },
      "text/plain": [
       "method:   0%|          | 0/10 [00:00<?, ?it/s]"
      ]
     },
     "metadata": {},
     "output_type": "display_data"
    },
    {
     "data": {
      "application/vnd.jupyter.widget-view+json": {
       "model_id": "",
       "version_major": 2,
       "version_minor": 0
      },
      "text/plain": [
       "method:   0%|          | 0/10 [00:00<?, ?it/s]"
      ]
     },
     "metadata": {},
     "output_type": "display_data"
    },
    {
     "data": {
      "application/vnd.jupyter.widget-view+json": {
       "model_id": "",
       "version_major": 2,
       "version_minor": 0
      },
      "text/plain": [
       "method:   0%|          | 0/10 [00:00<?, ?it/s]"
      ]
     },
     "metadata": {},
     "output_type": "display_data"
    },
    {
     "data": {
      "application/vnd.jupyter.widget-view+json": {
       "model_id": "",
       "version_major": 2,
       "version_minor": 0
      },
      "text/plain": [
       "method:   0%|          | 0/10 [00:00<?, ?it/s]"
      ]
     },
     "metadata": {},
     "output_type": "display_data"
    },
    {
     "data": {
      "application/vnd.jupyter.widget-view+json": {
       "model_id": "",
       "version_major": 2,
       "version_minor": 0
      },
      "text/plain": [
       "method:   0%|          | 0/10 [00:00<?, ?it/s]"
      ]
     },
     "metadata": {},
     "output_type": "display_data"
    },
    {
     "data": {
      "application/vnd.jupyter.widget-view+json": {
       "model_id": "",
       "version_major": 2,
       "version_minor": 0
      },
      "text/plain": [
       "method:   0%|          | 0/10 [00:00<?, ?it/s]"
      ]
     },
     "metadata": {},
     "output_type": "display_data"
    },
    {
     "data": {
      "application/vnd.jupyter.widget-view+json": {
       "model_id": "",
       "version_major": 2,
       "version_minor": 0
      },
      "text/plain": [
       "method:   0%|          | 0/10 [00:00<?, ?it/s]"
      ]
     },
     "metadata": {},
     "output_type": "display_data"
    },
    {
     "data": {
      "application/vnd.jupyter.widget-view+json": {
       "model_id": "",
       "version_major": 2,
       "version_minor": 0
      },
      "text/plain": [
       "method:   0%|          | 0/10 [00:00<?, ?it/s]"
      ]
     },
     "metadata": {},
     "output_type": "display_data"
    },
    {
     "data": {
      "application/vnd.jupyter.widget-view+json": {
       "model_id": "",
       "version_major": 2,
       "version_minor": 0
      },
      "text/plain": [
       "method:   0%|          | 0/10 [00:00<?, ?it/s]"
      ]
     },
     "metadata": {},
     "output_type": "display_data"
    },
    {
     "data": {
      "application/vnd.jupyter.widget-view+json": {
       "model_id": "",
       "version_major": 2,
       "version_minor": 0
      },
      "text/plain": [
       "method:   0%|          | 0/10 [00:00<?, ?it/s]"
      ]
     },
     "metadata": {},
     "output_type": "display_data"
    },
    {
     "data": {
      "application/vnd.jupyter.widget-view+json": {
       "model_id": "",
       "version_major": 2,
       "version_minor": 0
      },
      "text/plain": [
       "Repli:   0%|          | 0/10 [00:00<?, ?it/s]"
      ]
     },
     "metadata": {},
     "output_type": "display_data"
    },
    {
     "data": {
      "application/vnd.jupyter.widget-view+json": {
       "model_id": "",
       "version_major": 2,
       "version_minor": 0
      },
      "text/plain": [
       "method:   0%|          | 0/10 [00:00<?, ?it/s]"
      ]
     },
     "metadata": {},
     "output_type": "display_data"
    },
    {
     "data": {
      "application/vnd.jupyter.widget-view+json": {
       "model_id": "",
       "version_major": 2,
       "version_minor": 0
      },
      "text/plain": [
       "method:   0%|          | 0/10 [00:00<?, ?it/s]"
      ]
     },
     "metadata": {},
     "output_type": "display_data"
    },
    {
     "data": {
      "application/vnd.jupyter.widget-view+json": {
       "model_id": "",
       "version_major": 2,
       "version_minor": 0
      },
      "text/plain": [
       "method:   0%|          | 0/10 [00:00<?, ?it/s]"
      ]
     },
     "metadata": {},
     "output_type": "display_data"
    },
    {
     "data": {
      "application/vnd.jupyter.widget-view+json": {
       "model_id": "",
       "version_major": 2,
       "version_minor": 0
      },
      "text/plain": [
       "method:   0%|          | 0/10 [00:00<?, ?it/s]"
      ]
     },
     "metadata": {},
     "output_type": "display_data"
    },
    {
     "data": {
      "application/vnd.jupyter.widget-view+json": {
       "model_id": "",
       "version_major": 2,
       "version_minor": 0
      },
      "text/plain": [
       "method:   0%|          | 0/10 [00:00<?, ?it/s]"
      ]
     },
     "metadata": {},
     "output_type": "display_data"
    },
    {
     "data": {
      "application/vnd.jupyter.widget-view+json": {
       "model_id": "",
       "version_major": 2,
       "version_minor": 0
      },
      "text/plain": [
       "method:   0%|          | 0/10 [00:00<?, ?it/s]"
      ]
     },
     "metadata": {},
     "output_type": "display_data"
    },
    {
     "data": {
      "application/vnd.jupyter.widget-view+json": {
       "model_id": "",
       "version_major": 2,
       "version_minor": 0
      },
      "text/plain": [
       "method:   0%|          | 0/10 [00:00<?, ?it/s]"
      ]
     },
     "metadata": {},
     "output_type": "display_data"
    },
    {
     "data": {
      "application/vnd.jupyter.widget-view+json": {
       "model_id": "",
       "version_major": 2,
       "version_minor": 0
      },
      "text/plain": [
       "method:   0%|          | 0/10 [00:00<?, ?it/s]"
      ]
     },
     "metadata": {},
     "output_type": "display_data"
    },
    {
     "data": {
      "application/vnd.jupyter.widget-view+json": {
       "model_id": "",
       "version_major": 2,
       "version_minor": 0
      },
      "text/plain": [
       "method:   0%|          | 0/10 [00:00<?, ?it/s]"
      ]
     },
     "metadata": {},
     "output_type": "display_data"
    },
    {
     "data": {
      "application/vnd.jupyter.widget-view+json": {
       "model_id": "",
       "version_major": 2,
       "version_minor": 0
      },
      "text/plain": [
       "method:   0%|          | 0/10 [00:00<?, ?it/s]"
      ]
     },
     "metadata": {},
     "output_type": "display_data"
    },
    {
     "data": {
      "application/vnd.jupyter.widget-view+json": {
       "model_id": "",
       "version_major": 2,
       "version_minor": 0
      },
      "text/plain": [
       "Macro:   0%|          | 0/10 [00:00<?, ?it/s]"
      ]
     },
     "metadata": {},
     "output_type": "display_data"
    },
    {
     "data": {
      "application/vnd.jupyter.widget-view+json": {
       "model_id": "",
       "version_major": 2,
       "version_minor": 0
      },
      "text/plain": [
       "Repli:   0%|          | 0/10 [00:00<?, ?it/s]"
      ]
     },
     "metadata": {},
     "output_type": "display_data"
    },
    {
     "data": {
      "application/vnd.jupyter.widget-view+json": {
       "model_id": "",
       "version_major": 2,
       "version_minor": 0
      },
      "text/plain": [
       "method:   0%|          | 0/10 [00:00<?, ?it/s]"
      ]
     },
     "metadata": {},
     "output_type": "display_data"
    },
    {
     "data": {
      "application/vnd.jupyter.widget-view+json": {
       "model_id": "",
       "version_major": 2,
       "version_minor": 0
      },
      "text/plain": [
       "method:   0%|          | 0/10 [00:00<?, ?it/s]"
      ]
     },
     "metadata": {},
     "output_type": "display_data"
    },
    {
     "data": {
      "application/vnd.jupyter.widget-view+json": {
       "model_id": "",
       "version_major": 2,
       "version_minor": 0
      },
      "text/plain": [
       "method:   0%|          | 0/10 [00:00<?, ?it/s]"
      ]
     },
     "metadata": {},
     "output_type": "display_data"
    },
    {
     "data": {
      "application/vnd.jupyter.widget-view+json": {
       "model_id": "",
       "version_major": 2,
       "version_minor": 0
      },
      "text/plain": [
       "method:   0%|          | 0/10 [00:00<?, ?it/s]"
      ]
     },
     "metadata": {},
     "output_type": "display_data"
    },
    {
     "data": {
      "application/vnd.jupyter.widget-view+json": {
       "model_id": "",
       "version_major": 2,
       "version_minor": 0
      },
      "text/plain": [
       "method:   0%|          | 0/10 [00:00<?, ?it/s]"
      ]
     },
     "metadata": {},
     "output_type": "display_data"
    },
    {
     "data": {
      "application/vnd.jupyter.widget-view+json": {
       "model_id": "",
       "version_major": 2,
       "version_minor": 0
      },
      "text/plain": [
       "method:   0%|          | 0/10 [00:00<?, ?it/s]"
      ]
     },
     "metadata": {},
     "output_type": "display_data"
    },
    {
     "data": {
      "application/vnd.jupyter.widget-view+json": {
       "model_id": "",
       "version_major": 2,
       "version_minor": 0
      },
      "text/plain": [
       "method:   0%|          | 0/10 [00:00<?, ?it/s]"
      ]
     },
     "metadata": {},
     "output_type": "display_data"
    },
    {
     "data": {
      "application/vnd.jupyter.widget-view+json": {
       "model_id": "",
       "version_major": 2,
       "version_minor": 0
      },
      "text/plain": [
       "method:   0%|          | 0/10 [00:00<?, ?it/s]"
      ]
     },
     "metadata": {},
     "output_type": "display_data"
    },
    {
     "data": {
      "application/vnd.jupyter.widget-view+json": {
       "model_id": "",
       "version_major": 2,
       "version_minor": 0
      },
      "text/plain": [
       "method:   0%|          | 0/10 [00:00<?, ?it/s]"
      ]
     },
     "metadata": {},
     "output_type": "display_data"
    },
    {
     "data": {
      "application/vnd.jupyter.widget-view+json": {
       "model_id": "",
       "version_major": 2,
       "version_minor": 0
      },
      "text/plain": [
       "method:   0%|          | 0/10 [00:00<?, ?it/s]"
      ]
     },
     "metadata": {},
     "output_type": "display_data"
    },
    {
     "data": {
      "application/vnd.jupyter.widget-view+json": {
       "model_id": "",
       "version_major": 2,
       "version_minor": 0
      },
      "text/plain": [
       "Repli:   0%|          | 0/10 [00:00<?, ?it/s]"
      ]
     },
     "metadata": {},
     "output_type": "display_data"
    },
    {
     "data": {
      "application/vnd.jupyter.widget-view+json": {
       "model_id": "",
       "version_major": 2,
       "version_minor": 0
      },
      "text/plain": [
       "method:   0%|          | 0/10 [00:00<?, ?it/s]"
      ]
     },
     "metadata": {},
     "output_type": "display_data"
    },
    {
     "data": {
      "application/vnd.jupyter.widget-view+json": {
       "model_id": "",
       "version_major": 2,
       "version_minor": 0
      },
      "text/plain": [
       "method:   0%|          | 0/10 [00:00<?, ?it/s]"
      ]
     },
     "metadata": {},
     "output_type": "display_data"
    },
    {
     "data": {
      "application/vnd.jupyter.widget-view+json": {
       "model_id": "",
       "version_major": 2,
       "version_minor": 0
      },
      "text/plain": [
       "method:   0%|          | 0/10 [00:00<?, ?it/s]"
      ]
     },
     "metadata": {},
     "output_type": "display_data"
    },
    {
     "data": {
      "application/vnd.jupyter.widget-view+json": {
       "model_id": "",
       "version_major": 2,
       "version_minor": 0
      },
      "text/plain": [
       "method:   0%|          | 0/10 [00:00<?, ?it/s]"
      ]
     },
     "metadata": {},
     "output_type": "display_data"
    },
    {
     "data": {
      "application/vnd.jupyter.widget-view+json": {
       "model_id": "",
       "version_major": 2,
       "version_minor": 0
      },
      "text/plain": [
       "method:   0%|          | 0/10 [00:00<?, ?it/s]"
      ]
     },
     "metadata": {},
     "output_type": "display_data"
    },
    {
     "data": {
      "application/vnd.jupyter.widget-view+json": {
       "model_id": "",
       "version_major": 2,
       "version_minor": 0
      },
      "text/plain": [
       "method:   0%|          | 0/10 [00:00<?, ?it/s]"
      ]
     },
     "metadata": {},
     "output_type": "display_data"
    },
    {
     "data": {
      "application/vnd.jupyter.widget-view+json": {
       "model_id": "",
       "version_major": 2,
       "version_minor": 0
      },
      "text/plain": [
       "method:   0%|          | 0/10 [00:00<?, ?it/s]"
      ]
     },
     "metadata": {},
     "output_type": "display_data"
    },
    {
     "data": {
      "application/vnd.jupyter.widget-view+json": {
       "model_id": "",
       "version_major": 2,
       "version_minor": 0
      },
      "text/plain": [
       "method:   0%|          | 0/10 [00:00<?, ?it/s]"
      ]
     },
     "metadata": {},
     "output_type": "display_data"
    },
    {
     "data": {
      "application/vnd.jupyter.widget-view+json": {
       "model_id": "",
       "version_major": 2,
       "version_minor": 0
      },
      "text/plain": [
       "method:   0%|          | 0/10 [00:00<?, ?it/s]"
      ]
     },
     "metadata": {},
     "output_type": "display_data"
    },
    {
     "data": {
      "application/vnd.jupyter.widget-view+json": {
       "model_id": "",
       "version_major": 2,
       "version_minor": 0
      },
      "text/plain": [
       "method:   0%|          | 0/10 [00:00<?, ?it/s]"
      ]
     },
     "metadata": {},
     "output_type": "display_data"
    },
    {
     "data": {
      "application/vnd.jupyter.widget-view+json": {
       "model_id": "",
       "version_major": 2,
       "version_minor": 0
      },
      "text/plain": [
       "Repli:   0%|          | 0/10 [00:00<?, ?it/s]"
      ]
     },
     "metadata": {},
     "output_type": "display_data"
    },
    {
     "data": {
      "application/vnd.jupyter.widget-view+json": {
       "model_id": "",
       "version_major": 2,
       "version_minor": 0
      },
      "text/plain": [
       "method:   0%|          | 0/10 [00:00<?, ?it/s]"
      ]
     },
     "metadata": {},
     "output_type": "display_data"
    },
    {
     "data": {
      "application/vnd.jupyter.widget-view+json": {
       "model_id": "",
       "version_major": 2,
       "version_minor": 0
      },
      "text/plain": [
       "method:   0%|          | 0/10 [00:00<?, ?it/s]"
      ]
     },
     "metadata": {},
     "output_type": "display_data"
    },
    {
     "data": {
      "application/vnd.jupyter.widget-view+json": {
       "model_id": "",
       "version_major": 2,
       "version_minor": 0
      },
      "text/plain": [
       "method:   0%|          | 0/10 [00:00<?, ?it/s]"
      ]
     },
     "metadata": {},
     "output_type": "display_data"
    },
    {
     "data": {
      "application/vnd.jupyter.widget-view+json": {
       "model_id": "",
       "version_major": 2,
       "version_minor": 0
      },
      "text/plain": [
       "method:   0%|          | 0/10 [00:00<?, ?it/s]"
      ]
     },
     "metadata": {},
     "output_type": "display_data"
    },
    {
     "data": {
      "application/vnd.jupyter.widget-view+json": {
       "model_id": "",
       "version_major": 2,
       "version_minor": 0
      },
      "text/plain": [
       "method:   0%|          | 0/10 [00:00<?, ?it/s]"
      ]
     },
     "metadata": {},
     "output_type": "display_data"
    },
    {
     "data": {
      "application/vnd.jupyter.widget-view+json": {
       "model_id": "",
       "version_major": 2,
       "version_minor": 0
      },
      "text/plain": [
       "method:   0%|          | 0/10 [00:00<?, ?it/s]"
      ]
     },
     "metadata": {},
     "output_type": "display_data"
    },
    {
     "data": {
      "application/vnd.jupyter.widget-view+json": {
       "model_id": "",
       "version_major": 2,
       "version_minor": 0
      },
      "text/plain": [
       "method:   0%|          | 0/10 [00:00<?, ?it/s]"
      ]
     },
     "metadata": {},
     "output_type": "display_data"
    },
    {
     "data": {
      "application/vnd.jupyter.widget-view+json": {
       "model_id": "",
       "version_major": 2,
       "version_minor": 0
      },
      "text/plain": [
       "method:   0%|          | 0/10 [00:00<?, ?it/s]"
      ]
     },
     "metadata": {},
     "output_type": "display_data"
    },
    {
     "data": {
      "application/vnd.jupyter.widget-view+json": {
       "model_id": "",
       "version_major": 2,
       "version_minor": 0
      },
      "text/plain": [
       "method:   0%|          | 0/10 [00:00<?, ?it/s]"
      ]
     },
     "metadata": {},
     "output_type": "display_data"
    },
    {
     "data": {
      "application/vnd.jupyter.widget-view+json": {
       "model_id": "",
       "version_major": 2,
       "version_minor": 0
      },
      "text/plain": [
       "method:   0%|          | 0/10 [00:00<?, ?it/s]"
      ]
     },
     "metadata": {},
     "output_type": "display_data"
    },
    {
     "data": {
      "application/vnd.jupyter.widget-view+json": {
       "model_id": "",
       "version_major": 2,
       "version_minor": 0
      },
      "text/plain": [
       "Repli:   0%|          | 0/10 [00:00<?, ?it/s]"
      ]
     },
     "metadata": {},
     "output_type": "display_data"
    },
    {
     "data": {
      "application/vnd.jupyter.widget-view+json": {
       "model_id": "",
       "version_major": 2,
       "version_minor": 0
      },
      "text/plain": [
       "method:   0%|          | 0/10 [00:00<?, ?it/s]"
      ]
     },
     "metadata": {},
     "output_type": "display_data"
    },
    {
     "data": {
      "application/vnd.jupyter.widget-view+json": {
       "model_id": "",
       "version_major": 2,
       "version_minor": 0
      },
      "text/plain": [
       "method:   0%|          | 0/10 [00:00<?, ?it/s]"
      ]
     },
     "metadata": {},
     "output_type": "display_data"
    },
    {
     "data": {
      "application/vnd.jupyter.widget-view+json": {
       "model_id": "",
       "version_major": 2,
       "version_minor": 0
      },
      "text/plain": [
       "method:   0%|          | 0/10 [00:00<?, ?it/s]"
      ]
     },
     "metadata": {},
     "output_type": "display_data"
    },
    {
     "data": {
      "application/vnd.jupyter.widget-view+json": {
       "model_id": "",
       "version_major": 2,
       "version_minor": 0
      },
      "text/plain": [
       "method:   0%|          | 0/10 [00:00<?, ?it/s]"
      ]
     },
     "metadata": {},
     "output_type": "display_data"
    },
    {
     "data": {
      "application/vnd.jupyter.widget-view+json": {
       "model_id": "",
       "version_major": 2,
       "version_minor": 0
      },
      "text/plain": [
       "method:   0%|          | 0/10 [00:00<?, ?it/s]"
      ]
     },
     "metadata": {},
     "output_type": "display_data"
    },
    {
     "data": {
      "application/vnd.jupyter.widget-view+json": {
       "model_id": "",
       "version_major": 2,
       "version_minor": 0
      },
      "text/plain": [
       "method:   0%|          | 0/10 [00:00<?, ?it/s]"
      ]
     },
     "metadata": {},
     "output_type": "display_data"
    },
    {
     "data": {
      "application/vnd.jupyter.widget-view+json": {
       "model_id": "",
       "version_major": 2,
       "version_minor": 0
      },
      "text/plain": [
       "method:   0%|          | 0/10 [00:00<?, ?it/s]"
      ]
     },
     "metadata": {},
     "output_type": "display_data"
    },
    {
     "data": {
      "application/vnd.jupyter.widget-view+json": {
       "model_id": "",
       "version_major": 2,
       "version_minor": 0
      },
      "text/plain": [
       "method:   0%|          | 0/10 [00:00<?, ?it/s]"
      ]
     },
     "metadata": {},
     "output_type": "display_data"
    },
    {
     "data": {
      "application/vnd.jupyter.widget-view+json": {
       "model_id": "",
       "version_major": 2,
       "version_minor": 0
      },
      "text/plain": [
       "method:   0%|          | 0/10 [00:00<?, ?it/s]"
      ]
     },
     "metadata": {},
     "output_type": "display_data"
    },
    {
     "data": {
      "application/vnd.jupyter.widget-view+json": {
       "model_id": "",
       "version_major": 2,
       "version_minor": 0
      },
      "text/plain": [
       "method:   0%|          | 0/10 [00:00<?, ?it/s]"
      ]
     },
     "metadata": {},
     "output_type": "display_data"
    },
    {
     "data": {
      "application/vnd.jupyter.widget-view+json": {
       "model_id": "",
       "version_major": 2,
       "version_minor": 0
      },
      "text/plain": [
       "Repli:   0%|          | 0/10 [00:00<?, ?it/s]"
      ]
     },
     "metadata": {},
     "output_type": "display_data"
    },
    {
     "data": {
      "application/vnd.jupyter.widget-view+json": {
       "model_id": "",
       "version_major": 2,
       "version_minor": 0
      },
      "text/plain": [
       "method:   0%|          | 0/10 [00:00<?, ?it/s]"
      ]
     },
     "metadata": {},
     "output_type": "display_data"
    },
    {
     "data": {
      "application/vnd.jupyter.widget-view+json": {
       "model_id": "",
       "version_major": 2,
       "version_minor": 0
      },
      "text/plain": [
       "method:   0%|          | 0/10 [00:00<?, ?it/s]"
      ]
     },
     "metadata": {},
     "output_type": "display_data"
    },
    {
     "data": {
      "application/vnd.jupyter.widget-view+json": {
       "model_id": "",
       "version_major": 2,
       "version_minor": 0
      },
      "text/plain": [
       "method:   0%|          | 0/10 [00:00<?, ?it/s]"
      ]
     },
     "metadata": {},
     "output_type": "display_data"
    },
    {
     "data": {
      "application/vnd.jupyter.widget-view+json": {
       "model_id": "",
       "version_major": 2,
       "version_minor": 0
      },
      "text/plain": [
       "method:   0%|          | 0/10 [00:00<?, ?it/s]"
      ]
     },
     "metadata": {},
     "output_type": "display_data"
    },
    {
     "data": {
      "application/vnd.jupyter.widget-view+json": {
       "model_id": "",
       "version_major": 2,
       "version_minor": 0
      },
      "text/plain": [
       "method:   0%|          | 0/10 [00:00<?, ?it/s]"
      ]
     },
     "metadata": {},
     "output_type": "display_data"
    },
    {
     "data": {
      "application/vnd.jupyter.widget-view+json": {
       "model_id": "",
       "version_major": 2,
       "version_minor": 0
      },
      "text/plain": [
       "method:   0%|          | 0/10 [00:00<?, ?it/s]"
      ]
     },
     "metadata": {},
     "output_type": "display_data"
    },
    {
     "data": {
      "application/vnd.jupyter.widget-view+json": {
       "model_id": "",
       "version_major": 2,
       "version_minor": 0
      },
      "text/plain": [
       "method:   0%|          | 0/10 [00:00<?, ?it/s]"
      ]
     },
     "metadata": {},
     "output_type": "display_data"
    },
    {
     "data": {
      "application/vnd.jupyter.widget-view+json": {
       "model_id": "",
       "version_major": 2,
       "version_minor": 0
      },
      "text/plain": [
       "method:   0%|          | 0/10 [00:00<?, ?it/s]"
      ]
     },
     "metadata": {},
     "output_type": "display_data"
    },
    {
     "data": {
      "application/vnd.jupyter.widget-view+json": {
       "model_id": "",
       "version_major": 2,
       "version_minor": 0
      },
      "text/plain": [
       "method:   0%|          | 0/10 [00:00<?, ?it/s]"
      ]
     },
     "metadata": {},
     "output_type": "display_data"
    },
    {
     "data": {
      "application/vnd.jupyter.widget-view+json": {
       "model_id": "",
       "version_major": 2,
       "version_minor": 0
      },
      "text/plain": [
       "method:   0%|          | 0/10 [00:00<?, ?it/s]"
      ]
     },
     "metadata": {},
     "output_type": "display_data"
    },
    {
     "data": {
      "application/vnd.jupyter.widget-view+json": {
       "model_id": "",
       "version_major": 2,
       "version_minor": 0
      },
      "text/plain": [
       "Repli:   0%|          | 0/10 [00:00<?, ?it/s]"
      ]
     },
     "metadata": {},
     "output_type": "display_data"
    },
    {
     "data": {
      "application/vnd.jupyter.widget-view+json": {
       "model_id": "",
       "version_major": 2,
       "version_minor": 0
      },
      "text/plain": [
       "method:   0%|          | 0/10 [00:00<?, ?it/s]"
      ]
     },
     "metadata": {},
     "output_type": "display_data"
    },
    {
     "data": {
      "application/vnd.jupyter.widget-view+json": {
       "model_id": "",
       "version_major": 2,
       "version_minor": 0
      },
      "text/plain": [
       "method:   0%|          | 0/10 [00:00<?, ?it/s]"
      ]
     },
     "metadata": {},
     "output_type": "display_data"
    },
    {
     "data": {
      "application/vnd.jupyter.widget-view+json": {
       "model_id": "",
       "version_major": 2,
       "version_minor": 0
      },
      "text/plain": [
       "method:   0%|          | 0/10 [00:00<?, ?it/s]"
      ]
     },
     "metadata": {},
     "output_type": "display_data"
    },
    {
     "data": {
      "application/vnd.jupyter.widget-view+json": {
       "model_id": "",
       "version_major": 2,
       "version_minor": 0
      },
      "text/plain": [
       "method:   0%|          | 0/10 [00:00<?, ?it/s]"
      ]
     },
     "metadata": {},
     "output_type": "display_data"
    },
    {
     "data": {
      "application/vnd.jupyter.widget-view+json": {
       "model_id": "",
       "version_major": 2,
       "version_minor": 0
      },
      "text/plain": [
       "method:   0%|          | 0/10 [00:00<?, ?it/s]"
      ]
     },
     "metadata": {},
     "output_type": "display_data"
    },
    {
     "data": {
      "application/vnd.jupyter.widget-view+json": {
       "model_id": "",
       "version_major": 2,
       "version_minor": 0
      },
      "text/plain": [
       "method:   0%|          | 0/10 [00:00<?, ?it/s]"
      ]
     },
     "metadata": {},
     "output_type": "display_data"
    },
    {
     "data": {
      "application/vnd.jupyter.widget-view+json": {
       "model_id": "",
       "version_major": 2,
       "version_minor": 0
      },
      "text/plain": [
       "method:   0%|          | 0/10 [00:00<?, ?it/s]"
      ]
     },
     "metadata": {},
     "output_type": "display_data"
    },
    {
     "data": {
      "application/vnd.jupyter.widget-view+json": {
       "model_id": "",
       "version_major": 2,
       "version_minor": 0
      },
      "text/plain": [
       "method:   0%|          | 0/10 [00:00<?, ?it/s]"
      ]
     },
     "metadata": {},
     "output_type": "display_data"
    },
    {
     "data": {
      "application/vnd.jupyter.widget-view+json": {
       "model_id": "",
       "version_major": 2,
       "version_minor": 0
      },
      "text/plain": [
       "method:   0%|          | 0/10 [00:00<?, ?it/s]"
      ]
     },
     "metadata": {},
     "output_type": "display_data"
    },
    {
     "data": {
      "application/vnd.jupyter.widget-view+json": {
       "model_id": "",
       "version_major": 2,
       "version_minor": 0
      },
      "text/plain": [
       "method:   0%|          | 0/10 [00:00<?, ?it/s]"
      ]
     },
     "metadata": {},
     "output_type": "display_data"
    },
    {
     "data": {
      "application/vnd.jupyter.widget-view+json": {
       "model_id": "",
       "version_major": 2,
       "version_minor": 0
      },
      "text/plain": [
       "Repli:   0%|          | 0/10 [00:00<?, ?it/s]"
      ]
     },
     "metadata": {},
     "output_type": "display_data"
    },
    {
     "data": {
      "application/vnd.jupyter.widget-view+json": {
       "model_id": "",
       "version_major": 2,
       "version_minor": 0
      },
      "text/plain": [
       "method:   0%|          | 0/10 [00:00<?, ?it/s]"
      ]
     },
     "metadata": {},
     "output_type": "display_data"
    },
    {
     "data": {
      "application/vnd.jupyter.widget-view+json": {
       "model_id": "",
       "version_major": 2,
       "version_minor": 0
      },
      "text/plain": [
       "method:   0%|          | 0/10 [00:00<?, ?it/s]"
      ]
     },
     "metadata": {},
     "output_type": "display_data"
    },
    {
     "data": {
      "application/vnd.jupyter.widget-view+json": {
       "model_id": "",
       "version_major": 2,
       "version_minor": 0
      },
      "text/plain": [
       "method:   0%|          | 0/10 [00:00<?, ?it/s]"
      ]
     },
     "metadata": {},
     "output_type": "display_data"
    },
    {
     "data": {
      "application/vnd.jupyter.widget-view+json": {
       "model_id": "",
       "version_major": 2,
       "version_minor": 0
      },
      "text/plain": [
       "method:   0%|          | 0/10 [00:00<?, ?it/s]"
      ]
     },
     "metadata": {},
     "output_type": "display_data"
    },
    {
     "data": {
      "application/vnd.jupyter.widget-view+json": {
       "model_id": "",
       "version_major": 2,
       "version_minor": 0
      },
      "text/plain": [
       "method:   0%|          | 0/10 [00:00<?, ?it/s]"
      ]
     },
     "metadata": {},
     "output_type": "display_data"
    },
    {
     "data": {
      "application/vnd.jupyter.widget-view+json": {
       "model_id": "",
       "version_major": 2,
       "version_minor": 0
      },
      "text/plain": [
       "method:   0%|          | 0/10 [00:00<?, ?it/s]"
      ]
     },
     "metadata": {},
     "output_type": "display_data"
    },
    {
     "data": {
      "application/vnd.jupyter.widget-view+json": {
       "model_id": "",
       "version_major": 2,
       "version_minor": 0
      },
      "text/plain": [
       "method:   0%|          | 0/10 [00:00<?, ?it/s]"
      ]
     },
     "metadata": {},
     "output_type": "display_data"
    },
    {
     "data": {
      "application/vnd.jupyter.widget-view+json": {
       "model_id": "",
       "version_major": 2,
       "version_minor": 0
      },
      "text/plain": [
       "method:   0%|          | 0/10 [00:00<?, ?it/s]"
      ]
     },
     "metadata": {},
     "output_type": "display_data"
    },
    {
     "data": {
      "application/vnd.jupyter.widget-view+json": {
       "model_id": "",
       "version_major": 2,
       "version_minor": 0
      },
      "text/plain": [
       "method:   0%|          | 0/10 [00:00<?, ?it/s]"
      ]
     },
     "metadata": {},
     "output_type": "display_data"
    },
    {
     "data": {
      "application/vnd.jupyter.widget-view+json": {
       "model_id": "",
       "version_major": 2,
       "version_minor": 0
      },
      "text/plain": [
       "method:   0%|          | 0/10 [00:00<?, ?it/s]"
      ]
     },
     "metadata": {},
     "output_type": "display_data"
    },
    {
     "data": {
      "application/vnd.jupyter.widget-view+json": {
       "model_id": "",
       "version_major": 2,
       "version_minor": 0
      },
      "text/plain": [
       "Repli:   0%|          | 0/10 [00:00<?, ?it/s]"
      ]
     },
     "metadata": {},
     "output_type": "display_data"
    },
    {
     "data": {
      "application/vnd.jupyter.widget-view+json": {
       "model_id": "",
       "version_major": 2,
       "version_minor": 0
      },
      "text/plain": [
       "method:   0%|          | 0/10 [00:00<?, ?it/s]"
      ]
     },
     "metadata": {},
     "output_type": "display_data"
    },
    {
     "data": {
      "application/vnd.jupyter.widget-view+json": {
       "model_id": "",
       "version_major": 2,
       "version_minor": 0
      },
      "text/plain": [
       "method:   0%|          | 0/10 [00:00<?, ?it/s]"
      ]
     },
     "metadata": {},
     "output_type": "display_data"
    },
    {
     "data": {
      "application/vnd.jupyter.widget-view+json": {
       "model_id": "",
       "version_major": 2,
       "version_minor": 0
      },
      "text/plain": [
       "method:   0%|          | 0/10 [00:00<?, ?it/s]"
      ]
     },
     "metadata": {},
     "output_type": "display_data"
    },
    {
     "data": {
      "application/vnd.jupyter.widget-view+json": {
       "model_id": "",
       "version_major": 2,
       "version_minor": 0
      },
      "text/plain": [
       "method:   0%|          | 0/10 [00:00<?, ?it/s]"
      ]
     },
     "metadata": {},
     "output_type": "display_data"
    },
    {
     "data": {
      "application/vnd.jupyter.widget-view+json": {
       "model_id": "",
       "version_major": 2,
       "version_minor": 0
      },
      "text/plain": [
       "method:   0%|          | 0/10 [00:00<?, ?it/s]"
      ]
     },
     "metadata": {},
     "output_type": "display_data"
    },
    {
     "data": {
      "application/vnd.jupyter.widget-view+json": {
       "model_id": "",
       "version_major": 2,
       "version_minor": 0
      },
      "text/plain": [
       "method:   0%|          | 0/10 [00:00<?, ?it/s]"
      ]
     },
     "metadata": {},
     "output_type": "display_data"
    },
    {
     "data": {
      "application/vnd.jupyter.widget-view+json": {
       "model_id": "",
       "version_major": 2,
       "version_minor": 0
      },
      "text/plain": [
       "method:   0%|          | 0/10 [00:00<?, ?it/s]"
      ]
     },
     "metadata": {},
     "output_type": "display_data"
    },
    {
     "data": {
      "application/vnd.jupyter.widget-view+json": {
       "model_id": "",
       "version_major": 2,
       "version_minor": 0
      },
      "text/plain": [
       "method:   0%|          | 0/10 [00:00<?, ?it/s]"
      ]
     },
     "metadata": {},
     "output_type": "display_data"
    },
    {
     "data": {
      "application/vnd.jupyter.widget-view+json": {
       "model_id": "",
       "version_major": 2,
       "version_minor": 0
      },
      "text/plain": [
       "method:   0%|          | 0/10 [00:00<?, ?it/s]"
      ]
     },
     "metadata": {},
     "output_type": "display_data"
    },
    {
     "data": {
      "application/vnd.jupyter.widget-view+json": {
       "model_id": "",
       "version_major": 2,
       "version_minor": 0
      },
      "text/plain": [
       "method:   0%|          | 0/10 [00:00<?, ?it/s]"
      ]
     },
     "metadata": {},
     "output_type": "display_data"
    },
    {
     "data": {
      "application/vnd.jupyter.widget-view+json": {
       "model_id": "",
       "version_major": 2,
       "version_minor": 0
      },
      "text/plain": [
       "Repli:   0%|          | 0/10 [00:00<?, ?it/s]"
      ]
     },
     "metadata": {},
     "output_type": "display_data"
    },
    {
     "data": {
      "application/vnd.jupyter.widget-view+json": {
       "model_id": "",
       "version_major": 2,
       "version_minor": 0
      },
      "text/plain": [
       "method:   0%|          | 0/10 [00:00<?, ?it/s]"
      ]
     },
     "metadata": {},
     "output_type": "display_data"
    },
    {
     "data": {
      "application/vnd.jupyter.widget-view+json": {
       "model_id": "",
       "version_major": 2,
       "version_minor": 0
      },
      "text/plain": [
       "method:   0%|          | 0/10 [00:00<?, ?it/s]"
      ]
     },
     "metadata": {},
     "output_type": "display_data"
    },
    {
     "data": {
      "application/vnd.jupyter.widget-view+json": {
       "model_id": "",
       "version_major": 2,
       "version_minor": 0
      },
      "text/plain": [
       "method:   0%|          | 0/10 [00:00<?, ?it/s]"
      ]
     },
     "metadata": {},
     "output_type": "display_data"
    },
    {
     "data": {
      "application/vnd.jupyter.widget-view+json": {
       "model_id": "",
       "version_major": 2,
       "version_minor": 0
      },
      "text/plain": [
       "method:   0%|          | 0/10 [00:00<?, ?it/s]"
      ]
     },
     "metadata": {},
     "output_type": "display_data"
    },
    {
     "data": {
      "application/vnd.jupyter.widget-view+json": {
       "model_id": "",
       "version_major": 2,
       "version_minor": 0
      },
      "text/plain": [
       "method:   0%|          | 0/10 [00:00<?, ?it/s]"
      ]
     },
     "metadata": {},
     "output_type": "display_data"
    },
    {
     "data": {
      "application/vnd.jupyter.widget-view+json": {
       "model_id": "",
       "version_major": 2,
       "version_minor": 0
      },
      "text/plain": [
       "method:   0%|          | 0/10 [00:00<?, ?it/s]"
      ]
     },
     "metadata": {},
     "output_type": "display_data"
    },
    {
     "data": {
      "application/vnd.jupyter.widget-view+json": {
       "model_id": "",
       "version_major": 2,
       "version_minor": 0
      },
      "text/plain": [
       "method:   0%|          | 0/10 [00:00<?, ?it/s]"
      ]
     },
     "metadata": {},
     "output_type": "display_data"
    },
    {
     "data": {
      "application/vnd.jupyter.widget-view+json": {
       "model_id": "",
       "version_major": 2,
       "version_minor": 0
      },
      "text/plain": [
       "method:   0%|          | 0/10 [00:00<?, ?it/s]"
      ]
     },
     "metadata": {},
     "output_type": "display_data"
    },
    {
     "data": {
      "application/vnd.jupyter.widget-view+json": {
       "model_id": "",
       "version_major": 2,
       "version_minor": 0
      },
      "text/plain": [
       "method:   0%|          | 0/10 [00:00<?, ?it/s]"
      ]
     },
     "metadata": {},
     "output_type": "display_data"
    },
    {
     "data": {
      "application/vnd.jupyter.widget-view+json": {
       "model_id": "",
       "version_major": 2,
       "version_minor": 0
      },
      "text/plain": [
       "method:   0%|          | 0/10 [00:00<?, ?it/s]"
      ]
     },
     "metadata": {},
     "output_type": "display_data"
    },
    {
     "data": {
      "application/vnd.jupyter.widget-view+json": {
       "model_id": "",
       "version_major": 2,
       "version_minor": 0
      },
      "text/plain": [
       "Repli:   0%|          | 0/10 [00:00<?, ?it/s]"
      ]
     },
     "metadata": {},
     "output_type": "display_data"
    },
    {
     "data": {
      "application/vnd.jupyter.widget-view+json": {
       "model_id": "",
       "version_major": 2,
       "version_minor": 0
      },
      "text/plain": [
       "method:   0%|          | 0/10 [00:00<?, ?it/s]"
      ]
     },
     "metadata": {},
     "output_type": "display_data"
    },
    {
     "data": {
      "application/vnd.jupyter.widget-view+json": {
       "model_id": "",
       "version_major": 2,
       "version_minor": 0
      },
      "text/plain": [
       "method:   0%|          | 0/10 [00:00<?, ?it/s]"
      ]
     },
     "metadata": {},
     "output_type": "display_data"
    },
    {
     "data": {
      "application/vnd.jupyter.widget-view+json": {
       "model_id": "",
       "version_major": 2,
       "version_minor": 0
      },
      "text/plain": [
       "method:   0%|          | 0/10 [00:00<?, ?it/s]"
      ]
     },
     "metadata": {},
     "output_type": "display_data"
    },
    {
     "data": {
      "application/vnd.jupyter.widget-view+json": {
       "model_id": "",
       "version_major": 2,
       "version_minor": 0
      },
      "text/plain": [
       "method:   0%|          | 0/10 [00:00<?, ?it/s]"
      ]
     },
     "metadata": {},
     "output_type": "display_data"
    },
    {
     "data": {
      "application/vnd.jupyter.widget-view+json": {
       "model_id": "",
       "version_major": 2,
       "version_minor": 0
      },
      "text/plain": [
       "method:   0%|          | 0/10 [00:00<?, ?it/s]"
      ]
     },
     "metadata": {},
     "output_type": "display_data"
    },
    {
     "data": {
      "application/vnd.jupyter.widget-view+json": {
       "model_id": "",
       "version_major": 2,
       "version_minor": 0
      },
      "text/plain": [
       "method:   0%|          | 0/10 [00:00<?, ?it/s]"
      ]
     },
     "metadata": {},
     "output_type": "display_data"
    },
    {
     "data": {
      "application/vnd.jupyter.widget-view+json": {
       "model_id": "",
       "version_major": 2,
       "version_minor": 0
      },
      "text/plain": [
       "method:   0%|          | 0/10 [00:00<?, ?it/s]"
      ]
     },
     "metadata": {},
     "output_type": "display_data"
    },
    {
     "data": {
      "application/vnd.jupyter.widget-view+json": {
       "model_id": "",
       "version_major": 2,
       "version_minor": 0
      },
      "text/plain": [
       "method:   0%|          | 0/10 [00:00<?, ?it/s]"
      ]
     },
     "metadata": {},
     "output_type": "display_data"
    },
    {
     "data": {
      "application/vnd.jupyter.widget-view+json": {
       "model_id": "",
       "version_major": 2,
       "version_minor": 0
      },
      "text/plain": [
       "method:   0%|          | 0/10 [00:00<?, ?it/s]"
      ]
     },
     "metadata": {},
     "output_type": "display_data"
    },
    {
     "data": {
      "application/vnd.jupyter.widget-view+json": {
       "model_id": "",
       "version_major": 2,
       "version_minor": 0
      },
      "text/plain": [
       "method:   0%|          | 0/10 [00:00<?, ?it/s]"
      ]
     },
     "metadata": {},
     "output_type": "display_data"
    },
    {
     "data": {
      "application/vnd.jupyter.widget-view+json": {
       "model_id": "",
       "version_major": 2,
       "version_minor": 0
      },
      "text/plain": [
       "Macro:   0%|          | 0/10 [00:00<?, ?it/s]"
      ]
     },
     "metadata": {},
     "output_type": "display_data"
    },
    {
     "data": {
      "application/vnd.jupyter.widget-view+json": {
       "model_id": "",
       "version_major": 2,
       "version_minor": 0
      },
      "text/plain": [
       "Repli:   0%|          | 0/10 [00:00<?, ?it/s]"
      ]
     },
     "metadata": {},
     "output_type": "display_data"
    },
    {
     "data": {
      "application/vnd.jupyter.widget-view+json": {
       "model_id": "",
       "version_major": 2,
       "version_minor": 0
      },
      "text/plain": [
       "method:   0%|          | 0/10 [00:00<?, ?it/s]"
      ]
     },
     "metadata": {},
     "output_type": "display_data"
    },
    {
     "data": {
      "application/vnd.jupyter.widget-view+json": {
       "model_id": "",
       "version_major": 2,
       "version_minor": 0
      },
      "text/plain": [
       "method:   0%|          | 0/10 [00:00<?, ?it/s]"
      ]
     },
     "metadata": {},
     "output_type": "display_data"
    },
    {
     "data": {
      "application/vnd.jupyter.widget-view+json": {
       "model_id": "",
       "version_major": 2,
       "version_minor": 0
      },
      "text/plain": [
       "method:   0%|          | 0/10 [00:00<?, ?it/s]"
      ]
     },
     "metadata": {},
     "output_type": "display_data"
    },
    {
     "data": {
      "application/vnd.jupyter.widget-view+json": {
       "model_id": "",
       "version_major": 2,
       "version_minor": 0
      },
      "text/plain": [
       "method:   0%|          | 0/10 [00:00<?, ?it/s]"
      ]
     },
     "metadata": {},
     "output_type": "display_data"
    },
    {
     "data": {
      "application/vnd.jupyter.widget-view+json": {
       "model_id": "",
       "version_major": 2,
       "version_minor": 0
      },
      "text/plain": [
       "method:   0%|          | 0/10 [00:00<?, ?it/s]"
      ]
     },
     "metadata": {},
     "output_type": "display_data"
    },
    {
     "data": {
      "application/vnd.jupyter.widget-view+json": {
       "model_id": "",
       "version_major": 2,
       "version_minor": 0
      },
      "text/plain": [
       "method:   0%|          | 0/10 [00:00<?, ?it/s]"
      ]
     },
     "metadata": {},
     "output_type": "display_data"
    },
    {
     "data": {
      "application/vnd.jupyter.widget-view+json": {
       "model_id": "",
       "version_major": 2,
       "version_minor": 0
      },
      "text/plain": [
       "method:   0%|          | 0/10 [00:00<?, ?it/s]"
      ]
     },
     "metadata": {},
     "output_type": "display_data"
    },
    {
     "data": {
      "application/vnd.jupyter.widget-view+json": {
       "model_id": "",
       "version_major": 2,
       "version_minor": 0
      },
      "text/plain": [
       "method:   0%|          | 0/10 [00:00<?, ?it/s]"
      ]
     },
     "metadata": {},
     "output_type": "display_data"
    },
    {
     "data": {
      "application/vnd.jupyter.widget-view+json": {
       "model_id": "",
       "version_major": 2,
       "version_minor": 0
      },
      "text/plain": [
       "method:   0%|          | 0/10 [00:00<?, ?it/s]"
      ]
     },
     "metadata": {},
     "output_type": "display_data"
    },
    {
     "data": {
      "application/vnd.jupyter.widget-view+json": {
       "model_id": "",
       "version_major": 2,
       "version_minor": 0
      },
      "text/plain": [
       "method:   0%|          | 0/10 [00:00<?, ?it/s]"
      ]
     },
     "metadata": {},
     "output_type": "display_data"
    },
    {
     "data": {
      "application/vnd.jupyter.widget-view+json": {
       "model_id": "",
       "version_major": 2,
       "version_minor": 0
      },
      "text/plain": [
       "Repli:   0%|          | 0/10 [00:00<?, ?it/s]"
      ]
     },
     "metadata": {},
     "output_type": "display_data"
    },
    {
     "data": {
      "application/vnd.jupyter.widget-view+json": {
       "model_id": "",
       "version_major": 2,
       "version_minor": 0
      },
      "text/plain": [
       "method:   0%|          | 0/10 [00:00<?, ?it/s]"
      ]
     },
     "metadata": {},
     "output_type": "display_data"
    },
    {
     "data": {
      "application/vnd.jupyter.widget-view+json": {
       "model_id": "",
       "version_major": 2,
       "version_minor": 0
      },
      "text/plain": [
       "method:   0%|          | 0/10 [00:00<?, ?it/s]"
      ]
     },
     "metadata": {},
     "output_type": "display_data"
    },
    {
     "data": {
      "application/vnd.jupyter.widget-view+json": {
       "model_id": "",
       "version_major": 2,
       "version_minor": 0
      },
      "text/plain": [
       "method:   0%|          | 0/10 [00:00<?, ?it/s]"
      ]
     },
     "metadata": {},
     "output_type": "display_data"
    },
    {
     "data": {
      "application/vnd.jupyter.widget-view+json": {
       "model_id": "",
       "version_major": 2,
       "version_minor": 0
      },
      "text/plain": [
       "method:   0%|          | 0/10 [00:00<?, ?it/s]"
      ]
     },
     "metadata": {},
     "output_type": "display_data"
    },
    {
     "data": {
      "application/vnd.jupyter.widget-view+json": {
       "model_id": "",
       "version_major": 2,
       "version_minor": 0
      },
      "text/plain": [
       "method:   0%|          | 0/10 [00:00<?, ?it/s]"
      ]
     },
     "metadata": {},
     "output_type": "display_data"
    },
    {
     "data": {
      "application/vnd.jupyter.widget-view+json": {
       "model_id": "",
       "version_major": 2,
       "version_minor": 0
      },
      "text/plain": [
       "method:   0%|          | 0/10 [00:00<?, ?it/s]"
      ]
     },
     "metadata": {},
     "output_type": "display_data"
    },
    {
     "data": {
      "application/vnd.jupyter.widget-view+json": {
       "model_id": "",
       "version_major": 2,
       "version_minor": 0
      },
      "text/plain": [
       "method:   0%|          | 0/10 [00:00<?, ?it/s]"
      ]
     },
     "metadata": {},
     "output_type": "display_data"
    },
    {
     "data": {
      "application/vnd.jupyter.widget-view+json": {
       "model_id": "",
       "version_major": 2,
       "version_minor": 0
      },
      "text/plain": [
       "method:   0%|          | 0/10 [00:00<?, ?it/s]"
      ]
     },
     "metadata": {},
     "output_type": "display_data"
    },
    {
     "data": {
      "application/vnd.jupyter.widget-view+json": {
       "model_id": "",
       "version_major": 2,
       "version_minor": 0
      },
      "text/plain": [
       "method:   0%|          | 0/10 [00:00<?, ?it/s]"
      ]
     },
     "metadata": {},
     "output_type": "display_data"
    },
    {
     "data": {
      "application/vnd.jupyter.widget-view+json": {
       "model_id": "",
       "version_major": 2,
       "version_minor": 0
      },
      "text/plain": [
       "method:   0%|          | 0/10 [00:00<?, ?it/s]"
      ]
     },
     "metadata": {},
     "output_type": "display_data"
    },
    {
     "data": {
      "application/vnd.jupyter.widget-view+json": {
       "model_id": "",
       "version_major": 2,
       "version_minor": 0
      },
      "text/plain": [
       "Repli:   0%|          | 0/10 [00:00<?, ?it/s]"
      ]
     },
     "metadata": {},
     "output_type": "display_data"
    },
    {
     "data": {
      "application/vnd.jupyter.widget-view+json": {
       "model_id": "",
       "version_major": 2,
       "version_minor": 0
      },
      "text/plain": [
       "method:   0%|          | 0/10 [00:00<?, ?it/s]"
      ]
     },
     "metadata": {},
     "output_type": "display_data"
    },
    {
     "data": {
      "application/vnd.jupyter.widget-view+json": {
       "model_id": "",
       "version_major": 2,
       "version_minor": 0
      },
      "text/plain": [
       "method:   0%|          | 0/10 [00:00<?, ?it/s]"
      ]
     },
     "metadata": {},
     "output_type": "display_data"
    },
    {
     "data": {
      "application/vnd.jupyter.widget-view+json": {
       "model_id": "",
       "version_major": 2,
       "version_minor": 0
      },
      "text/plain": [
       "method:   0%|          | 0/10 [00:00<?, ?it/s]"
      ]
     },
     "metadata": {},
     "output_type": "display_data"
    },
    {
     "data": {
      "application/vnd.jupyter.widget-view+json": {
       "model_id": "",
       "version_major": 2,
       "version_minor": 0
      },
      "text/plain": [
       "method:   0%|          | 0/10 [00:00<?, ?it/s]"
      ]
     },
     "metadata": {},
     "output_type": "display_data"
    },
    {
     "data": {
      "application/vnd.jupyter.widget-view+json": {
       "model_id": "",
       "version_major": 2,
       "version_minor": 0
      },
      "text/plain": [
       "method:   0%|          | 0/10 [00:00<?, ?it/s]"
      ]
     },
     "metadata": {},
     "output_type": "display_data"
    },
    {
     "data": {
      "application/vnd.jupyter.widget-view+json": {
       "model_id": "",
       "version_major": 2,
       "version_minor": 0
      },
      "text/plain": [
       "method:   0%|          | 0/10 [00:00<?, ?it/s]"
      ]
     },
     "metadata": {},
     "output_type": "display_data"
    },
    {
     "data": {
      "application/vnd.jupyter.widget-view+json": {
       "model_id": "",
       "version_major": 2,
       "version_minor": 0
      },
      "text/plain": [
       "method:   0%|          | 0/10 [00:00<?, ?it/s]"
      ]
     },
     "metadata": {},
     "output_type": "display_data"
    },
    {
     "data": {
      "application/vnd.jupyter.widget-view+json": {
       "model_id": "",
       "version_major": 2,
       "version_minor": 0
      },
      "text/plain": [
       "method:   0%|          | 0/10 [00:00<?, ?it/s]"
      ]
     },
     "metadata": {},
     "output_type": "display_data"
    },
    {
     "data": {
      "application/vnd.jupyter.widget-view+json": {
       "model_id": "",
       "version_major": 2,
       "version_minor": 0
      },
      "text/plain": [
       "method:   0%|          | 0/10 [00:00<?, ?it/s]"
      ]
     },
     "metadata": {},
     "output_type": "display_data"
    },
    {
     "data": {
      "application/vnd.jupyter.widget-view+json": {
       "model_id": "",
       "version_major": 2,
       "version_minor": 0
      },
      "text/plain": [
       "method:   0%|          | 0/10 [00:00<?, ?it/s]"
      ]
     },
     "metadata": {},
     "output_type": "display_data"
    },
    {
     "data": {
      "application/vnd.jupyter.widget-view+json": {
       "model_id": "",
       "version_major": 2,
       "version_minor": 0
      },
      "text/plain": [
       "Repli:   0%|          | 0/10 [00:00<?, ?it/s]"
      ]
     },
     "metadata": {},
     "output_type": "display_data"
    },
    {
     "data": {
      "application/vnd.jupyter.widget-view+json": {
       "model_id": "",
       "version_major": 2,
       "version_minor": 0
      },
      "text/plain": [
       "method:   0%|          | 0/10 [00:00<?, ?it/s]"
      ]
     },
     "metadata": {},
     "output_type": "display_data"
    },
    {
     "data": {
      "application/vnd.jupyter.widget-view+json": {
       "model_id": "",
       "version_major": 2,
       "version_minor": 0
      },
      "text/plain": [
       "method:   0%|          | 0/10 [00:00<?, ?it/s]"
      ]
     },
     "metadata": {},
     "output_type": "display_data"
    },
    {
     "data": {
      "application/vnd.jupyter.widget-view+json": {
       "model_id": "",
       "version_major": 2,
       "version_minor": 0
      },
      "text/plain": [
       "method:   0%|          | 0/10 [00:00<?, ?it/s]"
      ]
     },
     "metadata": {},
     "output_type": "display_data"
    },
    {
     "data": {
      "application/vnd.jupyter.widget-view+json": {
       "model_id": "",
       "version_major": 2,
       "version_minor": 0
      },
      "text/plain": [
       "method:   0%|          | 0/10 [00:00<?, ?it/s]"
      ]
     },
     "metadata": {},
     "output_type": "display_data"
    },
    {
     "data": {
      "application/vnd.jupyter.widget-view+json": {
       "model_id": "",
       "version_major": 2,
       "version_minor": 0
      },
      "text/plain": [
       "method:   0%|          | 0/10 [00:00<?, ?it/s]"
      ]
     },
     "metadata": {},
     "output_type": "display_data"
    },
    {
     "data": {
      "application/vnd.jupyter.widget-view+json": {
       "model_id": "",
       "version_major": 2,
       "version_minor": 0
      },
      "text/plain": [
       "method:   0%|          | 0/10 [00:00<?, ?it/s]"
      ]
     },
     "metadata": {},
     "output_type": "display_data"
    },
    {
     "data": {
      "application/vnd.jupyter.widget-view+json": {
       "model_id": "",
       "version_major": 2,
       "version_minor": 0
      },
      "text/plain": [
       "method:   0%|          | 0/10 [00:00<?, ?it/s]"
      ]
     },
     "metadata": {},
     "output_type": "display_data"
    },
    {
     "data": {
      "application/vnd.jupyter.widget-view+json": {
       "model_id": "",
       "version_major": 2,
       "version_minor": 0
      },
      "text/plain": [
       "method:   0%|          | 0/10 [00:00<?, ?it/s]"
      ]
     },
     "metadata": {},
     "output_type": "display_data"
    },
    {
     "data": {
      "application/vnd.jupyter.widget-view+json": {
       "model_id": "",
       "version_major": 2,
       "version_minor": 0
      },
      "text/plain": [
       "method:   0%|          | 0/10 [00:00<?, ?it/s]"
      ]
     },
     "metadata": {},
     "output_type": "display_data"
    },
    {
     "data": {
      "application/vnd.jupyter.widget-view+json": {
       "model_id": "",
       "version_major": 2,
       "version_minor": 0
      },
      "text/plain": [
       "method:   0%|          | 0/10 [00:00<?, ?it/s]"
      ]
     },
     "metadata": {},
     "output_type": "display_data"
    },
    {
     "data": {
      "application/vnd.jupyter.widget-view+json": {
       "model_id": "",
       "version_major": 2,
       "version_minor": 0
      },
      "text/plain": [
       "Repli:   0%|          | 0/10 [00:00<?, ?it/s]"
      ]
     },
     "metadata": {},
     "output_type": "display_data"
    },
    {
     "data": {
      "application/vnd.jupyter.widget-view+json": {
       "model_id": "",
       "version_major": 2,
       "version_minor": 0
      },
      "text/plain": [
       "method:   0%|          | 0/10 [00:00<?, ?it/s]"
      ]
     },
     "metadata": {},
     "output_type": "display_data"
    },
    {
     "data": {
      "application/vnd.jupyter.widget-view+json": {
       "model_id": "",
       "version_major": 2,
       "version_minor": 0
      },
      "text/plain": [
       "method:   0%|          | 0/10 [00:00<?, ?it/s]"
      ]
     },
     "metadata": {},
     "output_type": "display_data"
    },
    {
     "data": {
      "application/vnd.jupyter.widget-view+json": {
       "model_id": "",
       "version_major": 2,
       "version_minor": 0
      },
      "text/plain": [
       "method:   0%|          | 0/10 [00:00<?, ?it/s]"
      ]
     },
     "metadata": {},
     "output_type": "display_data"
    },
    {
     "data": {
      "application/vnd.jupyter.widget-view+json": {
       "model_id": "",
       "version_major": 2,
       "version_minor": 0
      },
      "text/plain": [
       "method:   0%|          | 0/10 [00:00<?, ?it/s]"
      ]
     },
     "metadata": {},
     "output_type": "display_data"
    },
    {
     "data": {
      "application/vnd.jupyter.widget-view+json": {
       "model_id": "",
       "version_major": 2,
       "version_minor": 0
      },
      "text/plain": [
       "method:   0%|          | 0/10 [00:00<?, ?it/s]"
      ]
     },
     "metadata": {},
     "output_type": "display_data"
    },
    {
     "data": {
      "application/vnd.jupyter.widget-view+json": {
       "model_id": "",
       "version_major": 2,
       "version_minor": 0
      },
      "text/plain": [
       "method:   0%|          | 0/10 [00:00<?, ?it/s]"
      ]
     },
     "metadata": {},
     "output_type": "display_data"
    },
    {
     "data": {
      "application/vnd.jupyter.widget-view+json": {
       "model_id": "",
       "version_major": 2,
       "version_minor": 0
      },
      "text/plain": [
       "method:   0%|          | 0/10 [00:00<?, ?it/s]"
      ]
     },
     "metadata": {},
     "output_type": "display_data"
    },
    {
     "data": {
      "application/vnd.jupyter.widget-view+json": {
       "model_id": "",
       "version_major": 2,
       "version_minor": 0
      },
      "text/plain": [
       "method:   0%|          | 0/10 [00:00<?, ?it/s]"
      ]
     },
     "metadata": {},
     "output_type": "display_data"
    },
    {
     "data": {
      "application/vnd.jupyter.widget-view+json": {
       "model_id": "",
       "version_major": 2,
       "version_minor": 0
      },
      "text/plain": [
       "method:   0%|          | 0/10 [00:00<?, ?it/s]"
      ]
     },
     "metadata": {},
     "output_type": "display_data"
    },
    {
     "data": {
      "application/vnd.jupyter.widget-view+json": {
       "model_id": "",
       "version_major": 2,
       "version_minor": 0
      },
      "text/plain": [
       "method:   0%|          | 0/10 [00:00<?, ?it/s]"
      ]
     },
     "metadata": {},
     "output_type": "display_data"
    },
    {
     "data": {
      "application/vnd.jupyter.widget-view+json": {
       "model_id": "",
       "version_major": 2,
       "version_minor": 0
      },
      "text/plain": [
       "Repli:   0%|          | 0/10 [00:00<?, ?it/s]"
      ]
     },
     "metadata": {},
     "output_type": "display_data"
    },
    {
     "data": {
      "application/vnd.jupyter.widget-view+json": {
       "model_id": "",
       "version_major": 2,
       "version_minor": 0
      },
      "text/plain": [
       "method:   0%|          | 0/10 [00:00<?, ?it/s]"
      ]
     },
     "metadata": {},
     "output_type": "display_data"
    },
    {
     "data": {
      "application/vnd.jupyter.widget-view+json": {
       "model_id": "",
       "version_major": 2,
       "version_minor": 0
      },
      "text/plain": [
       "method:   0%|          | 0/10 [00:00<?, ?it/s]"
      ]
     },
     "metadata": {},
     "output_type": "display_data"
    },
    {
     "data": {
      "application/vnd.jupyter.widget-view+json": {
       "model_id": "",
       "version_major": 2,
       "version_minor": 0
      },
      "text/plain": [
       "method:   0%|          | 0/10 [00:00<?, ?it/s]"
      ]
     },
     "metadata": {},
     "output_type": "display_data"
    },
    {
     "data": {
      "application/vnd.jupyter.widget-view+json": {
       "model_id": "",
       "version_major": 2,
       "version_minor": 0
      },
      "text/plain": [
       "method:   0%|          | 0/10 [00:00<?, ?it/s]"
      ]
     },
     "metadata": {},
     "output_type": "display_data"
    },
    {
     "data": {
      "application/vnd.jupyter.widget-view+json": {
       "model_id": "",
       "version_major": 2,
       "version_minor": 0
      },
      "text/plain": [
       "method:   0%|          | 0/10 [00:00<?, ?it/s]"
      ]
     },
     "metadata": {},
     "output_type": "display_data"
    },
    {
     "data": {
      "application/vnd.jupyter.widget-view+json": {
       "model_id": "",
       "version_major": 2,
       "version_minor": 0
      },
      "text/plain": [
       "method:   0%|          | 0/10 [00:00<?, ?it/s]"
      ]
     },
     "metadata": {},
     "output_type": "display_data"
    },
    {
     "data": {
      "application/vnd.jupyter.widget-view+json": {
       "model_id": "",
       "version_major": 2,
       "version_minor": 0
      },
      "text/plain": [
       "method:   0%|          | 0/10 [00:00<?, ?it/s]"
      ]
     },
     "metadata": {},
     "output_type": "display_data"
    },
    {
     "data": {
      "application/vnd.jupyter.widget-view+json": {
       "model_id": "",
       "version_major": 2,
       "version_minor": 0
      },
      "text/plain": [
       "method:   0%|          | 0/10 [00:00<?, ?it/s]"
      ]
     },
     "metadata": {},
     "output_type": "display_data"
    },
    {
     "data": {
      "application/vnd.jupyter.widget-view+json": {
       "model_id": "",
       "version_major": 2,
       "version_minor": 0
      },
      "text/plain": [
       "method:   0%|          | 0/10 [00:00<?, ?it/s]"
      ]
     },
     "metadata": {},
     "output_type": "display_data"
    },
    {
     "data": {
      "application/vnd.jupyter.widget-view+json": {
       "model_id": "",
       "version_major": 2,
       "version_minor": 0
      },
      "text/plain": [
       "method:   0%|          | 0/10 [00:00<?, ?it/s]"
      ]
     },
     "metadata": {},
     "output_type": "display_data"
    },
    {
     "data": {
      "application/vnd.jupyter.widget-view+json": {
       "model_id": "",
       "version_major": 2,
       "version_minor": 0
      },
      "text/plain": [
       "Repli:   0%|          | 0/10 [00:00<?, ?it/s]"
      ]
     },
     "metadata": {},
     "output_type": "display_data"
    },
    {
     "data": {
      "application/vnd.jupyter.widget-view+json": {
       "model_id": "",
       "version_major": 2,
       "version_minor": 0
      },
      "text/plain": [
       "method:   0%|          | 0/10 [00:00<?, ?it/s]"
      ]
     },
     "metadata": {},
     "output_type": "display_data"
    },
    {
     "data": {
      "application/vnd.jupyter.widget-view+json": {
       "model_id": "",
       "version_major": 2,
       "version_minor": 0
      },
      "text/plain": [
       "method:   0%|          | 0/10 [00:00<?, ?it/s]"
      ]
     },
     "metadata": {},
     "output_type": "display_data"
    },
    {
     "data": {
      "application/vnd.jupyter.widget-view+json": {
       "model_id": "",
       "version_major": 2,
       "version_minor": 0
      },
      "text/plain": [
       "method:   0%|          | 0/10 [00:00<?, ?it/s]"
      ]
     },
     "metadata": {},
     "output_type": "display_data"
    },
    {
     "data": {
      "application/vnd.jupyter.widget-view+json": {
       "model_id": "",
       "version_major": 2,
       "version_minor": 0
      },
      "text/plain": [
       "method:   0%|          | 0/10 [00:00<?, ?it/s]"
      ]
     },
     "metadata": {},
     "output_type": "display_data"
    },
    {
     "data": {
      "application/vnd.jupyter.widget-view+json": {
       "model_id": "",
       "version_major": 2,
       "version_minor": 0
      },
      "text/plain": [
       "method:   0%|          | 0/10 [00:00<?, ?it/s]"
      ]
     },
     "metadata": {},
     "output_type": "display_data"
    },
    {
     "data": {
      "application/vnd.jupyter.widget-view+json": {
       "model_id": "",
       "version_major": 2,
       "version_minor": 0
      },
      "text/plain": [
       "method:   0%|          | 0/10 [00:00<?, ?it/s]"
      ]
     },
     "metadata": {},
     "output_type": "display_data"
    },
    {
     "data": {
      "application/vnd.jupyter.widget-view+json": {
       "model_id": "",
       "version_major": 2,
       "version_minor": 0
      },
      "text/plain": [
       "method:   0%|          | 0/10 [00:00<?, ?it/s]"
      ]
     },
     "metadata": {},
     "output_type": "display_data"
    },
    {
     "data": {
      "application/vnd.jupyter.widget-view+json": {
       "model_id": "",
       "version_major": 2,
       "version_minor": 0
      },
      "text/plain": [
       "method:   0%|          | 0/10 [00:00<?, ?it/s]"
      ]
     },
     "metadata": {},
     "output_type": "display_data"
    },
    {
     "data": {
      "application/vnd.jupyter.widget-view+json": {
       "model_id": "",
       "version_major": 2,
       "version_minor": 0
      },
      "text/plain": [
       "method:   0%|          | 0/10 [00:00<?, ?it/s]"
      ]
     },
     "metadata": {},
     "output_type": "display_data"
    },
    {
     "data": {
      "application/vnd.jupyter.widget-view+json": {
       "model_id": "",
       "version_major": 2,
       "version_minor": 0
      },
      "text/plain": [
       "method:   0%|          | 0/10 [00:00<?, ?it/s]"
      ]
     },
     "metadata": {},
     "output_type": "display_data"
    },
    {
     "data": {
      "application/vnd.jupyter.widget-view+json": {
       "model_id": "",
       "version_major": 2,
       "version_minor": 0
      },
      "text/plain": [
       "Repli:   0%|          | 0/10 [00:00<?, ?it/s]"
      ]
     },
     "metadata": {},
     "output_type": "display_data"
    },
    {
     "data": {
      "application/vnd.jupyter.widget-view+json": {
       "model_id": "",
       "version_major": 2,
       "version_minor": 0
      },
      "text/plain": [
       "method:   0%|          | 0/10 [00:00<?, ?it/s]"
      ]
     },
     "metadata": {},
     "output_type": "display_data"
    },
    {
     "data": {
      "application/vnd.jupyter.widget-view+json": {
       "model_id": "",
       "version_major": 2,
       "version_minor": 0
      },
      "text/plain": [
       "method:   0%|          | 0/10 [00:00<?, ?it/s]"
      ]
     },
     "metadata": {},
     "output_type": "display_data"
    },
    {
     "data": {
      "application/vnd.jupyter.widget-view+json": {
       "model_id": "",
       "version_major": 2,
       "version_minor": 0
      },
      "text/plain": [
       "method:   0%|          | 0/10 [00:00<?, ?it/s]"
      ]
     },
     "metadata": {},
     "output_type": "display_data"
    },
    {
     "data": {
      "application/vnd.jupyter.widget-view+json": {
       "model_id": "",
       "version_major": 2,
       "version_minor": 0
      },
      "text/plain": [
       "method:   0%|          | 0/10 [00:00<?, ?it/s]"
      ]
     },
     "metadata": {},
     "output_type": "display_data"
    },
    {
     "data": {
      "application/vnd.jupyter.widget-view+json": {
       "model_id": "",
       "version_major": 2,
       "version_minor": 0
      },
      "text/plain": [
       "method:   0%|          | 0/10 [00:00<?, ?it/s]"
      ]
     },
     "metadata": {},
     "output_type": "display_data"
    },
    {
     "data": {
      "application/vnd.jupyter.widget-view+json": {
       "model_id": "",
       "version_major": 2,
       "version_minor": 0
      },
      "text/plain": [
       "method:   0%|          | 0/10 [00:00<?, ?it/s]"
      ]
     },
     "metadata": {},
     "output_type": "display_data"
    },
    {
     "data": {
      "application/vnd.jupyter.widget-view+json": {
       "model_id": "",
       "version_major": 2,
       "version_minor": 0
      },
      "text/plain": [
       "method:   0%|          | 0/10 [00:00<?, ?it/s]"
      ]
     },
     "metadata": {},
     "output_type": "display_data"
    },
    {
     "data": {
      "application/vnd.jupyter.widget-view+json": {
       "model_id": "",
       "version_major": 2,
       "version_minor": 0
      },
      "text/plain": [
       "method:   0%|          | 0/10 [00:00<?, ?it/s]"
      ]
     },
     "metadata": {},
     "output_type": "display_data"
    },
    {
     "data": {
      "application/vnd.jupyter.widget-view+json": {
       "model_id": "",
       "version_major": 2,
       "version_minor": 0
      },
      "text/plain": [
       "method:   0%|          | 0/10 [00:00<?, ?it/s]"
      ]
     },
     "metadata": {},
     "output_type": "display_data"
    },
    {
     "data": {
      "application/vnd.jupyter.widget-view+json": {
       "model_id": "",
       "version_major": 2,
       "version_minor": 0
      },
      "text/plain": [
       "method:   0%|          | 0/10 [00:00<?, ?it/s]"
      ]
     },
     "metadata": {},
     "output_type": "display_data"
    },
    {
     "data": {
      "application/vnd.jupyter.widget-view+json": {
       "model_id": "",
       "version_major": 2,
       "version_minor": 0
      },
      "text/plain": [
       "Repli:   0%|          | 0/10 [00:00<?, ?it/s]"
      ]
     },
     "metadata": {},
     "output_type": "display_data"
    },
    {
     "data": {
      "application/vnd.jupyter.widget-view+json": {
       "model_id": "",
       "version_major": 2,
       "version_minor": 0
      },
      "text/plain": [
       "method:   0%|          | 0/10 [00:00<?, ?it/s]"
      ]
     },
     "metadata": {},
     "output_type": "display_data"
    },
    {
     "data": {
      "application/vnd.jupyter.widget-view+json": {
       "model_id": "",
       "version_major": 2,
       "version_minor": 0
      },
      "text/plain": [
       "method:   0%|          | 0/10 [00:00<?, ?it/s]"
      ]
     },
     "metadata": {},
     "output_type": "display_data"
    },
    {
     "data": {
      "application/vnd.jupyter.widget-view+json": {
       "model_id": "",
       "version_major": 2,
       "version_minor": 0
      },
      "text/plain": [
       "method:   0%|          | 0/10 [00:00<?, ?it/s]"
      ]
     },
     "metadata": {},
     "output_type": "display_data"
    },
    {
     "data": {
      "application/vnd.jupyter.widget-view+json": {
       "model_id": "",
       "version_major": 2,
       "version_minor": 0
      },
      "text/plain": [
       "method:   0%|          | 0/10 [00:00<?, ?it/s]"
      ]
     },
     "metadata": {},
     "output_type": "display_data"
    },
    {
     "data": {
      "application/vnd.jupyter.widget-view+json": {
       "model_id": "",
       "version_major": 2,
       "version_minor": 0
      },
      "text/plain": [
       "method:   0%|          | 0/10 [00:00<?, ?it/s]"
      ]
     },
     "metadata": {},
     "output_type": "display_data"
    },
    {
     "data": {
      "application/vnd.jupyter.widget-view+json": {
       "model_id": "",
       "version_major": 2,
       "version_minor": 0
      },
      "text/plain": [
       "method:   0%|          | 0/10 [00:00<?, ?it/s]"
      ]
     },
     "metadata": {},
     "output_type": "display_data"
    },
    {
     "data": {
      "application/vnd.jupyter.widget-view+json": {
       "model_id": "",
       "version_major": 2,
       "version_minor": 0
      },
      "text/plain": [
       "method:   0%|          | 0/10 [00:00<?, ?it/s]"
      ]
     },
     "metadata": {},
     "output_type": "display_data"
    },
    {
     "data": {
      "application/vnd.jupyter.widget-view+json": {
       "model_id": "",
       "version_major": 2,
       "version_minor": 0
      },
      "text/plain": [
       "method:   0%|          | 0/10 [00:00<?, ?it/s]"
      ]
     },
     "metadata": {},
     "output_type": "display_data"
    },
    {
     "data": {
      "application/vnd.jupyter.widget-view+json": {
       "model_id": "",
       "version_major": 2,
       "version_minor": 0
      },
      "text/plain": [
       "method:   0%|          | 0/10 [00:00<?, ?it/s]"
      ]
     },
     "metadata": {},
     "output_type": "display_data"
    },
    {
     "data": {
      "application/vnd.jupyter.widget-view+json": {
       "model_id": "",
       "version_major": 2,
       "version_minor": 0
      },
      "text/plain": [
       "method:   0%|          | 0/10 [00:00<?, ?it/s]"
      ]
     },
     "metadata": {},
     "output_type": "display_data"
    },
    {
     "data": {
      "application/vnd.jupyter.widget-view+json": {
       "model_id": "",
       "version_major": 2,
       "version_minor": 0
      },
      "text/plain": [
       "Repli:   0%|          | 0/10 [00:00<?, ?it/s]"
      ]
     },
     "metadata": {},
     "output_type": "display_data"
    },
    {
     "data": {
      "application/vnd.jupyter.widget-view+json": {
       "model_id": "",
       "version_major": 2,
       "version_minor": 0
      },
      "text/plain": [
       "method:   0%|          | 0/10 [00:00<?, ?it/s]"
      ]
     },
     "metadata": {},
     "output_type": "display_data"
    },
    {
     "data": {
      "application/vnd.jupyter.widget-view+json": {
       "model_id": "",
       "version_major": 2,
       "version_minor": 0
      },
      "text/plain": [
       "method:   0%|          | 0/10 [00:00<?, ?it/s]"
      ]
     },
     "metadata": {},
     "output_type": "display_data"
    },
    {
     "data": {
      "application/vnd.jupyter.widget-view+json": {
       "model_id": "",
       "version_major": 2,
       "version_minor": 0
      },
      "text/plain": [
       "method:   0%|          | 0/10 [00:00<?, ?it/s]"
      ]
     },
     "metadata": {},
     "output_type": "display_data"
    },
    {
     "data": {
      "application/vnd.jupyter.widget-view+json": {
       "model_id": "",
       "version_major": 2,
       "version_minor": 0
      },
      "text/plain": [
       "method:   0%|          | 0/10 [00:00<?, ?it/s]"
      ]
     },
     "metadata": {},
     "output_type": "display_data"
    },
    {
     "data": {
      "application/vnd.jupyter.widget-view+json": {
       "model_id": "",
       "version_major": 2,
       "version_minor": 0
      },
      "text/plain": [
       "method:   0%|          | 0/10 [00:00<?, ?it/s]"
      ]
     },
     "metadata": {},
     "output_type": "display_data"
    },
    {
     "data": {
      "application/vnd.jupyter.widget-view+json": {
       "model_id": "",
       "version_major": 2,
       "version_minor": 0
      },
      "text/plain": [
       "method:   0%|          | 0/10 [00:00<?, ?it/s]"
      ]
     },
     "metadata": {},
     "output_type": "display_data"
    },
    {
     "data": {
      "application/vnd.jupyter.widget-view+json": {
       "model_id": "",
       "version_major": 2,
       "version_minor": 0
      },
      "text/plain": [
       "method:   0%|          | 0/10 [00:00<?, ?it/s]"
      ]
     },
     "metadata": {},
     "output_type": "display_data"
    },
    {
     "data": {
      "application/vnd.jupyter.widget-view+json": {
       "model_id": "",
       "version_major": 2,
       "version_minor": 0
      },
      "text/plain": [
       "method:   0%|          | 0/10 [00:00<?, ?it/s]"
      ]
     },
     "metadata": {},
     "output_type": "display_data"
    },
    {
     "data": {
      "application/vnd.jupyter.widget-view+json": {
       "model_id": "",
       "version_major": 2,
       "version_minor": 0
      },
      "text/plain": [
       "method:   0%|          | 0/10 [00:00<?, ?it/s]"
      ]
     },
     "metadata": {},
     "output_type": "display_data"
    },
    {
     "data": {
      "application/vnd.jupyter.widget-view+json": {
       "model_id": "",
       "version_major": 2,
       "version_minor": 0
      },
      "text/plain": [
       "method:   0%|          | 0/10 [00:00<?, ?it/s]"
      ]
     },
     "metadata": {},
     "output_type": "display_data"
    }
   ],
   "source": [
    "neg_where = list(np.where(layerDF[\"y\"] == 0)[0])\n",
    "pos_where = list(np.where(layerDF[\"y\"] == 1)[0])\n",
    "\n",
    "\n",
    "all_result = []\n",
    "varvar_list = []\n",
    "\n",
    "K = 10\n",
    "\n",
    "for ii in tqdm(range(4), position = 0, desc = \"Beta\", leave = False, colour = 'black'):\n",
    "    \n",
    "    for i0 in tqdm(range(M), position = 1, desc = \"Macro\", leave = False, colour = 'red'):\n",
    "\n",
    "        for i1 in tqdm(range(K), position = 2, desc = \"Repli\", leave = False, colour = 'blue'):\n",
    "            temp_neg_where = neg_where.copy()\n",
    "            temp_pos_where = pos_where.copy()\n",
    "\n",
    "            np.random.seed(SEED_M[i0])\n",
    "            SEED_K = np.random.choice(range(1000), K)\n",
    "            np.random.seed(SEED_K[i1])\n",
    "\n",
    "            np.random.shuffle(temp_neg_where)\n",
    "            np.random.shuffle(temp_pos_where)\n",
    "\n",
    "            train_pos_where, test_pos_where = np.array_split(temp_pos_where, 2)\n",
    "            train_neg_where = np.random.choice(temp_neg_where, len(train_pos_where) * R, replace = True)\n",
    "\n",
    "            X_train = layerDF.loc[list(train_pos_where) + list(train_neg_where)]\n",
    "            y_train = list(layerDF[\"y\"][list(train_pos_where) + list(train_neg_where)])\n",
    "\n",
    "            R_0 = int(len(neg_where)/len(pos_where))\n",
    "\n",
    "            test_neg_where = np.random.choice(list(set(neg_where) - set(np.array(train_neg_where).ravel())),\n",
    "                                          len(test_pos_where) * R_0, replace = True)\n",
    "\n",
    "            X_test = layerDF.loc[list(test_neg_where) + list(test_pos_where)]\n",
    "            y_test = list(layerDF[\"y\"][list(test_neg_where) + list(test_pos_where)])\n",
    "\n",
    "\n",
    "            for i2 in tqdm(range(10), position = 3, desc = \"method\", leave = False, colour = 'green'):\n",
    "                if i2 == 0:\n",
    "                    varvar = All_feat_CRUDE[i0]\n",
    "\n",
    "                if i2 == 1:\n",
    "                    EN_table = np.unique(sum(list(np.array(All_feat_EN).reshape(M, N)[i0,:]), []), return_counts = True)\n",
    "                    varvar = EN_table[0][EN_table[1] >= N*EN_threshold]\n",
    "\n",
    "                if i2 in list([2,3,4,5]):\n",
    "                    SOEN_OOB_table = np.unique(sum(list(np.array(All_feat_SOEN_OOB).reshape(4, M, N)[i2-2, i0, :]), []), return_counts = True)\n",
    "                    varvar = SOEN_OOB_table[0][SOEN_OOB_table[1] >= N*SOEN_threshold]\n",
    "                    \n",
    "                if i2 in list([6,7,8,9]):\n",
    "                    SOEN_NOOB_table = np.unique(sum(list(np.array(All_feat_SOEN_NOOB).reshape(4, M, N)[i2-6, i0, :]), []), return_counts = True)\n",
    "                    varvar = SOEN_NOOB_table[0][SOEN_NOOB_table[1] >= N*SOEN_threshold]\n",
    "\n",
    "                if len(varvar) == 0:\n",
    "                    all_result.append(0)\n",
    "                    varvar_list.append(0)\n",
    "                    \n",
    "                else:\n",
    "                    reg = LogisticRegression()\n",
    "                    \n",
    "                    reg.fit(X_train[varvar], y_train)\n",
    "                    pred_train = reg.predict(X_train[varvar])\n",
    "                    opt_threshold = optimalThreshold_Gmeans(y_train, pred_train)\n",
    "                    temp_pred = reg.predict(X_test[varvar])\n",
    "                    temp_pred = list(map(bool, temp_pred >= opt_threshold))\n",
    "\n",
    "                    temp_score = confusion_matrix(y_test, temp_pred)\n",
    "                    all_result.append(temp_score)\n",
    "                    varvar_list.append(varvar)"
   ]
  },
  {
   "cell_type": "markdown",
   "id": "30418c15",
   "metadata": {},
   "source": [
    "## Table-4"
   ]
  },
  {
   "cell_type": "code",
   "execution_count": 163,
   "id": "8e3c858c",
   "metadata": {},
   "outputs": [
    {
     "data": {
      "text/html": [
       "<div>\n",
       "<style scoped>\n",
       "    .dataframe tbody tr th:only-of-type {\n",
       "        vertical-align: middle;\n",
       "    }\n",
       "\n",
       "    .dataframe tbody tr th {\n",
       "        vertical-align: top;\n",
       "    }\n",
       "\n",
       "    .dataframe thead th {\n",
       "        text-align: right;\n",
       "    }\n",
       "</style>\n",
       "<table border=\"1\" class=\"dataframe\">\n",
       "  <thead>\n",
       "    <tr style=\"text-align: right;\">\n",
       "      <th></th>\n",
       "      <th>OOB (SOEN-1)</th>\n",
       "      <th>NOOB (SOEN-1)</th>\n",
       "      <th>OOB (SOEN-2)</th>\n",
       "      <th>NOOB (SOEN-2)</th>\n",
       "      <th>OOB (SOEN-3)</th>\n",
       "      <th>NOOB (SOEN-3)</th>\n",
       "      <th>OOB (SOEN-4)</th>\n",
       "      <th>NOOB (SOEN-4)</th>\n",
       "    </tr>\n",
       "  </thead>\n",
       "  <tbody>\n",
       "    <tr>\n",
       "      <th>F-score (beta = 1)</th>\n",
       "      <td>0.119±0.024</td>\n",
       "      <td>0.117±0.02</td>\n",
       "      <td>0.115±0.022</td>\n",
       "      <td>0.111±0.017</td>\n",
       "      <td>0.096±0.026</td>\n",
       "      <td>0.12±0.026</td>\n",
       "      <td>0.115±0.028</td>\n",
       "      <td>0.122±0.015</td>\n",
       "    </tr>\n",
       "    <tr>\n",
       "      <th>F-score (beta = 2)</th>\n",
       "      <td>0.227±0.04</td>\n",
       "      <td>0.231±0.036</td>\n",
       "      <td>0.225±0.037</td>\n",
       "      <td>0.219±0.029</td>\n",
       "      <td>0.19±0.049</td>\n",
       "      <td>0.222±0.026</td>\n",
       "      <td>0.218±0.04</td>\n",
       "      <td>0.239±0.025</td>\n",
       "    </tr>\n",
       "    <tr>\n",
       "      <th>F-score (beta = 3)</th>\n",
       "      <td>0.334±0.051</td>\n",
       "      <td>0.345±0.05</td>\n",
       "      <td>0.336±0.047</td>\n",
       "      <td>0.327±0.037</td>\n",
       "      <td>0.286±0.069</td>\n",
       "      <td>0.325±0.027</td>\n",
       "      <td>0.321±0.049</td>\n",
       "      <td>0.356±0.03</td>\n",
       "    </tr>\n",
       "    <tr>\n",
       "      <th>F-score (beta = 4)</th>\n",
       "      <td>0.418±0.057</td>\n",
       "      <td>0.435±0.059</td>\n",
       "      <td>0.425±0.053</td>\n",
       "      <td>0.415±0.043</td>\n",
       "      <td>0.364±0.083</td>\n",
       "      <td>0.409±0.032</td>\n",
       "      <td>0.403±0.053</td>\n",
       "      <td>0.448±0.032</td>\n",
       "    </tr>\n",
       "    <tr>\n",
       "      <th>Recall</th>\n",
       "      <td>0.506±0.034</td>\n",
       "      <td>0.517±0.05</td>\n",
       "      <td>0.517±0.046</td>\n",
       "      <td>0.464±0.062</td>\n",
       "      <td>0.457±0.078</td>\n",
       "      <td>0.45±0.066</td>\n",
       "      <td>0.496±0.063</td>\n",
       "      <td>0.491±0.035</td>\n",
       "    </tr>\n",
       "    <tr>\n",
       "      <th>Precision</th>\n",
       "      <td>0.068±0.015</td>\n",
       "      <td>0.065±0.012</td>\n",
       "      <td>0.064±0.013</td>\n",
       "      <td>0.062±0.011</td>\n",
       "      <td>0.053±0.015</td>\n",
       "      <td>0.071±0.022</td>\n",
       "      <td>0.066±0.019</td>\n",
       "      <td>0.067±0.009</td>\n",
       "    </tr>\n",
       "    <tr>\n",
       "      <th>Avg. # of features</th>\n",
       "      <td>6.2</td>\n",
       "      <td>9.4</td>\n",
       "      <td>5.5</td>\n",
       "      <td>9.7</td>\n",
       "      <td>5.0</td>\n",
       "      <td>10.5</td>\n",
       "      <td>5.1</td>\n",
       "      <td>10.2</td>\n",
       "    </tr>\n",
       "  </tbody>\n",
       "</table>\n",
       "</div>"
      ],
      "text/plain": [
       "                   OOB (SOEN-1) NOOB (SOEN-1) OOB (SOEN-2) NOOB (SOEN-2)  \\\n",
       "F-score (beta = 1)  0.119±0.024    0.117±0.02  0.115±0.022   0.111±0.017   \n",
       "F-score (beta = 2)   0.227±0.04   0.231±0.036  0.225±0.037   0.219±0.029   \n",
       "F-score (beta = 3)  0.334±0.051    0.345±0.05  0.336±0.047   0.327±0.037   \n",
       "F-score (beta = 4)  0.418±0.057   0.435±0.059  0.425±0.053   0.415±0.043   \n",
       "Recall              0.506±0.034    0.517±0.05  0.517±0.046   0.464±0.062   \n",
       "Precision           0.068±0.015   0.065±0.012  0.064±0.013   0.062±0.011   \n",
       "Avg. # of features          6.2           9.4          5.5           9.7   \n",
       "\n",
       "                   OOB (SOEN-3) NOOB (SOEN-3) OOB (SOEN-4) NOOB (SOEN-4)  \n",
       "F-score (beta = 1)  0.096±0.026    0.12±0.026  0.115±0.028   0.122±0.015  \n",
       "F-score (beta = 2)   0.19±0.049   0.222±0.026   0.218±0.04   0.239±0.025  \n",
       "F-score (beta = 3)  0.286±0.069   0.325±0.027  0.321±0.049    0.356±0.03  \n",
       "F-score (beta = 4)  0.364±0.083   0.409±0.032  0.403±0.053   0.448±0.032  \n",
       "Recall              0.457±0.078    0.45±0.066  0.496±0.063   0.491±0.035  \n",
       "Precision           0.053±0.015   0.071±0.022  0.066±0.019   0.067±0.009  \n",
       "Avg. # of features          5.0          10.5          5.1          10.2  "
      ]
     },
     "execution_count": 163,
     "metadata": {},
     "output_type": "execute_result"
    }
   ],
   "source": [
    "import sklearn\n",
    "all_result_mat = np.array(all_result).reshape(4,M,K,10)\n",
    "all_result_rec = []\n",
    "all_result_prec = []\n",
    "all_result_fbeta = []\n",
    "\n",
    "for i0 in range(4):\n",
    "    for i1 in range(M):\n",
    "        for i2 in range(K):\n",
    "            for i3 in range(10):\n",
    "                temp_mat = all_result_mat[i0,i1,i2,i3]\n",
    "                if np.sum(temp_mat) == 0:\n",
    "                    all_result_rec.append(0)\n",
    "                    all_result_prec.append(0)\n",
    "                    all_result_fbeta.append(0)\n",
    "                else:\n",
    "                    tn = temp_mat[0,0]\n",
    "                    tp = temp_mat[1,1]\n",
    "                    fn = temp_mat[1,0]\n",
    "                    fp = temp_mat[0,1]\n",
    "                    \n",
    "                    all_result_rec.append((tp)/(tp+fn))\n",
    "                    all_result_prec.append((tp)/(tp+fp))\n",
    "                    beta = i0 + 1\n",
    "                    \n",
    "                    all_result_fbeta.append(tp / (tp + (beta**2/(1+beta**2)) + (1/(1+beta**2))*fp))\n",
    "                    \n",
    "means_rec = np.array(all_result_rec).reshape(4,M,K,10).mean(axis = (1,2))\n",
    "all_result_prec = np.array(all_result_prec)\n",
    "all_result_prec[np.isnan(all_result_prec)] = 0\n",
    "means_prec = np.array(all_result_prec).reshape(4,M,K,10).mean(axis = (1,2))\n",
    "means_fbeta = np.array(all_result_fbeta).reshape(4,M,K,10).mean(axis = (1,2))\n",
    "\n",
    "all_var_mat = np.array(varvar_list).reshape(4,M,K,10)\n",
    "temp_var_len = []\n",
    "for i0 in range(4):\n",
    "    for i1 in range(M):\n",
    "        for i2 in range(K):\n",
    "            for i3 in range(10):\n",
    "                temp_mat = all_var_mat[i0,i1,i2,i3]\n",
    "                if temp_mat == 0:\n",
    "                    temp_var_len.append(0)\n",
    "                else:\n",
    "                    temp_var_len.append(len(temp_mat))\n",
    "\n",
    "temp = np.core.defchararray.add(np.around(means_fbeta[:,2:], 3).astype(\"str\"), u\"\\u00B1\")\n",
    "temp = np.core.defchararray.add(temp, np.around(np.array((np.array(all_result_fbeta).reshape(4,M,K,10).mean(axis = (2)).var(axis = 1, ddof = 1) ** 0.5) * 1.96 / (10 ** 0.5))[:,2:], 3).astype(\"str\"))\n",
    "\n",
    "temp1 = np.core.defchararray.add(np.around(means_rec[0,2:], 3).astype(\"str\"), u\"\\u00B1\")\n",
    "temp1 = np.core.defchararray.add(temp1, np.around((np.array(all_result_rec).reshape(4,M,K,10).mean(axis = 2).var(axis = 1, ddof = 1) ** 0.5) * 1.96 / (10 ** 0.5), 3)[0, 2:].astype(\"str\"))\n",
    "\n",
    "temp2 = np.core.defchararray.add(np.around(means_prec[0,2:], 3).astype(\"str\"), u\"\\u00B1\")\n",
    "temp2 = np.core.defchararray.add(temp2, np.around((np.array(all_result_prec).reshape(4,M,K,10).mean(axis = 2).var(axis = 1, ddof = 1) ** 0.5) * 1.96 / (10 ** 0.5), 3)[0, 2:].astype(\"str\"))\n",
    "temp3 = np.array(temp_var_len).reshape(4,M,K,10).mean(axis = (1,2))[0,2:]\n",
    "df = temp\n",
    "df = np.vstack((df, temp1))\n",
    "df = np.vstack((df, temp2))\n",
    "df = np.vstack((df, temp3))\n",
    "df = df[:,list([0,4,1,5,2,6,3,7])]\n",
    "\n",
    "df = pd.DataFrame(df, \n",
    "                 index = [\"F-score (beta = 1)\", \n",
    "                          \"F-score (beta = 2)\", \n",
    "                          \"F-score (beta = 3)\", \n",
    "                          \"F-score (beta = 4)\",\n",
    "                          \"Recall\",\n",
    "                          \"Precision\",\n",
    "                         \"Avg. # of features\"],\n",
    "             columns = [\"OOB (SOEN-1)\", \"NOOB (SOEN-1)\", \"OOB (SOEN-2)\", \"NOOB (SOEN-2)\",\n",
    "                       \"OOB (SOEN-3)\", \"NOOB (SOEN-3)\", \"OOB (SOEN-4)\", \"NOOB (SOEN-4)\"])\n",
    "df"
   ]
  },
  {
   "cell_type": "markdown",
   "id": "c2582a7d",
   "metadata": {},
   "source": [
    "## Table 5"
   ]
  },
  {
   "cell_type": "code",
   "execution_count": 164,
   "id": "47b435ba",
   "metadata": {},
   "outputs": [
    {
     "data": {
      "text/html": [
       "<div>\n",
       "<style scoped>\n",
       "    .dataframe tbody tr th:only-of-type {\n",
       "        vertical-align: middle;\n",
       "    }\n",
       "\n",
       "    .dataframe tbody tr th {\n",
       "        vertical-align: top;\n",
       "    }\n",
       "\n",
       "    .dataframe thead th {\n",
       "        text-align: right;\n",
       "    }\n",
       "</style>\n",
       "<table border=\"1\" class=\"dataframe\">\n",
       "  <thead>\n",
       "    <tr style=\"text-align: right;\">\n",
       "      <th></th>\n",
       "      <th>CRUDE</th>\n",
       "      <th>EN</th>\n",
       "      <th>SOEN-1</th>\n",
       "      <th>SOEN-2</th>\n",
       "      <th>SOEN-3</th>\n",
       "      <th>SOEN-4</th>\n",
       "    </tr>\n",
       "  </thead>\n",
       "  <tbody>\n",
       "    <tr>\n",
       "      <th>Beta = 1</th>\n",
       "      <td>0.041±0.031</td>\n",
       "      <td>0.08±0.029</td>\n",
       "      <td>0.119±0.024</td>\n",
       "      <td>0.115±0.022</td>\n",
       "      <td>0.096±0.026</td>\n",
       "      <td>0.115±0.028</td>\n",
       "    </tr>\n",
       "    <tr>\n",
       "      <th>Beta = 2</th>\n",
       "      <td>0.084±0.062</td>\n",
       "      <td>0.164±0.057</td>\n",
       "      <td>0.227±0.04</td>\n",
       "      <td>0.225±0.037</td>\n",
       "      <td>0.19±0.049</td>\n",
       "      <td>0.218±0.04</td>\n",
       "    </tr>\n",
       "    <tr>\n",
       "      <th>Beta = 3</th>\n",
       "      <td>0.128±0.094</td>\n",
       "      <td>0.253±0.085</td>\n",
       "      <td>0.334±0.051</td>\n",
       "      <td>0.336±0.047</td>\n",
       "      <td>0.286±0.069</td>\n",
       "      <td>0.321±0.049</td>\n",
       "    </tr>\n",
       "    <tr>\n",
       "      <th>Beta = 4</th>\n",
       "      <td>0.165±0.118</td>\n",
       "      <td>0.327±0.107</td>\n",
       "      <td>0.418±0.057</td>\n",
       "      <td>0.425±0.053</td>\n",
       "      <td>0.364±0.083</td>\n",
       "      <td>0.403±0.053</td>\n",
       "    </tr>\n",
       "  </tbody>\n",
       "</table>\n",
       "</div>"
      ],
      "text/plain": [
       "                CRUDE           EN       SOEN-1       SOEN-2       SOEN-3  \\\n",
       "Beta = 1  0.041±0.031   0.08±0.029  0.119±0.024  0.115±0.022  0.096±0.026   \n",
       "Beta = 2  0.084±0.062  0.164±0.057   0.227±0.04  0.225±0.037   0.19±0.049   \n",
       "Beta = 3  0.128±0.094  0.253±0.085  0.334±0.051  0.336±0.047  0.286±0.069   \n",
       "Beta = 4  0.165±0.118  0.327±0.107  0.418±0.057  0.425±0.053  0.364±0.083   \n",
       "\n",
       "               SOEN-4  \n",
       "Beta = 1  0.115±0.028  \n",
       "Beta = 2   0.218±0.04  \n",
       "Beta = 3  0.321±0.049  \n",
       "Beta = 4  0.403±0.053  "
      ]
     },
     "execution_count": 164,
     "metadata": {},
     "output_type": "execute_result"
    }
   ],
   "source": [
    "temp = np.core.defchararray.add(np.around(means_fbeta[:,:6], 3).astype(\"str\"), u\"\\u00B1\")\n",
    "temp = np.core.defchararray.add(temp, np.around(np.array((np.array(all_result_fbeta).reshape(4,M,K,10).mean(axis = (2)).var(axis = 1, ddof = 1) ** 0.5) * 1.96 / (10 ** 0.5))[:,:6], 3).astype(\"str\"))\n",
    "\n",
    "df = pd.DataFrame(temp,\n",
    "                 index = [\"Beta = 1\", \"Beta = 2\", \"Beta = 3\", \"Beta = 4\"],\n",
    "                 columns = [\"CRUDE\", \"EN\", \"SOEN-1\", \"SOEN-2\", \"SOEN-3\", \"SOEN-4\"])\n",
    "df"
   ]
  },
  {
   "cell_type": "markdown",
   "id": "92eb851f",
   "metadata": {},
   "source": [
    "## Table 6"
   ]
  },
  {
   "cell_type": "code",
   "execution_count": 190,
   "id": "0c6df73f",
   "metadata": {},
   "outputs": [
    {
     "data": {
      "text/html": [
       "<div>\n",
       "<style scoped>\n",
       "    .dataframe tbody tr th:only-of-type {\n",
       "        vertical-align: middle;\n",
       "    }\n",
       "\n",
       "    .dataframe tbody tr th {\n",
       "        vertical-align: top;\n",
       "    }\n",
       "\n",
       "    .dataframe thead th {\n",
       "        text-align: right;\n",
       "    }\n",
       "</style>\n",
       "<table border=\"1\" class=\"dataframe\">\n",
       "  <thead>\n",
       "    <tr style=\"text-align: right;\">\n",
       "      <th></th>\n",
       "      <th>F-1 score</th>\n",
       "      <th>F-2 score</th>\n",
       "      <th>F-3 score</th>\n",
       "      <th>F-4 score</th>\n",
       "      <th>Recall</th>\n",
       "      <th>Precision</th>\n",
       "      <th>Avg Feats</th>\n",
       "    </tr>\n",
       "  </thead>\n",
       "  <tbody>\n",
       "    <tr>\n",
       "      <th>CRUDE</th>\n",
       "      <td>0.041±0.031</td>\n",
       "      <td>0.084±0.062</td>\n",
       "      <td>0.128±0.094</td>\n",
       "      <td>0.165±0.118</td>\n",
       "      <td>0.022±0.017</td>\n",
       "      <td>0.234±0.149</td>\n",
       "      <td>3.3</td>\n",
       "    </tr>\n",
       "    <tr>\n",
       "      <th>EN</th>\n",
       "      <td>0.08±0.029</td>\n",
       "      <td>0.164±0.057</td>\n",
       "      <td>0.253±0.085</td>\n",
       "      <td>0.327±0.107</td>\n",
       "      <td>0.043±0.016</td>\n",
       "      <td>0.479±0.132</td>\n",
       "      <td>3.9</td>\n",
       "    </tr>\n",
       "    <tr>\n",
       "      <th>SOEN-2</th>\n",
       "      <td>0.115±0.022</td>\n",
       "      <td>0.225±0.037</td>\n",
       "      <td>0.336±0.047</td>\n",
       "      <td>0.425±0.053</td>\n",
       "      <td>0.064±0.013</td>\n",
       "      <td>0.517±0.046</td>\n",
       "      <td>5.5</td>\n",
       "    </tr>\n",
       "  </tbody>\n",
       "</table>\n",
       "</div>"
      ],
      "text/plain": [
       "          F-1 score    F-2 score    F-3 score    F-4 score       Recall  \\\n",
       "CRUDE   0.041±0.031  0.084±0.062  0.128±0.094  0.165±0.118  0.022±0.017   \n",
       "EN       0.08±0.029  0.164±0.057  0.253±0.085  0.327±0.107  0.043±0.016   \n",
       "SOEN-2  0.115±0.022  0.225±0.037  0.336±0.047  0.425±0.053  0.064±0.013   \n",
       "\n",
       "          Precision Avg Feats  \n",
       "CRUDE   0.234±0.149       3.3  \n",
       "EN      0.479±0.132       3.9  \n",
       "SOEN-2  0.517±0.046       5.5  "
      ]
     },
     "execution_count": 190,
     "metadata": {},
     "output_type": "execute_result"
    }
   ],
   "source": [
    "temp = np.core.defchararray.add(np.around(means_fbeta[:,list([0,1,3])], 3).T.astype(\"str\"), u\"\\u00B1\")\n",
    "temp = np.core.defchararray.add(temp, np.around(np.array((np.array(all_result_fbeta).reshape(4,M,K,10).mean(axis = (2)).var(axis = 1, ddof = 1) ** 0.5) * 1.96 / (10 ** 0.5))[:,list([0,1,3])], 3).astype(\"str\").T)\n",
    "\n",
    "temp1 = np.core.defchararray.add(np.around(means_prec[0,list([0,1,3])], 3).astype(\"str\"), u\"\\u00B1\")\n",
    "temp1 = np.core.defchararray.add(temp1, np.around((np.array(all_result_prec).reshape(4,M,K,10).mean(axis = 2).var(axis = 1, ddof = 1) ** 0.5) * 1.96 / (10 ** 0.5), 3)[0, list([0,1,3])].astype(\"str\"))\n",
    "\n",
    "temp2 = np.core.defchararray.add(np.around(means_rec[0,list([0,1,3])], 3).astype(\"str\"), u\"\\u00B1\")\n",
    "temp2 = np.core.defchararray.add(temp2, np.around((np.array(all_result_rec).reshape(4,M,K,10).mean(axis = 2).var(axis = 1, ddof = 1) ** 0.5) * 1.96 / (10 ** 0.5), 3)[0, list([0,1,3])].astype(\"str\"))\n",
    "\n",
    "temp = np.hstack((temp, temp1.reshape(-1,1)))\n",
    "temp = np.hstack((temp, temp2.reshape(-1,1)))\n",
    "temp = np.hstack((temp, np.array(temp_var_len).reshape(4,M,K,10).mean(axis = (1,2))[0,list([0,1,3])].reshape(-1,1)))\n",
    "\n",
    "df = pd.DataFrame(temp,\n",
    "                 columns = [\"F-1 score\", \"F-2 score\", \"F-3 score\", \"F-4 score\", \"Recall\", \"Precision\", \"Avg Feats\"],\n",
    "                  index = [\"CRUDE\", \"EN\", \"SOEN-2\"])\n",
    "df"
   ]
  },
  {
   "cell_type": "markdown",
   "id": "23263c4d",
   "metadata": {},
   "source": [
    "## Figure 11"
   ]
  },
  {
   "cell_type": "code",
   "execution_count": 192,
   "id": "dccacdc9",
   "metadata": {},
   "outputs": [
    {
     "data": {
      "image/png": "[encoded data removed]",
      "text/plain": [
       "<Figure size 432x288 with 1 Axes>"
      ]
     },
     "metadata": {
      "needs_background": "light"
     },
     "output_type": "display_data"
    }
   ],
   "source": [
    "diff_mean = []\n",
    "diff_ci = []\n",
    "for i0 in range(4): # beta 1 2 3 4\n",
    "    for i1 in range(4): # soen 1 2 3 4\n",
    "        diff_mean.append(np.mean(np.array(all_result_fbeta).reshape(4,M,K,10)[i0,:,:,i1 + 2].ravel() - np.array(all_result_fbeta).reshape(4,M,K,10)[i0,:,:,0].ravel()))\n",
    "        diff_ci.append((np.var(np.array(all_result_fbeta).reshape(4,M,K,10)[i0,:,:,i1 + 2].ravel() - np.array(all_result_fbeta).reshape(4,M,K,10)[i0,:,:,0].ravel(), ddof = 1) ** 0.5)*1.96/(10))\n",
    "diff_mean = np.array(diff_mean).reshape(4,4)\n",
    "diff_ci = np.array(diff_ci).reshape(4,4)\n",
    "\n",
    "from matplotlib.transforms import ScaledTranslation\n",
    "\n",
    "xx = list([\"SOEN-1 & CRUDE\",\"SOEN-2 & CRUDE\",\"SOEN-3 & CRUDE\",\"SOEN-4 & CRUDE\"])\n",
    "fig, ax = plt.subplots()\n",
    "\n",
    "trans1 = ax.transData + ScaledTranslation(-0.15, 0, fig.dpi_scale_trans)\n",
    "trans2 = ax.transData + ScaledTranslation(-0.05, 0, fig.dpi_scale_trans)\n",
    "trans3 = ax.transData + ScaledTranslation(0.05, 0, fig.dpi_scale_trans)\n",
    "trans4 = ax.transData + ScaledTranslation(0.15, 0, fig.dpi_scale_trans)\n",
    "\n",
    "lw_size = 2\n",
    "plt_alpha = 0.07\n",
    "p1 = ax.errorbar(xx, diff_mean[0,:], diff_ci[0,:], linestyle = \"none\", transform = trans1,\n",
    "                 label = \"Beta = 1\", marker = 'o', capsize = 5, lw = lw_size, color = \"red\")\n",
    "\n",
    "ax.fill_between(xx, diff_mean[0,:] - diff_ci[0,:], diff_mean[0,:] + diff_ci[0,:], alpha = plt_alpha, color = \"red\", transform = trans1)\n",
    "\n",
    "p2 = ax.errorbar(xx, diff_mean[1,:], diff_ci[1,:], linestyle = \"none\", transform = trans2,\n",
    "                 label = \"Beta = 2\", marker = 'o', capsize = 5, lw = lw_size, color = \"darkorange\")\n",
    "\n",
    "ax.fill_between(xx, diff_mean[1,:] - diff_ci[1,:], diff_mean[1,:] + diff_ci[1,:], alpha = plt_alpha, color = \"darkorange\", transform = trans2)\n",
    "\n",
    "p3 = ax.errorbar(xx, diff_mean[2,:], diff_ci[2,:], linestyle = \"none\", transform = trans3,\n",
    "                 label = \"Beta = 3\", marker = 'o', capsize = 5, lw = lw_size, color = \"green\")\n",
    "\n",
    "ax.fill_between(xx, diff_mean[2,:] - diff_ci[2,:], diff_mean[2,:] + diff_ci[2,:], alpha = plt_alpha, color = \"green\", transform = trans3)\n",
    "\n",
    "p4 = ax.errorbar(xx, diff_mean[3,:], diff_ci[3,:], linestyle = \"none\", transform = trans4,\n",
    "                 label = \"Beta = 4\", marker = 'o', capsize = 5, lw = lw_size, color = \"blue\")\n",
    "\n",
    "ax.fill_between(xx, diff_mean[3,:] - diff_ci[3,:], diff_mean[3,:] + diff_ci[3,:], alpha = plt_alpha, color = \"blue\", transform = trans4)\n",
    "\n",
    "handles, labels = ax.get_legend_handles_labels()\n",
    "plt.title(\"F-score difference\", fontsize = 13)\n",
    "ax.legend(bbox_to_anchor=(0.7, 0.7))\n",
    "fig.tight_layout()\n",
    "plt.show()"
   ]
  },
  {
   "cell_type": "code",
   "execution_count": 193,
   "id": "72809308",
   "metadata": {},
   "outputs": [
    {
     "data": {
      "image/png": "[encoded data removed]",
      "text/plain": [
       "<Figure size 432x288 with 1 Axes>"
      ]
     },
     "metadata": {
      "needs_background": "light"
     },
     "output_type": "display_data"
    }
   ],
   "source": [
    "diff_mean = []\n",
    "diff_ci = []\n",
    "for i0 in range(4): # beta 1 2 3 4\n",
    "    for i1 in range(4): # soen 1 2 3 4\n",
    "        diff_mean.append(np.mean(np.array(all_result_fbeta).reshape(4,M,K,10)[i0,:,:,i1 + 2].ravel() - np.array(all_result_fbeta).reshape(4,M,K,10)[i0,:,:,1].ravel()))\n",
    "        diff_ci.append((np.var(np.array(all_result_fbeta).reshape(4,M,K,10)[i0,:,:,i1 + 2].ravel() - np.array(all_result_fbeta).reshape(4,M,K,10)[i0,:,:,1].ravel(), ddof = 1) ** 0.5)*1.96/(10))\n",
    "diff_mean = np.array(diff_mean).reshape(4,4)\n",
    "diff_ci = np.array(diff_ci).reshape(4,4)\n",
    "\n",
    "from matplotlib.transforms import ScaledTranslation\n",
    "\n",
    "xx = list([\"SOEN-1 & EN\",\"SOEN-2 & EN\",\"SOEN-3 & EN\",\"SOEN-4 & EN\"])\n",
    "fig, ax = plt.subplots()\n",
    "\n",
    "trans1 = ax.transData + ScaledTranslation(-0.15, 0, fig.dpi_scale_trans)\n",
    "trans2 = ax.transData + ScaledTranslation(-0.05, 0, fig.dpi_scale_trans)\n",
    "trans3 = ax.transData + ScaledTranslation(0.05, 0, fig.dpi_scale_trans)\n",
    "trans4 = ax.transData + ScaledTranslation(0.15, 0, fig.dpi_scale_trans)\n",
    "\n",
    "lw_size = 2\n",
    "plt_alpha = 0.07\n",
    "p1 = ax.errorbar(xx, diff_mean[0,:], diff_ci[0,:], linestyle = \"none\", transform = trans1,\n",
    "                 label = \"Beta = 1\", marker = 'o', capsize = 5, lw = lw_size, color = \"red\")\n",
    "\n",
    "ax.fill_between(xx, diff_mean[0,:] - diff_ci[0,:], diff_mean[0,:] + diff_ci[0,:], alpha = plt_alpha, color = \"red\", transform = trans1)\n",
    "\n",
    "p2 = ax.errorbar(xx, diff_mean[1,:], diff_ci[1,:], linestyle = \"none\", transform = trans2,\n",
    "                 label = \"Beta = 2\", marker = 'o', capsize = 5, lw = lw_size, color = \"darkorange\")\n",
    "\n",
    "ax.fill_between(xx, diff_mean[1,:] - diff_ci[1,:], diff_mean[1,:] + diff_ci[1,:], alpha = plt_alpha, color = \"darkorange\", transform = trans2)\n",
    "\n",
    "p3 = ax.errorbar(xx, diff_mean[2,:], diff_ci[2,:], linestyle = \"none\", transform = trans3,\n",
    "                 label = \"Beta = 3\", marker = 'o', capsize = 5, lw = lw_size, color = \"green\")\n",
    "\n",
    "ax.fill_between(xx, diff_mean[2,:] - diff_ci[2,:], diff_mean[2,:] + diff_ci[2,:], alpha = plt_alpha, color = \"green\", transform = trans3)\n",
    "\n",
    "p4 = ax.errorbar(xx, diff_mean[3,:], diff_ci[3,:], linestyle = \"none\", transform = trans4,\n",
    "                 label = \"Beta = 4\", marker = 'o', capsize = 5, lw = lw_size, color = \"blue\")\n",
    "\n",
    "ax.fill_between(xx, diff_mean[3,:] - diff_ci[3,:], diff_mean[3,:] + diff_ci[3,:], alpha = plt_alpha, color = \"blue\", transform = trans4)\n",
    "\n",
    "handles, labels = ax.get_legend_handles_labels()\n",
    "plt.title(\"F-score difference\", fontsize = 13)\n",
    "ax.legend(bbox_to_anchor=(0.7, 0.7))\n",
    "fig.tight_layout()\n",
    "plt.show()"
   ]
  },
  {
   "cell_type": "code",
   "execution_count": 195,
   "id": "c820691c",
   "metadata": {},
   "outputs": [
    {
     "data": {
      "image/png": "[encoded data removed]",
      "text/plain": [
       "<Figure size 432x288 with 1 Axes>"
      ]
     },
     "metadata": {
      "needs_background": "light"
     },
     "output_type": "display_data"
    }
   ],
   "source": [
    "# prec, recall\n",
    "diff_mean = []\n",
    "diff_ci = []\n",
    "for i0 in range(4):\n",
    "    diff_mean.append(np.mean(np.array(all_result_prec).reshape(4,M,K,10)[0,:,:,i0+2].ravel() - np.array(all_result_prec).reshape(4,M,K,10)[0,:,:,0].ravel()))\n",
    "    diff_ci.append((np.var(np.array(all_result_prec).reshape(4,M,K,10)[0,:,:,i0+2].ravel() - np.array(all_result_prec).reshape(4,M,K,10)[0,:,:,0].ravel(), ddof = 1)**0.5) * 1.96 / (10))\n",
    "    diff_mean.append(np.mean(np.array(all_result_rec).reshape(4,M,K,10)[0,:,:,i0+2].ravel() - np.array(all_result_rec).reshape(4,M,K,10)[0,:,:,0].ravel()))\n",
    "    diff_ci.append((np.var(np.array(all_result_rec).reshape(4,M,K,10)[0,:,:,i0+2].ravel() - np.array(all_result_rec).reshape(4,M,K,10)[0,:,:,0].ravel(), ddof = 1)**0.5) * 1.96 / (10))\n",
    "    \n",
    "diff_mean = np.array(diff_mean).reshape(4,2).T\n",
    "diff_ci = np.array(diff_ci).reshape(4,2).T\n",
    "\n",
    "from matplotlib.transforms import ScaledTranslation\n",
    "\n",
    "xx = list([\"SOEN-1 & CRUDE\",\"SOEN-2 & CRUDE\",\"SOEN-3 & CRUDE\",\"SOEN-4 & CRUDE\"])\n",
    "fig, ax = plt.subplots()\n",
    "\n",
    "trans1 = ax.transData + ScaledTranslation(0, 0, fig.dpi_scale_trans)\n",
    "trans2 = ax.transData + ScaledTranslation(0, 0, fig.dpi_scale_trans)\n",
    "\n",
    "lw_size = 2\n",
    "\n",
    "p1 = ax.errorbar(xx, diff_mean[0,:], diff_ci[0,:], linestyle = \"none\", transform = trans1,\n",
    "                 label = \"Precision\", marker = 'o', capsize = 5, lw = lw_size, color = \"red\")\n",
    "ax.fill_between(xx, diff_mean[0,:] - diff_ci[0,:], diff_mean[0,:] + diff_ci[0,:], alpha = plt_alpha, color = \"red\", transform = trans1)\n",
    "\n",
    "p2 = ax.errorbar(xx, diff_mean[1,:], diff_ci[1,:], linestyle = \"none\", transform = trans2,\n",
    "                 label = \"Recall\", marker = 'o', capsize = 5, lw = lw_size, color = \"blue\")\n",
    "ax.fill_between(xx, diff_mean[1,:] - diff_ci[1,:], diff_mean[1,:] + diff_ci[1,:], alpha = plt_alpha, color = \"blue\", transform = trans1)\n",
    "\n",
    "handles, labels = ax.get_legend_handles_labels()\n",
    "plt.title(\"Precision & Recall difference\", fontsize = 13)\n",
    "ax.legend(bbox_to_anchor=(0.85, 0.82))\n",
    "fig.tight_layout()\n",
    "plt.show()"
   ]
  },
  {
   "cell_type": "code",
   "execution_count": 196,
   "id": "7498f343",
   "metadata": {},
   "outputs": [
    {
     "data": {
      "image/png": "[encoded data removed]",
      "text/plain": [
       "<Figure size 432x288 with 1 Axes>"
      ]
     },
     "metadata": {
      "needs_background": "light"
     },
     "output_type": "display_data"
    }
   ],
   "source": [
    "# prec, recall\n",
    "diff_mean = []\n",
    "diff_ci = []\n",
    "for i0 in range(4):\n",
    "    diff_mean.append(np.mean(np.array(all_result_prec).reshape(4,M,K,10)[0,:,:,i0+2].ravel() - np.array(all_result_prec).reshape(4,M,K,10)[0,:,:,1].ravel()))\n",
    "    diff_ci.append((np.var(np.array(all_result_prec).reshape(4,M,K,10)[0,:,:,i0+2].ravel() - np.array(all_result_prec).reshape(4,M,K,10)[0,:,:,1].ravel(), ddof = 1)**0.5) * 1.96 / (10))\n",
    "    diff_mean.append(np.mean(np.array(all_result_rec).reshape(4,M,K,10)[0,:,:,i0+2].ravel() - np.array(all_result_rec).reshape(4,M,K,10)[0,:,:,1].ravel()))\n",
    "    diff_ci.append((np.var(np.array(all_result_rec).reshape(4,M,K,10)[0,:,:,i0+2].ravel() - np.array(all_result_rec).reshape(4,M,K,10)[0,:,:,1].ravel(), ddof = 1)**0.5) * 1.96 / (10))\n",
    "    \n",
    "diff_mean = np.array(diff_mean).reshape(4,2).T\n",
    "diff_ci = np.array(diff_ci).reshape(4,2).T\n",
    "\n",
    "from matplotlib.transforms import ScaledTranslation\n",
    "\n",
    "xx = list([\"SOEN-1 & EN\",\"SOEN-2 & EN\",\"SOEN-3 & EN\",\"SOEN-4 & EN\"])\n",
    "fig, ax = plt.subplots()\n",
    "\n",
    "trans1 = ax.transData + ScaledTranslation(-0.1, 0, fig.dpi_scale_trans)\n",
    "trans2 = ax.transData + ScaledTranslation(+0.1, 0, fig.dpi_scale_trans)\n",
    "\n",
    "lw_size = 2\n",
    "\n",
    "p1 = ax.errorbar(xx, diff_mean[0,:], diff_ci[0,:], linestyle = \"none\", transform = trans1,\n",
    "                 label = \"Precision\", marker = 'o', capsize = 5, lw = lw_size, color = \"red\")\n",
    "ax.fill_between(xx, diff_mean[0,:] - diff_ci[0,:], diff_mean[0,:] + diff_ci[0,:], alpha = plt_alpha, color = \"red\", transform = trans1)\n",
    "\n",
    "p2 = ax.errorbar(xx, diff_mean[1,:], diff_ci[1,:], linestyle = \"none\", transform = trans2,\n",
    "                 label = \"Recall\", marker = 'o', capsize = 5, lw = lw_size, color = \"blue\")\n",
    "ax.fill_between(xx, diff_mean[1,:] - diff_ci[1,:], diff_mean[1,:] + diff_ci[1,:], alpha = plt_alpha, color = \"blue\", transform = trans1)\n",
    "\n",
    "handles, labels = ax.get_legend_handles_labels()\n",
    "plt.title(\"Precision & Recall difference\", fontsize = 13)\n",
    "ax.legend(bbox_to_anchor=(0.85, 0.82))\n",
    "fig.tight_layout()\n",
    "plt.show()"
   ]
  },
  {
   "cell_type": "markdown",
   "id": "d9998117",
   "metadata": {},
   "source": [
    "## Figure 12"
   ]
  },
  {
   "cell_type": "code",
   "execution_count": 201,
   "id": "a13b4ded",
   "metadata": {},
   "outputs": [
    {
     "data": {
      "image/png": "[encoded data removed]",
      "text/plain": [
       "<Figure size 576x576 with 1 Axes>"
      ]
     },
     "metadata": {
      "needs_background": "light"
     },
     "output_type": "display_data"
    }
   ],
   "source": [
    "for ii in range(4):\n",
    "    aaaa = []\n",
    "    for i0 in range(10):\n",
    "        SOEN_table = np.unique(sum(list(np.array(All_feat_SOEN_OOB).reshape(4, M, N)[ii, i0, :]), []), return_counts = True)\n",
    "        varvar = SOEN_table[0][SOEN_table[1] >= N*SOEN_threshold]\n",
    "        aaaa.append(list(varvar))\n",
    "\n",
    "temp_mat = np.unique(sum(aaaa, []), return_counts= True)\n",
    "\n",
    "profit_color = [{p<0.3: 'black', p>=0.3: 'red'}[True] for p in np.sort(temp_mat[1]) / M]\n",
    "\n",
    "plt.figure(figsize = (8,8))\n",
    "plt.barh(temp_mat[0][temp_mat[1].argsort()],\n",
    "         np.sort(temp_mat[1]) / M, \n",
    "         color = profit_color)\n",
    "plt.xlabel(\"Frequency score\", fontsize = 12)\n",
    "plt.show()"
   ]
  },
  {
   "cell_type": "markdown",
   "id": "1162142d",
   "metadata": {},
   "source": [
    "## Table-7 (~ 20 sec)"
   ]
  },
  {
   "cell_type": "code",
   "execution_count": 15,
   "id": "a074237a",
   "metadata": {},
   "outputs": [
    {
     "data": {
      "text/html": [
       "<div>\n",
       "<style scoped>\n",
       "    .dataframe tbody tr th:only-of-type {\n",
       "        vertical-align: middle;\n",
       "    }\n",
       "\n",
       "    .dataframe tbody tr th {\n",
       "        vertical-align: top;\n",
       "    }\n",
       "\n",
       "    .dataframe thead th {\n",
       "        text-align: right;\n",
       "    }\n",
       "</style>\n",
       "<table border=\"1\" class=\"dataframe\">\n",
       "  <thead>\n",
       "    <tr style=\"text-align: right;\">\n",
       "      <th></th>\n",
       "      <th>Recall</th>\n",
       "      <th>Precision</th>\n",
       "      <th>F-score (beta = 1)</th>\n",
       "      <th>F-score (beta = 2)</th>\n",
       "      <th>F-score (beta = 3)</th>\n",
       "      <th>F-score (beta = 4)</th>\n",
       "    </tr>\n",
       "  </thead>\n",
       "  <tbody>\n",
       "    <tr>\n",
       "      <th>Linear SVM</th>\n",
       "      <td>0.6667</td>\n",
       "      <td>0.2469</td>\n",
       "      <td>0.2793</td>\n",
       "      <td>0.3435</td>\n",
       "      <td>0.4075</td>\n",
       "      <td>0.4611</td>\n",
       "    </tr>\n",
       "    <tr>\n",
       "      <th>RBF SVM</th>\n",
       "      <td>0.4667</td>\n",
       "      <td>0.2627</td>\n",
       "      <td>0.1919</td>\n",
       "      <td>0.2211</td>\n",
       "      <td>0.2663</td>\n",
       "      <td>0.3067</td>\n",
       "    </tr>\n",
       "    <tr>\n",
       "      <th>KNN</th>\n",
       "      <td>0.0667</td>\n",
       "      <td>0.2000</td>\n",
       "      <td>0.1000</td>\n",
       "      <td>0.0769</td>\n",
       "      <td>0.0714</td>\n",
       "      <td>0.0694</td>\n",
       "    </tr>\n",
       "    <tr>\n",
       "      <th>Decision Tree</th>\n",
       "      <td>0.2667</td>\n",
       "      <td>0.0968</td>\n",
       "      <td>0.1297</td>\n",
       "      <td>0.1738</td>\n",
       "      <td>0.2032</td>\n",
       "      <td>0.2218</td>\n",
       "    </tr>\n",
       "    <tr>\n",
       "      <th>AdaBoost</th>\n",
       "      <td>0.4000</td>\n",
       "      <td>0.0979</td>\n",
       "      <td>0.1481</td>\n",
       "      <td>0.2279</td>\n",
       "      <td>0.2861</td>\n",
       "      <td>0.3225</td>\n",
       "    </tr>\n",
       "    <tr>\n",
       "      <th>Random Forest</th>\n",
       "      <td>0.2667</td>\n",
       "      <td>0.0917</td>\n",
       "      <td>0.1239</td>\n",
       "      <td>0.1689</td>\n",
       "      <td>0.1997</td>\n",
       "      <td>0.2193</td>\n",
       "    </tr>\n",
       "    <tr>\n",
       "      <th>ExtraTrees</th>\n",
       "      <td>0.2667</td>\n",
       "      <td>0.0940</td>\n",
       "      <td>0.1267</td>\n",
       "      <td>0.1714</td>\n",
       "      <td>0.2017</td>\n",
       "      <td>0.2208</td>\n",
       "    </tr>\n",
       "    <tr>\n",
       "      <th>Gaussian Process</th>\n",
       "      <td>0.6667</td>\n",
       "      <td>0.2506</td>\n",
       "      <td>0.2839</td>\n",
       "      <td>0.3482</td>\n",
       "      <td>0.4113</td>\n",
       "      <td>0.4641</td>\n",
       "    </tr>\n",
       "    <tr>\n",
       "      <th>Naive Bayes</th>\n",
       "      <td>0.8667</td>\n",
       "      <td>0.2420</td>\n",
       "      <td>0.2714</td>\n",
       "      <td>0.3338</td>\n",
       "      <td>0.4047</td>\n",
       "      <td>0.4735</td>\n",
       "    </tr>\n",
       "    <tr>\n",
       "      <th>QDA</th>\n",
       "      <td>1.0000</td>\n",
       "      <td>0.0180</td>\n",
       "      <td>0.0354</td>\n",
       "      <td>0.0840</td>\n",
       "      <td>0.1550</td>\n",
       "      <td>0.2377</td>\n",
       "    </tr>\n",
       "    <tr>\n",
       "      <th>Neural Net</th>\n",
       "      <td>0.5333</td>\n",
       "      <td>0.2644</td>\n",
       "      <td>0.2547</td>\n",
       "      <td>0.2919</td>\n",
       "      <td>0.3387</td>\n",
       "      <td>0.3790</td>\n",
       "    </tr>\n",
       "    <tr>\n",
       "      <th>LightGBM</th>\n",
       "      <td>0.2667</td>\n",
       "      <td>0.0940</td>\n",
       "      <td>0.1267</td>\n",
       "      <td>0.1714</td>\n",
       "      <td>0.2017</td>\n",
       "      <td>0.2208</td>\n",
       "    </tr>\n",
       "    <tr>\n",
       "      <th>Logistic Regression</th>\n",
       "      <td>0.6667</td>\n",
       "      <td>0.2496</td>\n",
       "      <td>0.2823</td>\n",
       "      <td>0.3459</td>\n",
       "      <td>0.4091</td>\n",
       "      <td>0.4622</td>\n",
       "    </tr>\n",
       "    <tr>\n",
       "      <th>LASSO</th>\n",
       "      <td>0.6667</td>\n",
       "      <td>0.2650</td>\n",
       "      <td>0.2966</td>\n",
       "      <td>0.3560</td>\n",
       "      <td>0.4161</td>\n",
       "      <td>0.4675</td>\n",
       "    </tr>\n",
       "    <tr>\n",
       "      <th>RIDGE</th>\n",
       "      <td>0.6000</td>\n",
       "      <td>0.2497</td>\n",
       "      <td>0.2425</td>\n",
       "      <td>0.2892</td>\n",
       "      <td>0.3476</td>\n",
       "      <td>0.3989</td>\n",
       "    </tr>\n",
       "  </tbody>\n",
       "</table>\n",
       "</div>"
      ],
      "text/plain": [
       "                     Recall  Precision  F-score (beta = 1)  \\\n",
       "Linear SVM           0.6667     0.2469              0.2793   \n",
       "RBF SVM              0.4667     0.2627              0.1919   \n",
       "KNN                  0.0667     0.2000              0.1000   \n",
       "Decision Tree        0.2667     0.0968              0.1297   \n",
       "AdaBoost             0.4000     0.0979              0.1481   \n",
       "Random Forest        0.2667     0.0917              0.1239   \n",
       "ExtraTrees           0.2667     0.0940              0.1267   \n",
       "Gaussian Process     0.6667     0.2506              0.2839   \n",
       "Naive Bayes          0.8667     0.2420              0.2714   \n",
       "QDA                  1.0000     0.0180              0.0354   \n",
       "Neural Net           0.5333     0.2644              0.2547   \n",
       "LightGBM             0.2667     0.0940              0.1267   \n",
       "Logistic Regression  0.6667     0.2496              0.2823   \n",
       "LASSO                0.6667     0.2650              0.2966   \n",
       "RIDGE                0.6000     0.2497              0.2425   \n",
       "\n",
       "                     F-score (beta = 2)  F-score (beta = 3)  \\\n",
       "Linear SVM                       0.3435              0.4075   \n",
       "RBF SVM                          0.2211              0.2663   \n",
       "KNN                              0.0769              0.0714   \n",
       "Decision Tree                    0.1738              0.2032   \n",
       "AdaBoost                         0.2279              0.2861   \n",
       "Random Forest                    0.1689              0.1997   \n",
       "ExtraTrees                       0.1714              0.2017   \n",
       "Gaussian Process                 0.3482              0.4113   \n",
       "Naive Bayes                      0.3338              0.4047   \n",
       "QDA                              0.0840              0.1550   \n",
       "Neural Net                       0.2919              0.3387   \n",
       "LightGBM                         0.1714              0.2017   \n",
       "Logistic Regression              0.3459              0.4091   \n",
       "LASSO                            0.3560              0.4161   \n",
       "RIDGE                            0.2892              0.3476   \n",
       "\n",
       "                     F-score (beta = 4)  \n",
       "Linear SVM                       0.4611  \n",
       "RBF SVM                          0.3067  \n",
       "KNN                              0.0694  \n",
       "Decision Tree                    0.2218  \n",
       "AdaBoost                         0.3225  \n",
       "Random Forest                    0.2193  \n",
       "ExtraTrees                       0.2208  \n",
       "Gaussian Process                 0.4641  \n",
       "Naive Bayes                      0.4735  \n",
       "QDA                              0.2377  \n",
       "Neural Net                       0.3790  \n",
       "LightGBM                         0.2208  \n",
       "Logistic Regression              0.4622  \n",
       "LASSO                            0.4675  \n",
       "RIDGE                            0.3989  "
      ]
     },
     "execution_count": 15,
     "metadata": {},
     "output_type": "execute_result"
    }
   ],
   "source": [
    "from sklearn.neural_network import MLPClassifier\n",
    "from sklearn.neighbors import KNeighborsClassifier\n",
    "from sklearn.svm import SVC\n",
    "from sklearn.gaussian_process import GaussianProcessClassifier\n",
    "from sklearn.gaussian_process.kernels import RBF\n",
    "from sklearn.tree import DecisionTreeClassifier\n",
    "from sklearn.ensemble import RandomForestClassifier, AdaBoostClassifier, ExtraTreesClassifier\n",
    "from sklearn.naive_bayes import GaussianNB\n",
    "from sklearn.discriminant_analysis import QuadraticDiscriminantAnalysis\n",
    "from lightgbm import LGBMClassifier\n",
    "from sklearn.linear_model import LogisticRegression, Lasso, Ridge\n",
    "from sklearn.datasets import make_moons, make_circles, make_classification\n",
    "\n",
    "from sklearn.model_selection import StratifiedKFold\n",
    "\n",
    "import imblearn\n",
    "\n",
    "\n",
    "\n",
    "\n",
    "names = [\n",
    "    \"Linear SVM\",\n",
    "    \"RBF SVM\",\n",
    "    \"KNN\",\n",
    "    \"Decision Tree\",\n",
    "    \"AdaBoost\",\n",
    "    \n",
    "    \"Random Forest\",\n",
    "    \"ExtraTrees\",\n",
    "    \"Gaussian Process\",\n",
    "    \"Naive Bayes\",\n",
    "    \"QDA\",\n",
    "    \n",
    "    \"Neural Net\",\n",
    "    \"LightGBM\",\n",
    "    \"Logistic Regression\",\n",
    "    \"LASSO\",\n",
    "    \"RIDGE\",   \n",
    "]\n",
    "\n",
    "classifiers = [\n",
    "    SVC(kernel = \"linear\", random_state = 0),\n",
    "    SVC(random_state = 0),\n",
    "    KNeighborsClassifier(),\n",
    "    DecisionTreeClassifier(random_state = 0),\n",
    "    AdaBoostClassifier(random_state = 0),\n",
    "    \n",
    "    RandomForestClassifier(random_state = 0), \n",
    "    ExtraTreesClassifier(random_state = 0),\n",
    "    GaussianProcessClassifier(random_state = 0),\n",
    "    GaussianNB(),\n",
    "    QuadraticDiscriminantAnalysis(),\n",
    "    \n",
    "    MLPClassifier(random_state = 0),\n",
    "    LGBMClassifier(random_state = 0),\n",
    "    LogisticRegression(random_state= 0),\n",
    "    Lasso(random_state = 0, alpha = 0.01),\n",
    "    Ridge(random_state = 0)\n",
    "]\n",
    "\n",
    "result_f1 = []\n",
    "result_f2 = []\n",
    "result_f3 = []\n",
    "result_f4 = []\n",
    "result_prec = []\n",
    "result_rec = []\n",
    "\n",
    "var_list = layerDF.columns[1:]\n",
    "var_list = [\"LLT_gt78.8_Binary_Last5\",\n",
    "           \"LLT_gt78.8_Binary_Last\",\n",
    "           \"PreHeat_BC_lt3_Binary_Last\",\n",
    "            \"Preheat_HVGrid_gt1000_Binary_Last\",\n",
    "           \"PreHeat_SDC_gt40_Binary_Last\",\n",
    "           \"Preheat_HVGrid_lt450_Binary_Last2\"]\n",
    "\n",
    "n_fold = 5\n",
    "\n",
    "for name, clf in zip(names, classifiers):\n",
    "    skf = StratifiedKFold(n_splits = n_fold)\n",
    "    X, y = layerDF[var_list], layerDF[\"y\"].astype(\"int\")\n",
    "    skf.get_n_splits(X, y)\n",
    "    \n",
    "    for train_index, test_index in skf.split(X, y):\n",
    "        X_train, X_test = X.loc[train_index], X.loc[test_index]\n",
    "        y_train, y_test = list(y[train_index]), list(y[test_index])\n",
    "        \n",
    "        res = imblearn.over_sampling.SMOTE(random_state = 0)\n",
    "        X_train_over, y_train_over = res.fit_resample(X_train, y_train)\n",
    "    \n",
    "        clf.fit(X_train_over, y_train_over)\n",
    "        \n",
    "        if name in [\"Logistic Regression\", \"LASSO\", \"RIDGE\"]:\n",
    "            temp_pred = clf.predict(X_train_over)\n",
    "            opt_threshold = optimalThreshold_Gmeans(y_train_over, temp_pred)\n",
    "            \n",
    "            pred = clf.predict(X_test)\n",
    "            pred = list(map(bool, pred >= opt_threshold))\n",
    "        \n",
    "        else:\n",
    "            pred = clf.predict(X_test)\n",
    "        \n",
    "        result_f1.append(fbeta_score(y_test, pred, beta = 1))\n",
    "        result_f2.append(fbeta_score(y_test, pred, beta = 2))\n",
    "        result_f3.append(fbeta_score(y_test, pred, beta = 3))\n",
    "        result_f4.append(fbeta_score(y_test, pred, beta = 4))\n",
    "        \n",
    "        result_prec.append(precision_score(y_test, pred))\n",
    "        result_rec.append(recall_score(y_test, pred))\n",
    "        \n",
    "        \n",
    "df = [list(np.array(result_rec).reshape(15,n_fold).mean(axis = 1)),\n",
    "      list(np.array(result_prec).reshape(15,n_fold).mean(axis = 1)),\n",
    "      list(np.array(result_f1).reshape(15,n_fold).mean(axis = 1)),\n",
    "      list(np.array(result_f2).reshape(15,n_fold).mean(axis = 1)),\n",
    "      list(np.array(result_f3).reshape(15,n_fold).mean(axis = 1)),\n",
    "      list(np.array(result_f4).reshape(15,n_fold).mean(axis = 1))]\n",
    "\n",
    "df = np.around(df, 4).T\n",
    "\n",
    "df = pd.DataFrame(np.array(df),\n",
    "                 columns = [\"Recall\",\n",
    "                          \"Precision\",\n",
    "                          \"F-score (beta = 1)\", \n",
    "                          \"F-score (beta = 2)\", \n",
    "                          \"F-score (beta = 3)\", \n",
    "                          \"F-score (beta = 4)\"],\n",
    "             index = names)\n",
    "df"
   ]
  },
  {
   "cell_type": "markdown",
   "id": "2a9c8080",
   "metadata": {},
   "source": [
    "## Figure 13"
   ]
  },
  {
   "cell_type": "code",
   "execution_count": 204,
   "id": "5632a7db",
   "metadata": {},
   "outputs": [
    {
     "data": {
      "image/png": "[encoded data removed]",
      "text/plain": [
       "<Figure size 432x288 with 1 Axes>"
      ]
     },
     "metadata": {
      "needs_background": "light"
     },
     "output_type": "display_data"
    },
    {
     "data": {
      "image/png": "[encoded data removed]",
      "text/plain": [
       "<Figure size 432x288 with 1 Axes>"
      ]
     },
     "metadata": {
      "needs_background": "light"
     },
     "output_type": "display_data"
    }
   ],
   "source": [
    "from sklearn.manifold import TSNE\n",
    "\n",
    "tsne = TSNE(n_components = 2, \n",
    "            perplexity = 8,\n",
    "            random_state = 0,\n",
    "            n_iter = 777)\n",
    "\n",
    "X = layerDF[var_list]\n",
    "y = layerDF[\"y\"]\n",
    "X_tsne = tsne.fit_transform(X) \n",
    "plt.title(\"Original features\")\n",
    "plt.scatter(X_tsne[y == 0, 0],\n",
    "            X_tsne[y == 0, 1],\n",
    "           color = \"orange\",\n",
    "            label = \"Normal\")\n",
    "\n",
    "plt.scatter(X_tsne[y == 1, 0],\n",
    "            X_tsne[y == 1, 1],\n",
    "           color = \"blue\",\n",
    "           marker = \"+\",\n",
    "            label = \"Defect\",\n",
    "           s = 50)\n",
    "plt.legend()\n",
    "plt.show()\n",
    "#############################################################\n",
    "\n",
    "\n",
    "X = layerDF[temp_mat[0][temp_mat[1].argsort()[::-1]][:6]]\n",
    "y = layerDF[\"y\"]\n",
    "\n",
    "X_tsne = tsne.fit_transform(X) \n",
    "\n",
    "plt.title(\"Reduced features\")\n",
    "plt.scatter(X_tsne[y == 0, 0],\n",
    "            X_tsne[y == 0, 1],\n",
    "           color = \"orange\",\n",
    "           label = \"Normal\")\n",
    "\n",
    "plt.scatter(X_tsne[y == 1, 0],\n",
    "            X_tsne[y == 1, 1],\n",
    "            color = \"blue\",\n",
    "            marker = \"+\",\n",
    "            label = \"Defect\",\n",
    "            s = 50)\n",
    "plt.legend()\n",
    "plt.show()"
   ]
  }
 ],
 "metadata": {
  "kernelspec": {
   "display_name": "Python 3",
   "language": "python",
   "name": "python3"
  },
  "language_info": {
   "codemirror_mode": {
    "name": "ipython",
    "version": 3
   },
   "file_extension": ".py",
   "mimetype": "text/x-python",
   "name": "python",
   "nbconvert_exporter": "python",
   "pygments_lexer": "ipython3",
   "version": "3.8.8"
  }
 },
 "nbformat": 4,
 "nbformat_minor": 5
}
